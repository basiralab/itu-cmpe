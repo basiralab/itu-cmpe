{
 "cells": [
  {
   "cell_type": "code",
   "execution_count": 2,
   "metadata": {},
   "outputs": [],
   "source": [
    "import numpy as np\n",
    "import matplotlib.pyplot as plt\n",
    "import moviepy.editor as mpy\n",
    "from scipy.signal import convolve2d\n",
    "import cv2\n",
    "\n",
    "import os"
   ]
  },
  {
   "cell_type": "code",
   "execution_count": 3,
   "metadata": {},
   "outputs": [],
   "source": [
    "def get_video_frames(fname):\n",
    "    video = mpy.VideoFileClip(fname)\n",
    "    n_frames = video.reader.nframes\n",
    "    fps = video.fps\n",
    "    \n",
    "    frames = []\n",
    "    for i in range(n_frames):\n",
    "        frame = video.get_frame(i*1.0/fps)\n",
    "        frames.append(frame)\n",
    "        \n",
    "    return frames, n_frames, fps"
   ]
  },
  {
   "cell_type": "code",
   "execution_count": 4,
   "metadata": {},
   "outputs": [],
   "source": [
    "def render_video(frames, fname, fps=30):\n",
    "    clip = mpy.ImageSequenceClip(frames, fps=fps)\n",
    "    clip.write_videofile(fname, codec='libx264')"
   ]
  },
  {
   "cell_type": "code",
   "execution_count": 5,
   "metadata": {},
   "outputs": [],
   "source": [
    "def lucas_kanade(image1, image2, points, window_size=5, blur_window_size=None, tau=1e-2, grayscale=False):\n",
    "    assert type(points) == list, \"Param 'points' must be type list\"\n",
    "    assert type(grayscale) == bool, \"Param 'grayscale' must be type bool\"\n",
    "    \n",
    "    if grayscale:\n",
    "        gray_im1 = image1\n",
    "        gray_im2 = image2\n",
    "    else:\n",
    "        gray_im1 = cv2.cvtColor(image1, cv2.COLOR_BGR2GRAY)\n",
    "        gray_im2 = cv2.cvtColor(image2, cv2.COLOR_BGR2GRAY)\n",
    "    \n",
    "    if blur_window_size:\n",
    "        assert type(blur_window_size) == int, \"Param 'blur_window_size' must be type int\"\n",
    "        gray_im1 = cv2.GaussianBlur(gray_im1, (blur_window_size, blur_window_size), 0)\n",
    "        gray_im2 = cv2.GaussianBlur(gray_im2, (blur_window_size, blur_window_size), 0)\n",
    "\n",
    "    of_directions = []\n",
    "    points_next = []\n",
    "    for point in points:\n",
    "        x_coord, y_coord = point\n",
    "        w = window_size // 2\n",
    "\n",
    "        x_filter = np.array([[-1, 1], [-1, 1]], np.float64) * 1/4\n",
    "        y_filter = np.array([[-1, -1], [1, 1]], np.float64) * 1/4\n",
    "        t_filter = np.array([[1, 1], [1, 1]], np.float64) * 1/4\n",
    "\n",
    "        Ix = convolve2d(gray_im1, x_filter, \"same\") + convolve2d(gray_im2, x_filter, \"same\")    # Derivative in X direction\n",
    "        Iy = convolve2d(gray_im1, y_filter, \"same\") + convolve2d(gray_im2, y_filter, \"same\")    # Derivative in Y direction\n",
    "        It = convolve2d(gray_im1, t_filter, \"same\") + convolve2d(gray_im2, -t_filter, \"same\")    # Derivative in XY direction\n",
    "\n",
    "        # Method applied below is explained here in details\n",
    "        # http://www.inf.fu-berlin.de/inst/ag-ki/rojas_home/documents/tutorials/Lucas-Kanade2.pdf\n",
    "        Sx = Ix[y_coord-w:y_coord+w+1, x_coord-w:x_coord+w+1].flatten()\n",
    "        Sy = Iy[y_coord-w:y_coord+w+1, x_coord-w:x_coord+w+1].flatten()\n",
    "        St = It[y_coord-w:y_coord+w+1, x_coord-w:x_coord+w+1].flatten()\n",
    "\n",
    "        S = np.array([[np.sum(np.power(Sx, 2)), np.sum(np.multiply(Sx, Sy))],\n",
    "                      [np.sum(np.multiply(Sx, Sy)), np.sum(np.power(Sy, 2))]])\n",
    "        U = np.array([[np.sum(np.multiply(Sx, St))],\n",
    "                      [np.sum(np.multiply(Sy, St))]])\n",
    "\n",
    "        # Instead of calculating the eigenvalues matrix by hand, I used pinv for a similar result\n",
    "        # pinv handles the ill condition for us <3\n",
    "        of_direction = np.dot(np.linalg.pinv(S), -U)\n",
    "        \n",
    "        of_directions.append(np.array([of_direction[0], of_direction[1]]))\n",
    "        x_next_coord = int(x_coord + np.round(of_direction[0]))\n",
    "        y_next_coord = int(y_coord + np.round(of_direction[1]))\n",
    "        points_next.append((x_next_coord, y_next_coord))\n",
    "    \n",
    "    of_directions = np.array(of_directions)\n",
    "    return points_next, of_directions"
   ]
  },
  {
   "cell_type": "code",
   "execution_count": 6,
   "metadata": {},
   "outputs": [],
   "source": [
    "def draw_arrow(frame, points, of_directions, scale_factor=5, color=(255, 190, 25), thickness=1, tip_length=0.3):\n",
    "    of_directions = of_directions.reshape((-1, 2))\n",
    "    points_next = np.round(np.add(points, np.multiply(of_directions, scale_factor)))\n",
    "    \n",
    "    start_pos = tuple(np.mean(points, axis=0, dtype=np.int32))\n",
    "    end_pos = tuple(np.mean(points_next, axis=0, dtype=np.int32))\n",
    "\n",
    "    # Default value for color is yellow (RGB)\n",
    "    frame = cv2.arrowedLine(frame, start_pos, end_pos, color, thickness, tipLength=tip_length)\n",
    "    return frame"
   ]
  },
  {
   "cell_type": "code",
   "execution_count": 7,
   "metadata": {},
   "outputs": [],
   "source": [
    "def inspect_frame(frame):\n",
    "    %matplotlib qt\n",
    "    plt.imshow(frame)"
   ]
  },
  {
   "cell_type": "code",
   "execution_count": 222,
   "metadata": {},
   "outputs": [],
   "source": [
    "video_fname = \"movie_001.avi\"\n",
    "frames, n_frames, fps = get_video_frames(video_fname)\n",
    "inspect_frame(frames[0])\n",
    "\n",
    "n_frames = 100\n",
    "frames = frames[:n_frames]"
   ]
  },
  {
   "cell_type": "code",
   "execution_count": 110,
   "metadata": {},
   "outputs": [],
   "source": [
    "def mask_ball(frame, color):\n",
    "    if color == \"b\":\n",
    "        lower = (65, 75, 225)\n",
    "        upper = (85, 95, 255)\n",
    "    elif color == \"r\":\n",
    "        pass\n",
    "    elif color == \"g\":\n",
    "        pass\n",
    "    elif color == \"p\":\n",
    "        pass\n",
    "    else:\n",
    "        assert RuntimeError, \"Color unrecognized\"\n",
    "        \n",
    "    mask = cv2.inRange(frame, lower, upper)\n",
    "    kernel = np.ones((7, 7), dtype=np.uint8)\n",
    "    erosion = cv2.erode(mask, kernel, iterations=1)\n",
    "    dilation = cv2.dilate(erosion, kernel, iterations=1)\n",
    "    mask = dilation\n",
    "    f_masked = cv2.bitwise_and(frame, frame, mask=mask)\n",
    "        \n",
    "    return mask, f_masked"
   ]
  },
  {
   "cell_type": "code",
   "execution_count": 131,
   "metadata": {},
   "outputs": [],
   "source": [
    "def remove_background(frame):\n",
    "    f_gray = cv2.cvtColor(frame, cv2.COLOR_RGB2GRAY)\n",
    "    \n",
    "    mask1 = cv2.inRange(f_gray, (190), (220))    # Gray bg\n",
    "    mask2 = cv2.inRange(f_gray, (240), (255))    # White bg\n",
    "    mask3 = cv2.inRange(f_gray, (0), (10))     # Black bg\n",
    "    \n",
    "    kernel = np.ones((3, 3), dtype=np.uint8)\n",
    "    mask1 = cv2.morphologyEx(mask1, cv2.MORPH_OPEN, kernel)\n",
    "    \n",
    "    mask = mask1 + mask2 + mask3\n",
    "    f_deleted = frame.copy()\n",
    "    f_deleted[mask==255] = (255, 255, 255)\n",
    "    return mask, f_deleted"
   ]
  },
  {
   "cell_type": "code",
   "execution_count": 223,
   "metadata": {},
   "outputs": [],
   "source": [
    "%matplotlib qt\n",
    "test_frame = frames[16].copy()\n",
    "# resized_frame = cv2.cvtColor(resized_frame, cv2.COLOR_RGB2GRAY)\n",
    "# resized_frame = cv2.resize(resized_frame, (180, 120), interpolation=cv2.INTER_AREA)\n",
    "mask, test_frame = remove_background(test_frame)\n",
    "\n",
    "mask, f_masked = mask_ball(test_frame, color=\"b\")\n",
    "\n",
    "fig, axes = plt.subplots(nrows=1, ncols=3, figsize=(18, 10))\n",
    "axes[0].imshow(mask, cmap=\"gray\")\n",
    "axes[0].set_title(\"Mask\")\n",
    "axes[1].imshow(f_masked)\n",
    "axes[1].set_title(\"Masked Ball (RGB)\")\n",
    "axes[2].imshow(test_frame, cmap=\"gray\")\n",
    "axes[2].set_title(\"Test Frame\")\n",
    "[axis.axis(\"off\") for axis in axes]\n",
    "plt.tight_layout()\n",
    "plt.show()"
   ]
  },
  {
   "cell_type": "markdown",
   "metadata": {},
   "source": [
    "#### Self-Implemented Lucas Kanade"
   ]
  },
  {
   "cell_type": "code",
   "execution_count": 34,
   "metadata": {},
   "outputs": [
    {
     "name": "stderr",
     "output_type": "stream",
     "text": [
      "t:  40%|████      | 40/100 [00:00<00:00, 395.90it/s, now=None]"
     ]
    },
    {
     "name": "stdout",
     "output_type": "stream",
     "text": [
      "Moviepy - Building video movie_001_output.avi.\n",
      "Moviepy - Writing video movie_001_output.avi\n",
      "\n"
     ]
    },
    {
     "name": "stderr",
     "output_type": "stream",
     "text": [
      "                                                              "
     ]
    },
    {
     "name": "stdout",
     "output_type": "stream",
     "text": [
      "Moviepy - Done !\n",
      "Moviepy - video ready movie_001_output.avi\n"
     ]
    },
    {
     "name": "stderr",
     "output_type": "stream",
     "text": [
      "\r"
     ]
    }
   ],
   "source": [
    "%matplotlib inline\n",
    "video_fname = \"movie_001.avi\"\n",
    "frames, n_frames, fps = get_video_frames(video_fname)\n",
    "\n",
    "# for idx, frame in enumerate(frames):\n",
    "#     frames[idx] = cv2.resize(frame, (180, 120), interpolation=cv2.INTER_AREA)\n",
    "\n",
    "n_frames = 100\n",
    "frames = frames[:n_frames]\n",
    "\n",
    "blue_p = [(194, 167), (217, 169), (194, 183), (217, 187)]    # LT, RT, LB, RB\n",
    "# blue_p = [(49, 40), (53, 40), (49, 46), (53, 46)]\n",
    "\n",
    "i = 0\n",
    "while i < n_frames - 2:\n",
    "    f = frames[i]\n",
    "    f_next = frames[i+1]\n",
    "    f_next2 = frames[i+2]\n",
    "    \n",
    "    f_mask, _ = mask_ball(f, \"b\")\n",
    "    f_next2_mask, _ = mask_ball(f_next2, \"b\")\n",
    "    \n",
    "    next_blue_p, of_directions = lucas_kanade(f_mask, f_next2_mask, blue_p, window_size=3, blur_window_size=None, grayscale=True)\n",
    "    \n",
    "    frames[i] = draw_arrow(f, blue_p, of_directions, scale_factor=8, thickness=2, tip_length=0.2)\n",
    "    blue_p = next_blue_p\n",
    "    i += 1\n",
    "    \n",
    "render_video(frames, \"movie_001_output.avi\", fps=4)"
   ]
  },
  {
   "cell_type": "markdown",
   "metadata": {},
   "source": [
    "#### OpenCV OF Method"
   ]
  },
  {
   "cell_type": "code",
   "execution_count": 217,
   "metadata": {},
   "outputs": [
    {
     "name": "stdout",
     "output_type": "stream",
     "text": [
      "36674.095031275414\n"
     ]
    }
   ],
   "source": [
    "%matplotlib inline\n",
    "video_fname = \"movie_001.avi\"\n",
    "frames, n_frames, fps = get_video_frames(video_fname)\n",
    "\n",
    "# n_frames = 100\n",
    "# frames = frames[:n_frames]\n",
    "mean_dist = 0\n",
    "\n",
    "# params for ShiTomasi corner detection\n",
    "feature_params = dict(maxCorners=100,\n",
    "                      qualityLevel=0.3,\n",
    "                      minDistance=7,\n",
    "                      blockSize=7)\n",
    "\n",
    "# Parameters for lucas kanade optical flow\n",
    "lk_params = dict(winSize=(13, 13),\n",
    "                 maxLevel=3,\n",
    "                 criteria=(cv2.TERM_CRITERIA_EPS | cv2.TERM_CRITERIA_COUNT, 10, 0.03))\n",
    "\n",
    "# Take first frame and find corners in it\n",
    "f_o = frames[0].copy()\n",
    "_, f_o = remove_background(f_o)\n",
    "f_o_gray, _ = mask_ball(f_o, color=\"b\")\n",
    "\n",
    "p0 = cv2.goodFeaturesToTrack(f_o_gray, mask=None, **feature_params)\n",
    "\n",
    "i = 0\n",
    "while i < n_frames - 1:\n",
    "    f = frames[i].copy()\n",
    "    _, f = remove_background(f)\n",
    "    f_gray, _ = mask_ball(f, color=\"b\")\n",
    "    \n",
    "    # calculate optical flow\n",
    "    p1, st, err = cv2.calcOpticalFlowPyrLK(f_o_gray, f_gray, p0, None, **lk_params)\n",
    "    \n",
    "    # select good points\n",
    "    good_new = p1[st==1]\n",
    "    good_old = p0[st==1]\n",
    "    \n",
    "    # Check for untracked points\n",
    "    while (len(good_new) == 0 or len(good_old) == 0) and i < n_frames - 1:\n",
    "        # Next iteration\n",
    "        i += 1\n",
    "        f_o = frames[i].copy()\n",
    "        _, f_o = remove_background(f_o)\n",
    "        f_o_gray, _ = mask_ball(f_o, color=\"b\")\n",
    "        p0 = cv2.goodFeaturesToTrack(f_o_gray, mask=None, **feature_params)\n",
    "        if p0 is None:\n",
    "            i += 1\n",
    "        else:\n",
    "            p1, st, err = cv2.calcOpticalFlowPyrLK(f_o_gray, f_gray, p0, None, **lk_params)\n",
    "\n",
    "            # select good points\n",
    "            good_new = p1[st==1]\n",
    "            good_old = p0[st==1]\n",
    "\n",
    "    # Calculate distances\n",
    "    diff = np.subtract(good_old, good_new)\n",
    "    dist = np.sqrt(np.sum(np.power(diff, 2), axis=1))\n",
    "    mean_dist += np.mean(dist, axis=0)\n",
    "    \n",
    "    # Now update the previous frame and previous points\n",
    "    f_o_gray = f_gray.copy()\n",
    "    p0 = good_new.reshape(-1, 1, 2)\n",
    "        \n",
    "    # Next iteration\n",
    "    i+=1\n",
    "    \n",
    "print(mean_dist)"
   ]
  }
 ],
 "metadata": {
  "kernelspec": {
   "display_name": "Python 3",
   "language": "python",
   "name": "python3"
  },
  "language_info": {
   "codemirror_mode": {
    "name": "ipython",
    "version": 3
   },
   "file_extension": ".py",
   "mimetype": "text/x-python",
   "name": "python",
   "nbconvert_exporter": "python",
   "pygments_lexer": "ipython3",
   "version": "3.7.9"
  }
 },
 "nbformat": 4,
 "nbformat_minor": 4
}
