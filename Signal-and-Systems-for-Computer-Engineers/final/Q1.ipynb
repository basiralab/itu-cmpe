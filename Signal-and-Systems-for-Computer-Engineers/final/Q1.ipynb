{
 "cells": [
  {
   "cell_type": "code",
   "execution_count": 1,
   "metadata": {},
   "outputs": [
    {
     "data": {
      "text/plain": [
       "True"
      ]
     },
     "execution_count": 1,
     "metadata": {},
     "output_type": "execute_result"
    }
   ],
   "source": [
    "import numpy as np \n",
    "import cv2\n",
    "#import scipy.fftpack as fftpk\n",
    "#from scipy.fftpack import fft\n",
    "\n",
    "image1 = cv2.imread('lena_grayscale.jpg', cv2.IMREAD_GRAYSCALE)  #Reads grayscale image \n",
    "image2 = cv2.imread('fabric_grayscale.jpg', cv2.IMREAD_GRAYSCALE) #Reads grayscale image \n",
    "\n",
    "# Taking FFT of images\n",
    "fft_image1 = np.fft.fft2(image1)\n",
    "fft_image2 = np.fft.fft2(image2)\n",
    "\n",
    "# Calculating Image1 Magnitude and Phase\n",
    "image1_magnitude = np.abs(fft_image1)\n",
    "image1_phase = np.exp(1j*np.angle(fft_image1))\n",
    "\n",
    "# Calculating Image2 Magnitude and Phase\n",
    "image2_magnitude = np.abs(fft_image2)\n",
    "image2_phase = np.exp(1j*np.angle(fft_image2))\n",
    "\n",
    "# Combining magnitude of first image and phase of second image\n",
    "new_image_freq_rept1 = image1_magnitude*image2_phase\n",
    "# Combining magnitude of second image and phase of first image\n",
    "new_image_freq_rept2 = image2_magnitude*image1_phase\n",
    "\n",
    "# Taking inverse fft of image1 and only taking real part of result. \n",
    "new_image1 = (np.fft.ifft2(new_image_freq_rept1)).real\n",
    "# Normalization\n",
    "new_image1 = (new_image1 - np.min(new_image1))/(np.max(new_image1)-np.min(new_image1))*255\n",
    "\n",
    "# Taking inverse fft of image2 and only taking real part of result. \n",
    "new_image2 = (np.fft.ifft2(new_image_freq_rept2)).real\n",
    "# Normalization\n",
    "new_image2 = (new_image2 - np.min(new_image2))/(np.max(new_image2)-np.min(new_image2))*255\n",
    "\n",
    "cv2.imwrite('image1.jpg',new_image1)\n",
    "cv2.imwrite('image2.jpg',new_image2)"
   ]
  },
  {
   "cell_type": "code",
   "execution_count": null,
   "metadata": {},
   "outputs": [],
   "source": []
  }
 ],
 "metadata": {
  "kernelspec": {
   "display_name": "Python 3",
   "language": "python",
   "name": "python3"
  },
  "language_info": {
   "codemirror_mode": {
    "name": "ipython",
    "version": 3
   },
   "file_extension": ".py",
   "mimetype": "text/x-python",
   "name": "python",
   "nbconvert_exporter": "python",
   "pygments_lexer": "ipython3",
   "version": "3.7.6"
  }
 },
 "nbformat": 4,
 "nbformat_minor": 4
}
