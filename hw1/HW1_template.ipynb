{
 "cells": [
  {
   "cell_type": "code",
   "execution_count": 1,
   "metadata": {
    "collapsed": true
   },
   "outputs": [],
   "source": [
    "#your name and surname\n",
    "#your student ID\n",
    "#########################\n",
    "import numpy as np\n",
    "import pandas as pd\n",
    "import matplotlib.pyplot as plt\n",
    "import matplotlib\n",
    "import math\n",
    "import random\n",
    "#import any other non-machine learning modules that you wish\n",
    "#SHORTCUTS: Alt + Enter includes new cell below, CTRL + Enter executes the current cell\n",
    "##########################\n",
    "df1 = pd.read_csv(\"train1.csv\") \n",
    "df2 = pd.read_csv(\"train2.csv\") \n",
    "df2m = pd.read_csv(\"train2_modified.csv\") #will be used in Part D"
   ]
  },
  {
   "cell_type": "code",
   "execution_count": 2,
   "metadata": {},
   "outputs": [
    {
     "name": "stdout",
     "output_type": "stream",
     "text": [
      "           x1        x2  y\n",
      "0   -0.260234  2.767817  0\n",
      "1    3.466190  6.054691  1\n",
      "2   -2.036224  4.491902  0\n",
      "3    2.434426  6.638656  1\n",
      "4   -0.541338  3.210246  0\n",
      "5    1.873406  8.177618  1\n",
      "6   -2.972132  2.392596  0\n",
      "7    2.394965  5.723560  1\n",
      "8    1.514142  7.668679  1\n",
      "9    0.563622  7.673720  1\n",
      "10   2.458662  6.210246  1\n",
      "11  -2.693311  3.414873  0\n",
      "12   4.958882  2.513147  1\n",
      "13  -0.197478  5.340615  1\n",
      "14   2.717206  6.351128  1\n",
      "15  -0.665288  3.517672  0\n",
      "16   0.115434  0.540752  0\n",
      "17   1.637765  7.512790  1\n",
      "18   2.535947  6.034393  1\n",
      "19  -1.082145  2.596857  0\n",
      "20  -0.635644  4.848119  0\n",
      "21  -0.979171  4.365201  0\n",
      "22  -2.842000  4.494381  0\n",
      "23  -0.714753  4.510968  0\n",
      "24   1.574653  1.063995  0\n",
      "25   2.251013  4.378819  1\n",
      "26   2.681824  7.062246  1\n",
      "27   3.486667  3.681108  1\n",
      "28  -1.515356  2.352268  0\n",
      "29  -1.485858  4.668679  0\n",
      "..        ...       ... ..\n",
      "170  2.618961  6.500097  1\n",
      "171  0.158000  7.494381  1\n",
      "172  2.291857  5.279079  1\n",
      "173  3.359871  4.629356  1\n",
      "174  2.500872  5.241821  1\n",
      "175 -1.783291  6.024683  0\n",
      "176  2.999311  8.389704  1\n",
      "177  1.932218  6.328763  1\n",
      "178  0.390450  5.359099  0\n",
      "179 -2.456648  2.428154  0\n",
      "180 -1.295175  3.503866  0\n",
      "181 -0.712191  3.800448  0\n",
      "182 -0.361063  2.043589  0\n",
      "183 -0.965051  2.084509  0\n",
      "184  0.351309  1.252191  0\n",
      "185  0.696005  5.631249  1\n",
      "186 -0.000689  5.389704  0\n",
      "187 -0.617981  4.883252  0\n",
      "188  3.737360  4.419355  1\n",
      "189 -0.289343  2.432596  0\n",
      "190 -0.237824  7.278913  1\n",
      "191 -1.214744  2.078307  0\n",
      "192  1.929704  8.342193  1\n",
      "193 -0.853980  1.974294  0\n",
      "194  0.963776  7.491902  1\n",
      "195  1.832132  6.247191  1\n",
      "196  1.215533  5.750448  1\n",
      "197 -0.464053  3.034393  0\n",
      "198  2.638937  5.043589  1\n",
      "199 -0.439450  3.853694  0\n",
      "\n",
      "[200 rows x 3 columns]\n"
     ]
    }
   ],
   "source": [
    "#By printing a dataframe, you can view the data in csv format\n",
    "print(df1)\n"
   ]
  },
  {
   "cell_type": "code",
   "execution_count": 3,
   "metadata": {},
   "outputs": [
    {
     "name": "stdout",
     "output_type": "stream",
     "text": [
      "Index(['x1', 'x2', 'y'], dtype='object')\n"
     ]
    }
   ],
   "source": [
    "#You can extract keys from dataframe, which you can use to extract features or labels.\n",
    "print(df1.keys())\n",
    "df1_x1 = df1['x1']\n",
    "df1_x2 = df1['x2']\n",
    "#To extract data as numpy array:\n",
    "df1_numpy = df1.values\n",
    "#You can also extract a specific feature as numpy array as well.\n",
    "df1_x1_numpy = df1['x1'].values"
   ]
  },
  {
   "cell_type": "code",
   "execution_count": 24,
   "metadata": {},
   "outputs": [
    {
     "name": "stdout",
     "output_type": "stream",
     "text": [
      "(200, 2)\n",
      "(200,)\n",
      "[[ 1.1470413  -0.37697361]\n",
      " [-0.37697361  2.1043151 ]]\n",
      "[[ 1.1470413  -0.37697361]\n",
      " [-0.37697361  2.1043151 ]]\n"
     ]
    }
   ],
   "source": [
    "df2_numpy = df1.values\n",
    "data = df2_numpy[:, 0:2]\n",
    "labels = df2_numpy[:, 2]\n",
    "print(data.shape)\n",
    "print(labels.shape)\n",
    "data_0 = data[labels == 0]\n",
    "data_1 = data[labels == 1]\n",
    "\n",
    "print(np.cov(np.transpose(data_0)))\n",
    "print(np.cov(np.transpose(data_1)))"
   ]
  },
  {
   "cell_type": "markdown",
   "metadata": {},
   "source": [
    "# Add your comments as markdown cells(This is a markdown cell).\n",
    "\n",
    "## To add a markdown cell, simply click on a cell, then click on the 'Cell' tab above, change 'Cell Type' to 'Markdown'\n",
    "\n",
    "Then add your comment! To view the format of this markdown cell, double click on here.\n",
    "\n",
    "### Note: We provide you with example codes for starter, but feel free to delete anything we provide and write your own code, as long as you use allowed libraries and modules. "
   ]
  },
  {
   "cell_type": "markdown",
   "metadata": {},
   "source": [
    "## Part A: Examine training sets"
   ]
  },
  {
   "cell_type": "code",
   "execution_count": null,
   "metadata": {
    "collapsed": true
   },
   "outputs": [],
   "source": [
    "#PART A: Examine training sets here. plots etc.\n",
    "#Hint: df1_class0 = df1[df1['column_name']==0] creates a new dataframe and includes samples (rows) whose class values are 0\n",
    "#hint: for data distribution plots use plt.scatter(x-axis,y-axis,other params. check online)\n",
    "#Hint: for each new plot use plt.figure() so they won't overlap, one on top of another\n",
    "#-------\n",
    "#to plot cov. matrices you may use following code: (compute 'cov_mtrx' by yourself)\n",
    "alpha = ['x1', 'x2']\n",
    "fig = plt.figure()\n",
    "ax = fig.add_subplot(111)\n",
    "cax = ax.matshow(cov_mtrx,interpolation='nearest') #cov. matrix of dataset1\n",
    "fig.colorbar(cax)\n",
    "ax.set_xticklabels(['']+alpha)\n",
    "ax.set_yticklabels(['']+alpha)\n",
    "#---------\n",
    "#for the histogram plots use plt.hist() (Remember: 4 of them we want)\n",
    "#for title use: plt.gca().set(title='Data distribution of feature x of trainingSet y', ylabel='Frequency')"
   ]
  },
  {
   "cell_type": "markdown",
   "metadata": {},
   "source": [
    "## Part B: Implement Naive Bayes Classifier"
   ]
  },
  {
   "cell_type": "code",
   "execution_count": null,
   "metadata": {
    "collapsed": true
   },
   "outputs": [],
   "source": [
    "#Implement PART B:\n",
    "test1 = df.read_csv(\"test1.csv\")\n",
    "test2 = df.read_csv(\"test2.csv\")"
   ]
  },
  {
   "cell_type": "markdown",
   "metadata": {},
   "source": [
    "## Part C: Implement K-Fold Cross Validation"
   ]
  },
  {
   "cell_type": "code",
   "execution_count": null,
   "metadata": {
    "collapsed": true
   },
   "outputs": [],
   "source": [
    "#Implement PART C:"
   ]
  },
  {
   "cell_type": "markdown",
   "metadata": {},
   "source": [
    "## Part D: Redo the experiments on modified Dataset 2"
   ]
  },
  {
   "cell_type": "code",
   "execution_count": null,
   "metadata": {
    "collapsed": true
   },
   "outputs": [],
   "source": [
    "#Implement Part D:"
   ]
  }
 ],
 "metadata": {
  "kernelspec": {
   "display_name": "Python 3",
   "language": "python",
   "name": "python3"
  },
  "language_info": {
   "codemirror_mode": {
    "name": "ipython",
    "version": 3
   },
   "file_extension": ".py",
   "mimetype": "text/x-python",
   "name": "python",
   "nbconvert_exporter": "python",
   "pygments_lexer": "ipython3",
   "version": "3.7.6"
  }
 },
 "nbformat": 4,
 "nbformat_minor": 4
}
