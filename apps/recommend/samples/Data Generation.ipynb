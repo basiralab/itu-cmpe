{
 "cells": [
  {
   "cell_type": "code",
   "execution_count": 1,
   "metadata": {},
   "outputs": [],
   "source": [
    "import os\n",
    "import pandas as pd\n",
    "import numpy as np"
   ]
  },
  {
   "cell_type": "code",
   "execution_count": 55,
   "metadata": {},
   "outputs": [],
   "source": [
    "class Job():\n",
    "    def __init__(self, job_id, name, company, desc):\n",
    "        self.job_id = job_id\n",
    "        self.name = name\n",
    "        self.company = company\n",
    "        self.desc = desc\n",
    "        self.cats = None\n",
    "    \n",
    "    def set_cats(self, cats):\n",
    "        self.cats = cats\n",
    "        \n",
    "    def __str__(self):\n",
    "        return self.name"
   ]
  },
  {
   "cell_type": "code",
   "execution_count": 57,
   "metadata": {},
   "outputs": [],
   "source": [
    "jobs = []\n",
    "for f_name in os.listdir(\"jobs\"):\n",
    "    with open(\"jobs/\" + f_name, \"r\") as f:\n",
    "        job_id = len(jobs)\n",
    "        name = f.readline().rstrip(\"\\n\")\n",
    "        company = f.readline().rstrip(\"\\n\")\n",
    "        cats = f.readline().rstrip(\"\\n\")\n",
    "        desc = f.read().replace(\"\\n\", \" \")\n",
    "        job = Job(job_id, name, company, desc)\n",
    "        cat_l = np.zeros(9)\n",
    "        if \"Machine Learning\" in cats:\n",
    "            cat_l[0] = 1\n",
    "        if \"Computer Vision\" in cats:\n",
    "            cat_l[1] = 1\n",
    "        if \"Computer Security\" in cats:\n",
    "            cat_l[2] = 1\n",
    "        if \"Software Engineering\" in cats:\n",
    "            cat_l[3] = 1\n",
    "        if \"Algorithms\" in cats:\n",
    "            cat_l[4] = 1\n",
    "        if \"Statistics\" in cats:\n",
    "            cat_l[5] = 1\n",
    "        if \"Web Development\" in cats:\n",
    "            cat_l[6] = 1\n",
    "        if \"Systems Programming\" in cats:\n",
    "            cat_l[7] = 1\n",
    "        if \"Computer Communications\" in cats:\n",
    "            cat_l[8] = 1\n",
    "        job.set_cats(cat_l)\n",
    "        jobs.append(job)"
   ]
  },
  {
   "cell_type": "code",
   "execution_count": 58,
   "metadata": {},
   "outputs": [],
   "source": [
    "class User():\n",
    "    def __init__(self, user_id):\n",
    "        self.user_id = user_id\n",
    "        self.skills = np.random.randint(0, 2, size=(9))\n",
    "        self.degree = np.random.randint(0, 2)\n",
    "        self.majors = np.random.randint(0, 2)\n",
    "        self.uni = np.random.randint(0, 3)\n",
    "        self.exp = np.random.randint(0, 11)\n",
    "        \n",
    "    def calculate_apply(self, job_cat):\n",
    "        p =  1 - np.abs(job_cat - self.skills).mean()\n",
    "        return np.random.binomial(n=1, p=p)"
   ]
  },
  {
   "cell_type": "code",
   "execution_count": 59,
   "metadata": {},
   "outputs": [],
   "source": [
    "users = []\n",
    "for i in range(30):\n",
    "    users.append(User(i))"
   ]
  },
  {
   "cell_type": "code",
   "execution_count": 65,
   "metadata": {},
   "outputs": [],
   "source": [
    "applied = np.zeros(shape=(38 * 30, 3))\n",
    "i = 0\n",
    "for user in users:\n",
    "    for job in jobs:\n",
    "        applied[i, :] = np.array([user.user_id, job.job_id, user.calculate_apply(job.cats)])\n",
    "        i += 1"
   ]
  },
  {
   "cell_type": "code",
   "execution_count": 70,
   "metadata": {},
   "outputs": [],
   "source": [
    "applied_df = pd.DataFrame(data=applied, columns=[\"UserID\", \"JobID\", \"Applied\"])"
   ]
  },
  {
   "cell_type": "code",
   "execution_count": 86,
   "metadata": {},
   "outputs": [
    {
     "data": {
      "text/plain": [
       "UserID\n",
       "0.0     23.0\n",
       "1.0     21.0\n",
       "2.0     26.0\n",
       "3.0     16.0\n",
       "4.0     24.0\n",
       "5.0     23.0\n",
       "6.0     21.0\n",
       "7.0     22.0\n",
       "8.0     17.0\n",
       "9.0     16.0\n",
       "10.0    24.0\n",
       "11.0    19.0\n",
       "12.0    17.0\n",
       "13.0    16.0\n",
       "14.0     7.0\n",
       "15.0    13.0\n",
       "16.0    21.0\n",
       "17.0    16.0\n",
       "18.0    22.0\n",
       "19.0    19.0\n",
       "20.0    22.0\n",
       "21.0    23.0\n",
       "22.0    19.0\n",
       "23.0    18.0\n",
       "24.0     9.0\n",
       "25.0    19.0\n",
       "26.0    15.0\n",
       "27.0    17.0\n",
       "28.0    18.0\n",
       "29.0    21.0\n",
       "Name: Applied, dtype: float64"
      ]
     },
     "execution_count": 86,
     "metadata": {},
     "output_type": "execute_result"
    }
   ],
   "source": [
    "applied_df.groupby(\"UserID\").Applied.sum()"
   ]
  },
  {
   "cell_type": "code",
   "execution_count": 87,
   "metadata": {},
   "outputs": [],
   "source": [
    "import pickle"
   ]
  },
  {
   "cell_type": "code",
   "execution_count": 90,
   "metadata": {},
   "outputs": [],
   "source": [
    "users_arr = np.zeros(shape=(30, 14))\n",
    "for i in range(30):\n",
    "    users_arr[i, 0] = users[i].user_id\n",
    "    users_arr[i, 1:10] = users[i].skills\n",
    "    users_arr[i, 10] = users[i].degree\n",
    "    users_arr[i, 11] = users[i].majors\n",
    "    users_arr[i, 12] = users[i].uni\n",
    "    users_arr[i, 13] = users[i].exp"
   ]
  },
  {
   "cell_type": "code",
   "execution_count": 133,
   "metadata": {},
   "outputs": [],
   "source": [
    "users_df = pd.DataFrame(data=users_arr, columns=[\"UserID\"] + [\"Skill_\" + str(i) for i in range(9)] +\\\n",
    "                       [\"Degree\", \"Majors\", \"University\", \"Experience\"])"
   ]
  },
  {
   "cell_type": "code",
   "execution_count": 135,
   "metadata": {},
   "outputs": [],
   "source": [
    "with open(\"users_df.p\", \"wb\") as f:\n",
    "    pickle.dump(users_df, f)"
   ]
  },
  {
   "cell_type": "code",
   "execution_count": 94,
   "metadata": {},
   "outputs": [],
   "source": [
    "with open(\"users_arr.p\", \"wb\") as f:\n",
    "    pickle.dump(users_arr, f)\n",
    "    \n",
    "with open(\"applied_df.p\", \"wb\") as f:\n",
    "    pickle.dump(applied_df, f)"
   ]
  },
  {
   "cell_type": "code",
   "execution_count": 96,
   "metadata": {},
   "outputs": [],
   "source": [
    "with open(\"jobs_pylist.p\", \"wb\") as f:\n",
    "    pickle.dump(jobs, f)\n",
    "    \n",
    "with open(\"users_pylist.p\", \"wb\") as f:\n",
    "    pickle.dump(users, f)"
   ]
  },
  {
   "cell_type": "code",
   "execution_count": 103,
   "metadata": {},
   "outputs": [],
   "source": [
    "embeddings = {}\n",
    "with open(\"wordvec/glove.6B.50d.txt\", \"r\") as f:\n",
    "    for line in f:\n",
    "        l = line.split()\n",
    "        embeddings[l[0]] = np.array(l[1:], dtype=np.float)"
   ]
  },
  {
   "cell_type": "code",
   "execution_count": 105,
   "metadata": {},
   "outputs": [],
   "source": [
    "with open(\"embeddings.p\", \"wb\") as f:\n",
    "    pickle.dump(embeddings, f)"
   ]
  },
  {
   "cell_type": "code",
   "execution_count": 108,
   "metadata": {},
   "outputs": [],
   "source": [
    "import string"
   ]
  },
  {
   "cell_type": "code",
   "execution_count": 109,
   "metadata": {},
   "outputs": [],
   "source": [
    "def doc2vec(inp, embeddings):\n",
    "    \"\"\"\n",
    "    Inputs:\n",
    "    @inp: Input string to be converted into vector\n",
    "    @embeddings: Dictionary keeping all the embeddings for vocabulary\n",
    "    \n",
    "    Outputs:\n",
    "    Returns normalized embedding vector for the given inp\n",
    "    \"\"\"\n",
    "    inp = inp.translate(str.maketrans('', '', string.punctuation))\n",
    "    inp = inp.lower()\n",
    "    inp_val = np.zeros((50,), dtype=np.float64)\n",
    "    inp_len = len(inp.split())\n",
    "    for w in inp.split():\n",
    "        inp_val += embeddings.get(w, inp_val)\n",
    "    return inp_val / inp_len"
   ]
  },
  {
   "cell_type": "code",
   "execution_count": 125,
   "metadata": {},
   "outputs": [],
   "source": [
    "job_features_arr = np.zeros((38, 101))"
   ]
  },
  {
   "cell_type": "code",
   "execution_count": 126,
   "metadata": {},
   "outputs": [],
   "source": [
    "for i, job in enumerate(jobs):\n",
    "    job_features_arr[i, 0] = job.job_id\n",
    "    job_features_arr[i, 1:51] = doc2vec(job.name, embeddings)\n",
    "    job_features_arr[i, 51:] = doc2vec(job.desc, embeddings)"
   ]
  },
  {
   "cell_type": "code",
   "execution_count": 128,
   "metadata": {},
   "outputs": [],
   "source": [
    "job_features_df = pd.DataFrame(data=job_features_arr, columns=[\"JobID\"] + [\"em_\" + str(i) for i in range(100)])"
   ]
  },
  {
   "cell_type": "code",
   "execution_count": 132,
   "metadata": {},
   "outputs": [],
   "source": [
    "with open(\"job_features_df.p\", \"wb\") as f:\n",
    "    pickle.dump(job_features_df, f)"
   ]
  }
 ],
 "metadata": {
  "@webio": {
   "lastCommId": null,
   "lastKernelId": null
  },
  "kernelspec": {
   "display_name": "Python 3",
   "language": "python",
   "name": "python3"
  },
  "language_info": {
   "codemirror_mode": {
    "name": "ipython",
    "version": 3
   },
   "file_extension": ".py",
   "mimetype": "text/x-python",
   "name": "python",
   "nbconvert_exporter": "python",
   "pygments_lexer": "ipython3",
   "version": "3.7.7"
  }
 },
 "nbformat": 4,
 "nbformat_minor": 4
}
