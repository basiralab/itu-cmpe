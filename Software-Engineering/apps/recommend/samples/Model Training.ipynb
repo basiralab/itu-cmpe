{
 "cells": [
  {
   "cell_type": "code",
   "execution_count": 1,
   "metadata": {},
   "outputs": [],
   "source": [
    "import numpy as np\n",
    "import pandas as pd\n",
    "import lightgbm as lgb\n",
    "import string\n",
    "import pickle\n",
    "from sklearn.model_selection import train_test_split\n",
    "from imblearn.over_sampling import RandomOverSampler"
   ]
  },
  {
   "cell_type": "code",
   "execution_count": 2,
   "metadata": {},
   "outputs": [],
   "source": [
    "users, jobs, applied = None, None, None"
   ]
  },
  {
   "cell_type": "code",
   "execution_count": 3,
   "metadata": {},
   "outputs": [],
   "source": [
    "with open(\"Data/users_df.p\", \"rb\") as f:\n",
    "    users = pickle.load(f)\n",
    "with open(\"Data/jobs_df.p\", \"rb\") as f:\n",
    "    jobs = pickle.load(f)\n",
    "with open(\"Data/applied_df.p\", \"rb\") as f:\n",
    "    applied = pickle.load(f)"
   ]
  },
  {
   "cell_type": "code",
   "execution_count": 5,
   "metadata": {},
   "outputs": [],
   "source": [
    "merged = applied.join(users, on=\"UserID\", rsuffix=\"_\").drop([\"UserID_\"], axis=1)\n",
    "merged = merged.join(jobs, on=\"JobID\", rsuffix=\"_\").drop([\"JobID_\"], axis=1)"
   ]
  },
  {
   "cell_type": "code",
   "execution_count": 6,
   "metadata": {},
   "outputs": [],
   "source": [
    "train, test = train_test_split(merged, test_size=0.1, random_state=0)"
   ]
  },
  {
   "cell_type": "code",
   "execution_count": 7,
   "metadata": {},
   "outputs": [],
   "source": [
    "train, val = train_test_split(train, test_size=0.1, random_state=0)"
   ]
  },
  {
   "cell_type": "code",
   "execution_count": 8,
   "metadata": {},
   "outputs": [],
   "source": [
    "X_train, y_train = train.drop([\"Applied\"], axis=1), train.Applied\n",
    "X_val, y_val = val.drop([\"Applied\"], axis=1), val.Applied\n",
    "X_test, y_test = test.drop([\"Applied\"], axis=1), test.Applied"
   ]
  },
  {
   "cell_type": "code",
   "execution_count": 9,
   "metadata": {},
   "outputs": [],
   "source": [
    "X_train_arr = np.array(X_train)[:, 2:]\n",
    "y_train_arr = np.array(y_train)"
   ]
  },
  {
   "cell_type": "code",
   "execution_count": 10,
   "metadata": {},
   "outputs": [
    {
     "data": {
      "text/plain": [
       "923"
      ]
     },
     "execution_count": 10,
     "metadata": {},
     "output_type": "execute_result"
    }
   ],
   "source": [
    "X_train_arr.shape[0]"
   ]
  },
  {
   "cell_type": "code",
   "execution_count": 11,
   "metadata": {},
   "outputs": [],
   "source": [
    "X_val_arr = np.array(X_val)[:, 2:]\n",
    "y_val_arr = np.array(y_val)"
   ]
  },
  {
   "cell_type": "code",
   "execution_count": 12,
   "metadata": {},
   "outputs": [],
   "source": [
    "X_test_arr = np.array(X_test)[:, 2:]\n",
    "y_test_arr = np.array(y_test)"
   ]
  },
  {
   "cell_type": "code",
   "execution_count": 21,
   "metadata": {},
   "outputs": [],
   "source": [
    "resampler = RandomOverSampler(random_state=0)\n",
    "X_train_arr, y_train_arr = resampler.fit_resample(X_train_arr, y_train_arr)"
   ]
  },
  {
   "cell_type": "code",
   "execution_count": 14,
   "metadata": {},
   "outputs": [
    {
     "data": {
      "text/plain": [
       "940"
      ]
     },
     "execution_count": 14,
     "metadata": {},
     "output_type": "execute_result"
    }
   ],
   "source": [
    "X_train_arr.shape[0]"
   ]
  },
  {
   "cell_type": "code",
   "execution_count": 15,
   "metadata": {},
   "outputs": [],
   "source": [
    "query_train = [X_train_arr.shape[0]]\n",
    "query_val = [X_val_arr.shape[0]]\n",
    "query_test = [X_test_arr.shape[0]]"
   ]
  },
  {
   "cell_type": "code",
   "execution_count": 73,
   "metadata": {},
   "outputs": [],
   "source": [
    "model = lgb.LGBMRanker(random_state=0, boosting_type=\"gbdt\", learning_rate=0.2)"
   ]
  },
  {
   "cell_type": "code",
   "execution_count": 100,
   "metadata": {
    "scrolled": false
   },
   "outputs": [
    {
     "name": "stdout",
     "output_type": "stream",
     "text": [
      "[1]\tvalid_0's ndcg@5: 0.66084\tvalid_0's ndcg@25: 0.518089\tvalid_0's ndcg@103: 0.824312\n",
      "Training until validation scores don't improve for 50 rounds\n",
      "[2]\tvalid_0's ndcg@5: 0.50874\tvalid_0's ndcg@25: 0.572804\tvalid_0's ndcg@103: 0.840211\n",
      "[3]\tvalid_0's ndcg@5: 0.383566\tvalid_0's ndcg@25: 0.458429\tvalid_0's ndcg@103: 0.801628\n",
      "[4]\tvalid_0's ndcg@5: 0.529635\tvalid_0's ndcg@25: 0.504864\tvalid_0's ndcg@103: 0.815173\n",
      "[5]\tvalid_0's ndcg@5: 0.470365\tvalid_0's ndcg@25: 0.494701\tvalid_0's ndcg@103: 0.827069\n",
      "[6]\tvalid_0's ndcg@5: 0.345191\tvalid_0's ndcg@25: 0.441304\tvalid_0's ndcg@103: 0.794196\n",
      "[7]\tvalid_0's ndcg@5: 0.485229\tvalid_0's ndcg@25: 0.487545\tvalid_0's ndcg@103: 0.821538\n",
      "[8]\tvalid_0's ndcg@5: 0.470365\tvalid_0's ndcg@25: 0.494347\tvalid_0's ndcg@103: 0.828607\n",
      "[9]\tvalid_0's ndcg@5: 0.470365\tvalid_0's ndcg@25: 0.48723\tvalid_0's ndcg@103: 0.821605\n",
      "[10]\tvalid_0's ndcg@5: 0.485229\tvalid_0's ndcg@25: 0.491367\tvalid_0's ndcg@103: 0.824262\n",
      "[11]\tvalid_0's ndcg@5: 0.485229\tvalid_0's ndcg@25: 0.526509\tvalid_0's ndcg@103: 0.831884\n",
      "[12]\tvalid_0's ndcg@5: 0.33916\tvalid_0's ndcg@25: 0.569551\tvalid_0's ndcg@103: 0.826834\n",
      "[13]\tvalid_0's ndcg@5: 0.470365\tvalid_0's ndcg@25: 0.604755\tvalid_0's ndcg@103: 0.834019\n",
      "[14]\tvalid_0's ndcg@5: 0.470365\tvalid_0's ndcg@25: 0.627927\tvalid_0's ndcg@103: 0.832305\n",
      "[15]\tvalid_0's ndcg@5: 0.470365\tvalid_0's ndcg@25: 0.580081\tvalid_0's ndcg@103: 0.834564\n",
      "[16]\tvalid_0's ndcg@5: 0.485229\tvalid_0's ndcg@25: 0.605374\tvalid_0's ndcg@103: 0.83631\n",
      "[17]\tvalid_0's ndcg@5: 0.485229\tvalid_0's ndcg@25: 0.577937\tvalid_0's ndcg@103: 0.834161\n",
      "[18]\tvalid_0's ndcg@5: 0.485229\tvalid_0's ndcg@25: 0.553775\tvalid_0's ndcg@103: 0.833775\n",
      "[19]\tvalid_0's ndcg@5: 0.470365\tvalid_0's ndcg@25: 0.549395\tvalid_0's ndcg@103: 0.832928\n",
      "[20]\tvalid_0's ndcg@5: 0.33916\tvalid_0's ndcg@25: 0.547701\tvalid_0's ndcg@103: 0.831669\n",
      "[21]\tvalid_0's ndcg@5: 0.33916\tvalid_0's ndcg@25: 0.568556\tvalid_0's ndcg@103: 0.82929\n",
      "[22]\tvalid_0's ndcg@5: 0.33916\tvalid_0's ndcg@25: 0.601602\tvalid_0's ndcg@103: 0.835603\n",
      "[23]\tvalid_0's ndcg@5: 0.470365\tvalid_0's ndcg@25: 0.611085\tvalid_0's ndcg@103: 0.840213\n",
      "[24]\tvalid_0's ndcg@5: 0.485229\tvalid_0's ndcg@25: 0.590304\tvalid_0's ndcg@103: 0.843719\n",
      "[25]\tvalid_0's ndcg@5: 0.654809\tvalid_0's ndcg@25: 0.585319\tvalid_0's ndcg@103: 0.856992\n",
      "[26]\tvalid_0's ndcg@5: 0.654809\tvalid_0's ndcg@25: 0.61066\tvalid_0's ndcg@103: 0.856483\n",
      "[27]\tvalid_0's ndcg@5: 0.654809\tvalid_0's ndcg@25: 0.610732\tvalid_0's ndcg@103: 0.855226\n",
      "[28]\tvalid_0's ndcg@5: 0.50874\tvalid_0's ndcg@25: 0.60277\tvalid_0's ndcg@103: 0.850847\n",
      "[29]\tvalid_0's ndcg@5: 0.50874\tvalid_0's ndcg@25: 0.574915\tvalid_0's ndcg@103: 0.849149\n",
      "[30]\tvalid_0's ndcg@5: 0.50874\tvalid_0's ndcg@25: 0.565543\tvalid_0's ndcg@103: 0.844414\n",
      "[31]\tvalid_0's ndcg@5: 0.50874\tvalid_0's ndcg@25: 0.573151\tvalid_0's ndcg@103: 0.849278\n",
      "[32]\tvalid_0's ndcg@5: 0.50874\tvalid_0's ndcg@25: 0.569952\tvalid_0's ndcg@103: 0.848942\n",
      "[33]\tvalid_0's ndcg@5: 0.50874\tvalid_0's ndcg@25: 0.575764\tvalid_0's ndcg@103: 0.85325\n",
      "[34]\tvalid_0's ndcg@5: 0.50874\tvalid_0's ndcg@25: 0.577584\tvalid_0's ndcg@103: 0.854428\n",
      "[35]\tvalid_0's ndcg@5: 0.639945\tvalid_0's ndcg@25: 0.616265\tvalid_0's ndcg@103: 0.861258\n",
      "[36]\tvalid_0's ndcg@5: 0.639945\tvalid_0's ndcg@25: 0.606912\tvalid_0's ndcg@103: 0.856594\n",
      "[37]\tvalid_0's ndcg@5: 0.639945\tvalid_0's ndcg@25: 0.620196\tvalid_0's ndcg@103: 0.864654\n",
      "[38]\tvalid_0's ndcg@5: 0.616434\tvalid_0's ndcg@25: 0.611627\tvalid_0's ndcg@103: 0.860568\n",
      "[39]\tvalid_0's ndcg@5: 0.654809\tvalid_0's ndcg@25: 0.627184\tvalid_0's ndcg@103: 0.870257\n",
      "[40]\tvalid_0's ndcg@5: 0.654809\tvalid_0's ndcg@25: 0.624782\tvalid_0's ndcg@103: 0.868732\n",
      "[41]\tvalid_0's ndcg@5: 0.639945\tvalid_0's ndcg@25: 0.616097\tvalid_0's ndcg@103: 0.864079\n",
      "[42]\tvalid_0's ndcg@5: 0.616434\tvalid_0's ndcg@25: 0.633651\tvalid_0's ndcg@103: 0.859408\n",
      "[43]\tvalid_0's ndcg@5: 0.684352\tvalid_0's ndcg@25: 0.656392\tvalid_0's ndcg@103: 0.873202\n",
      "[44]\tvalid_0's ndcg@5: 0.684352\tvalid_0's ndcg@25: 0.653579\tvalid_0's ndcg@103: 0.872367\n",
      "[45]\tvalid_0's ndcg@5: 0.699215\tvalid_0's ndcg@25: 0.661817\tvalid_0's ndcg@103: 0.878001\n",
      "[46]\tvalid_0's ndcg@5: 0.699215\tvalid_0's ndcg@25: 0.659004\tvalid_0's ndcg@103: 0.876149\n",
      "[47]\tvalid_0's ndcg@5: 0.654809\tvalid_0's ndcg@25: 0.645806\tvalid_0's ndcg@103: 0.868513\n",
      "[48]\tvalid_0's ndcg@5: 0.654809\tvalid_0's ndcg@25: 0.617781\tvalid_0's ndcg@103: 0.867836\n",
      "[49]\tvalid_0's ndcg@5: 0.722727\tvalid_0's ndcg@25: 0.640442\tvalid_0's ndcg@103: 0.881979\n",
      "[50]\tvalid_0's ndcg@5: 0.722727\tvalid_0's ndcg@25: 0.640863\tvalid_0's ndcg@103: 0.88246\n",
      "[51]\tvalid_0's ndcg@5: 0.722727\tvalid_0's ndcg@25: 0.64471\tvalid_0's ndcg@103: 0.884967\n",
      "[52]\tvalid_0's ndcg@5: 0.699215\tvalid_0's ndcg@25: 0.634375\tvalid_0's ndcg@103: 0.878951\n",
      "[53]\tvalid_0's ndcg@5: 0.853932\tvalid_0's ndcg@25: 0.677504\tvalid_0's ndcg@103: 0.888848\n",
      "[54]\tvalid_0's ndcg@5: 0.853932\tvalid_0's ndcg@25: 0.677925\tvalid_0's ndcg@103: 0.88844\n",
      "[55]\tvalid_0's ndcg@5: 0.853932\tvalid_0's ndcg@25: 0.678518\tvalid_0's ndcg@103: 0.889082\n",
      "[56]\tvalid_0's ndcg@5: 0.722727\tvalid_0's ndcg@25: 0.663775\tvalid_0's ndcg@103: 0.880458\n",
      "[57]\tvalid_0's ndcg@5: 0.868795\tvalid_0's ndcg@25: 0.653365\tvalid_0's ndcg@103: 0.889758\n",
      "[58]\tvalid_0's ndcg@5: 0.722727\tvalid_0's ndcg@25: 0.642326\tvalid_0's ndcg@103: 0.884016\n",
      "[59]\tvalid_0's ndcg@5: 0.722727\tvalid_0's ndcg@25: 0.640864\tvalid_0's ndcg@103: 0.882961\n",
      "[60]\tvalid_0's ndcg@5: 0.553146\tvalid_0's ndcg@25: 0.611484\tvalid_0's ndcg@103: 0.865192\n",
      "[61]\tvalid_0's ndcg@5: 0.684352\tvalid_0's ndcg@25: 0.625079\tvalid_0's ndcg@103: 0.873532\n",
      "[62]\tvalid_0's ndcg@5: 0.684352\tvalid_0's ndcg@25: 0.638987\tvalid_0's ndcg@103: 0.880853\n",
      "[63]\tvalid_0's ndcg@5: 0.616434\tvalid_0's ndcg@25: 0.665303\tvalid_0's ndcg@103: 0.865618\n",
      "[64]\tvalid_0's ndcg@5: 0.684352\tvalid_0's ndcg@25: 0.658364\tvalid_0's ndcg@103: 0.87675\n",
      "[65]\tvalid_0's ndcg@5: 0.553146\tvalid_0's ndcg@25: 0.653987\tvalid_0's ndcg@103: 0.873891\n",
      "[66]\tvalid_0's ndcg@5: 0.616434\tvalid_0's ndcg@25: 0.661048\tvalid_0's ndcg@103: 0.862503\n",
      "[67]\tvalid_0's ndcg@5: 0.485229\tvalid_0's ndcg@25: 0.657279\tvalid_0's ndcg@103: 0.860518\n",
      "[68]\tvalid_0's ndcg@5: 0.470365\tvalid_0's ndcg@25: 0.654359\tvalid_0's ndcg@103: 0.860275\n",
      "[69]\tvalid_0's ndcg@5: 0.50874\tvalid_0's ndcg@25: 0.668953\tvalid_0's ndcg@103: 0.86898\n",
      "[70]\tvalid_0's ndcg@5: 0.639945\tvalid_0's ndcg@25: 0.673593\tvalid_0's ndcg@103: 0.872565\n",
      "[71]\tvalid_0's ndcg@5: 0.699215\tvalid_0's ndcg@25: 0.691292\tvalid_0's ndcg@103: 0.882935\n",
      "[72]\tvalid_0's ndcg@5: 0.684352\tvalid_0's ndcg@25: 0.685438\tvalid_0's ndcg@103: 0.878975\n",
      "[73]\tvalid_0's ndcg@5: 0.699215\tvalid_0's ndcg@25: 0.690899\tvalid_0's ndcg@103: 0.881539\n",
      "[74]\tvalid_0's ndcg@5: 0.699215\tvalid_0's ndcg@25: 0.691406\tvalid_0's ndcg@103: 0.882612\n",
      "[75]\tvalid_0's ndcg@5: 0.699215\tvalid_0's ndcg@25: 0.697191\tvalid_0's ndcg@103: 0.885541\n",
      "[76]\tvalid_0's ndcg@5: 0.699215\tvalid_0's ndcg@25: 0.689969\tvalid_0's ndcg@103: 0.881111\n",
      "[77]\tvalid_0's ndcg@5: 0.722727\tvalid_0's ndcg@25: 0.701916\tvalid_0's ndcg@103: 0.888832\n",
      "[78]\tvalid_0's ndcg@5: 0.699215\tvalid_0's ndcg@25: 0.68931\tvalid_0's ndcg@103: 0.881206\n",
      "[79]\tvalid_0's ndcg@5: 0.699215\tvalid_0's ndcg@25: 0.696991\tvalid_0's ndcg@103: 0.884979\n",
      "[80]\tvalid_0's ndcg@5: 0.684352\tvalid_0's ndcg@25: 0.690539\tvalid_0's ndcg@103: 0.881814\n",
      "[81]\tvalid_0's ndcg@5: 0.639945\tvalid_0's ndcg@25: 0.673942\tvalid_0's ndcg@103: 0.872337\n",
      "[82]\tvalid_0's ndcg@5: 0.639945\tvalid_0's ndcg@25: 0.680394\tvalid_0's ndcg@103: 0.876545\n",
      "[83]\tvalid_0's ndcg@5: 0.684352\tvalid_0's ndcg@25: 0.69201\tvalid_0's ndcg@103: 0.884003\n",
      "[84]\tvalid_0's ndcg@5: 0.83042\tvalid_0's ndcg@25: 0.7019\tvalid_0's ndcg@103: 0.888877\n",
      "[85]\tvalid_0's ndcg@5: 0.699215\tvalid_0's ndcg@25: 0.700546\tvalid_0's ndcg@103: 0.888357\n",
      "[86]\tvalid_0's ndcg@5: 0.699215\tvalid_0's ndcg@25: 0.705226\tvalid_0's ndcg@103: 0.89036\n",
      "[87]\tvalid_0's ndcg@5: 0.699215\tvalid_0's ndcg@25: 0.70413\tvalid_0's ndcg@103: 0.88975\n",
      "[88]\tvalid_0's ndcg@5: 0.684352\tvalid_0's ndcg@25: 0.673\tvalid_0's ndcg@103: 0.886248\n",
      "[89]\tvalid_0's ndcg@5: 0.684352\tvalid_0's ndcg@25: 0.675881\tvalid_0's ndcg@103: 0.887978\n",
      "[90]\tvalid_0's ndcg@5: 0.684352\tvalid_0's ndcg@25: 0.675542\tvalid_0's ndcg@103: 0.887571\n",
      "[91]\tvalid_0's ndcg@5: 0.684352\tvalid_0's ndcg@25: 0.673084\tvalid_0's ndcg@103: 0.885363\n",
      "[92]\tvalid_0's ndcg@5: 0.684352\tvalid_0's ndcg@25: 0.674918\tvalid_0's ndcg@103: 0.885611\n"
     ]
    },
    {
     "name": "stdout",
     "output_type": "stream",
     "text": [
      "[93]\tvalid_0's ndcg@5: 0.684352\tvalid_0's ndcg@25: 0.676586\tvalid_0's ndcg@103: 0.886836\n",
      "[94]\tvalid_0's ndcg@5: 0.514771\tvalid_0's ndcg@25: 0.613828\tvalid_0's ndcg@103: 0.849682\n",
      "[95]\tvalid_0's ndcg@5: 0.654809\tvalid_0's ndcg@25: 0.687112\tvalid_0's ndcg@103: 0.877382\n",
      "[96]\tvalid_0's ndcg@5: 0.639945\tvalid_0's ndcg@25: 0.657411\tvalid_0's ndcg@103: 0.875272\n",
      "[97]\tvalid_0's ndcg@5: 0.654809\tvalid_0's ndcg@25: 0.661637\tvalid_0's ndcg@103: 0.877537\n",
      "[98]\tvalid_0's ndcg@5: 0.786014\tvalid_0's ndcg@25: 0.667223\tvalid_0's ndcg@103: 0.880999\n",
      "[99]\tvalid_0's ndcg@5: 0.654809\tvalid_0's ndcg@25: 0.663937\tvalid_0's ndcg@103: 0.879687\n",
      "[100]\tvalid_0's ndcg@5: 0.786014\tvalid_0's ndcg@25: 0.695868\tvalid_0's ndcg@103: 0.883384\n",
      "Did not meet early stopping. Best iteration is:\n",
      "[57]\tvalid_0's ndcg@5: 0.868795\tvalid_0's ndcg@25: 0.653365\tvalid_0's ndcg@103: 0.889758\n"
     ]
    },
    {
     "data": {
      "text/plain": [
       "LGBMRanker(learning_rate=0.2, random_state=0)"
      ]
     },
     "execution_count": 100,
     "metadata": {},
     "output_type": "execute_result"
    }
   ],
   "source": [
    "model.fit(X=X_train_arr, y=y_train_arr, eval_set=[(X_val_arr, y_val_arr)], group=query_train, eval_group=[query_val],\n",
    "         eval_at=[103, 5, 25], early_stopping_rounds=50)"
   ]
  },
  {
   "cell_type": "code",
   "execution_count": 101,
   "metadata": {},
   "outputs": [
    {
     "name": "stdout",
     "output_type": "stream",
     "text": [
      "Train Accuracy: %96.59574468085106\n"
     ]
    }
   ],
   "source": [
    "preds = model.predict(X_train_arr)\n",
    "preds[preds > 0] = 1\n",
    "preds[preds < 0] = 0\n",
    "print(f\"Train Accuracy: %{(1 - np.sum(np.abs(preds - y_train_arr))/y_train_arr.shape[0]) * 100}\")"
   ]
  },
  {
   "cell_type": "code",
   "execution_count": 102,
   "metadata": {},
   "outputs": [
    {
     "name": "stdout",
     "output_type": "stream",
     "text": [
      "Validation Accuracy: %56.310679611650485\n"
     ]
    }
   ],
   "source": [
    "preds = model.predict(X_val_arr)\n",
    "preds[preds > 0] = 1\n",
    "preds[preds < 0] = 0\n",
    "print(f\"Validation Accuracy: %{(1 - np.sum(np.abs(preds - y_val_arr))/y_val_arr.shape[0]) * 100}\")"
   ]
  },
  {
   "cell_type": "markdown",
   "metadata": {},
   "source": [
    "Now, we expect our model's accuracy to be in this range. We can combine training and validation sets and get the results for the test set."
   ]
  },
  {
   "cell_type": "code",
   "execution_count": 103,
   "metadata": {},
   "outputs": [],
   "source": [
    "X_train_set = np.vstack((X_train_arr, X_val_arr))\n",
    "y_train_set = np.hstack((y_train_arr, y_val_arr))"
   ]
  },
  {
   "cell_type": "code",
   "execution_count": 104,
   "metadata": {},
   "outputs": [
    {
     "name": "stdout",
     "output_type": "stream",
     "text": [
      "Test Accuracy: %59.64912280701755\n"
     ]
    }
   ],
   "source": [
    "model.fit(X=X_train_set, y=y_train_set, group=[len(X_train_set)])\n",
    "preds = model.predict(X_test_arr)\n",
    "preds[preds > 0] = 1\n",
    "preds[preds < 0] = 0\n",
    "print(f\"Test Accuracy: %{(1 - np.sum(np.abs(preds - y_test_arr))/y_test_arr.shape[0]) * 100}\")"
   ]
  },
  {
   "cell_type": "code",
   "execution_count": 106,
   "metadata": {},
   "outputs": [],
   "source": [
    "with open(\"model.p\", \"wb\") as f:\n",
    "    pickle.dump(model, f)"
   ]
  }
 ],
 "metadata": {
  "@webio": {
   "lastCommId": null,
   "lastKernelId": null
  },
  "kernelspec": {
   "display_name": "Python 3",
   "language": "python",
   "name": "python3"
  },
  "language_info": {
   "codemirror_mode": {
    "name": "ipython",
    "version": 3
   },
   "file_extension": ".py",
   "mimetype": "text/x-python",
   "name": "python",
   "nbconvert_exporter": "python",
   "pygments_lexer": "ipython3",
   "version": "3.7.7"
  }
 },
 "nbformat": 4,
 "nbformat_minor": 4
}
