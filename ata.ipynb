{
  "nbformat": 4,
  "nbformat_minor": 0,
  "metadata": {
    "colab": {
      "name": "lfd-hw.ipynb",
      "provenance": [],
      "collapsed_sections": [],
      "toc_visible": true
    },
    "kernelspec": {
      "name": "python3",
      "display_name": "Python 3.8.5 64-bit ('vision': conda)",
      "metadata": {
        "interpreter": {
          "hash": "b89171090f37c4a681e303dfee7c942ef85c58d1bfcb39c7fb7b0319dfb6b59b"
        }
      }
    },
    "accelerator": "GPU"
  },
  "cells": [
    {
      "cell_type": "code",
      "metadata": {
        "id": "KTqVo_nzFkoP"
      },
      "source": [
        "import numpy as np # linear algebra\n",
        "import pandas as pd # data processing, CSV file I/O (e.g. pd.read_csv)\n",
        "from sklearn.decomposition import PCA\n",
        "# from sklearn.preprocessing import Imputer\n",
        "from sklearn.model_selection import KFold\n",
        "from sklearn import linear_model\n",
        "from sklearn.metrics import make_scorer\n",
        "from sklearn.ensemble import BaggingRegressor\n",
        "from sklearn.ensemble import RandomForestRegressor\n",
        "from sklearn import svm\n",
        "from sklearn.metrics import mean_squared_error\n",
        "from sklearn.ensemble import AdaBoostRegressor\n",
        "from sklearn.model_selection import cross_val_score\n",
        "from sklearn.tree import DecisionTreeRegressor\n",
        "from sklearn.model_selection import GridSearchCV\n",
        "import matplotlib.pyplot as plt\n",
        "from sklearn.preprocessing import StandardScaler\n",
        "# import tflearn\n",
        "# import tensorflow as tf\n",
        "import seaborn\n",
        "import warnings\n",
        "warnings.filterwarnings('ignore')\n",
        "\n",
        "from subprocess import check_output\n",
        "# print(check_output([\"ls\", \"../input\"]).decode(\"utf8\"))"
      ],
      "execution_count": 7,
      "outputs": []
    },
    {
      "cell_type": "code",
      "metadata": {
        "colab": {
          "base_uri": "https://localhost:8080/",
          "height": 287
        },
        "id": "LRQJFrz3GTcA",
        "outputId": "d9d9ab38-0b37-4276-b15a-33ffa9617b4f"
      },
      "source": [
        "train = pd.read_csv('train_t0.csv')\n",
        "label = pd.read_csv('train_t1.csv')\n",
        "\n",
        "# test = pd.read_csv('tessv')\n",
        "data = pd.concat([train],ignore_index=True)\n",
        "data = data.drop(\"ID\",1)\n",
        "labels = label.drop(\"ID\",1)\n"
      ],
      "execution_count": 29,
      "outputs": []
    },
    {
      "cell_type": "code",
      "execution_count": 22,
      "metadata": {},
      "outputs": [],
      "source": [
        "test = data[-15:]\n",
        "test_labels = labels[-15:]\n",
        "train = data[:-15]\n",
        "train_labels = labels[:-15]\n",
        "scaler = StandardScaler()\n",
        "\n",
        "\n",
        "# Fit on training set only.\n",
        "scaler.fit(train)\n",
        "# Apply transform to both the training set and the test set.\n",
        "train = scaler.transform(train)\n",
        "test = scaler.transform(test)\n"
      ]
    },
    {
      "cell_type": "code",
      "metadata": {
        "colab": {
          "base_uri": "https://localhost:8080/"
        },
        "id": "fK8ktxa4HjOk",
        "outputId": "bae50d24-e006-41f4-e3de-83785f3f3a10"
      },
      "source": [
        "pca = PCA(0.70)\n",
        "pca.fit(train)\n",
        "train = pca.transform(train)\n",
        "test = pca.transform(test)\n",
        "train.shape"
      ],
      "execution_count": 23,
      "outputs": [
        {
          "output_type": "execute_result",
          "data": {
            "text/plain": [
              "(135, 16)"
            ]
          },
          "metadata": {},
          "execution_count": 23
        }
      ]
    },
    {
      "cell_type": "code",
      "metadata": {
        "colab": {
          "base_uri": "https://localhost:8080/"
        },
        "id": "CHu8EnnjHr8k",
        "outputId": "63343dee-2dc8-4822-9f01-25253524044d"
      },
      "source": [
        "# R2 Score\n",
        "from sklearn.multioutput import MultiOutputRegressor\n",
        "\n",
        "def lets_try(train,train_labels,test,test_labels):\n",
        "    results={}\n",
        "    \n",
        "    print(train.shape)\n",
        "    print(test.shape)\n",
        "    print(train_labels.shape)\n",
        "    print(test_labels.shape)\n",
        "    def test_model(clf):\n",
        "        \n",
        "        # cv = KFold(n_splits=5,shuffle=True,random_state=45)\n",
        "        # r2 = make_scorer(mean_squared_error)\n",
        "        # r2_val_score = cross_val_score(clf, train, labels, cv=cv,scoring=r2)\n",
        "        # scores=[r2_val_score.mean()]\n",
        "        \n",
        "        clf.fit(train, train_labels)\n",
        "        test_predict = clf.predict(test)\n",
        "        scores = mean_squared_error(test_labels, test_predict)\n",
        "\n",
        "        return [scores]\n",
        "\n",
        "    clf = linear_model.LinearRegression()\n",
        "    print(f\"Linear Regression = {test_model(clf)}\")\n",
        "    \n",
        "    clf = linear_model.Ridge()\n",
        "    print(f\"Ridge = {test_model(clf)}\")\n",
        "    \n",
        "    # clf = linear_model.BayesianRidge()\n",
        "    # print(f\"BayesianRidge = {test_model(clf)}\")\n",
        "    \n",
        "    # clf = linear_model.HuberRegressor()\n",
        "    # print(f\"HuberRegressor= {test_model(clf)}\")\n",
        "    \n",
        "    clf = linear_model.Lasso(alpha=1e-4)\n",
        "    print(f\"Lasso = {test_model(clf)}\")\n",
        "    \n",
        "    clf = BaggingRegressor()\n",
        "    print(f\"BaggingRegressor = {test_model(clf)}\")\n",
        "    \n",
        "    clf = RandomForestRegressor()\n",
        "    print(f\"RandomForestRegressor= {test_model(clf)}\")\n",
        "    \n",
        "    # clf = MultiOutputRegressor(AdaBoostRegressor())\n",
        "    # print(f\"AdaBoostRegressor = {test_model(clf)}\")\n",
        "    \n",
        "    clf = MultiOutputRegressor(svm.SVR())\n",
        "    print(f\"SVM RBF = {test_model(clf)}\")\n",
        "    \n",
        "    clf = MultiOutputRegressor(svm.SVR(kernel=\"linear\"))\n",
        "    print(f\"SVM Linear = {test_model(clf)}\")\n",
        "    \n",
        "    # results = pd.DataFrame.from_dict(results,orient='index')\n",
        "    # results.columns=[\"MSE\"] \n",
        "    # results=results.sort(columns=[\"MSE\"],ascending=False)\n",
        "    # results.plot(kind=\"bar\",title=\"Model Scores\")\n",
        "    # axes = plt.gca()\n",
        "    # axes.set_ylim([0.5,1])\n",
        "    # return results\n",
        "\n",
        "# lets_try(train,train_labels)\n",
        "\n",
        "lets_try(train,train_labels,test,test_labels)"
      ],
      "execution_count": 24,
      "outputs": [
        {
          "output_type": "stream",
          "name": "stdout",
          "text": [
            "(135, 16)\n",
            "(15, 16)\n",
            "(135, 595)\n",
            "(15, 595)\n",
            "Linear Regression = [0.002596325787652626]\n",
            "Ridge = [0.0025961320992643933]\n",
            "Lasso = [0.0025950992079001494]\n",
            "BaggingRegressor = [0.0026501670722064823]\n",
            "RandomForestRegressor= [0.0024977426619862365]\n",
            "SVM RBF = [0.00426763734108063]\n",
            "SVM Linear = [0.004026502372019386]\n"
          ]
        }
      ]
    },
    {
      "cell_type": "code",
      "metadata": {
        "colab": {
          "base_uri": "https://localhost:8080/",
          "height": 270
        },
        "id": "HBAKsf1MSSW-",
        "outputId": "61942e83-ec9f-4bd2-c3ee-9d0614667cbc"
      },
      "source": [
        "test = pd.read_csv('test_t0.csv')\n",
        "test = test.drop(\"ID\",1)"
      ],
      "execution_count": 34,
      "outputs": []
    },
    {
      "cell_type": "code",
      "execution_count": 35,
      "metadata": {},
      "outputs": [],
      "source": [
        "train = data\n",
        "train_labels = labels\n",
        "scaler = StandardScaler()\n",
        "\n",
        "# Fit on training set only.\n",
        "scaler.fit(train)\n",
        "# Apply transform to both the training set and the test set.\n",
        "train = scaler.transform(train)\n",
        "test = scaler.transform(test)\n",
        "\n",
        "pca = PCA(0.70)\n",
        "pca.fit(train)\n",
        "train = pca.transform(train)\n",
        "test = pca.transform(test)"
      ]
    },
    {
      "cell_type": "code",
      "metadata": {
        "colab": {
          "base_uri": "https://localhost:8080/",
          "height": 368
        },
        "id": "twjp8maZSHBS",
        "outputId": "36d46bce-fd1b-433d-945e-a11cfc82abc1"
      },
      "source": [
        "clf = RandomForestRegressor()\n",
        "clf.fit(train, train_labels)\n",
        "test_predict = clf.predict(test)\n",
        "prediction = clf.predict(test)"
      ],
      "execution_count": 38,
      "outputs": []
    },
    {
      "cell_type": "code",
      "metadata": {
        "colab": {
          "base_uri": "https://localhost:8080/",
          "height": 270
        },
        "id": "KGz0pJvgSvOE",
        "outputId": "9bea78f9-6e00-40dc-fab4-d1e773e7ba97"
      },
      "source": [
        "print(prediction.shape)\n",
        "df = pd.DataFrame(prediction)\n",
        "df.head()"
      ],
      "execution_count": 39,
      "outputs": [
        {
          "output_type": "stream",
          "name": "stdout",
          "text": [
            "(80, 595)\n"
          ]
        },
        {
          "output_type": "execute_result",
          "data": {
            "text/plain": [
              "        0         1         2    3         4         5         6         7    \\\n",
              "0  0.052133  0.089064  0.109771  0.0  0.052133  0.089064  0.127915  0.151494   \n",
              "1  0.043252  0.069146  0.067696  0.0  0.043252  0.069146  0.117431  0.108005   \n",
              "2  0.055525  0.075806  0.082976  0.0  0.055525  0.075806  0.133955  0.144963   \n",
              "3  0.041361  0.072274  0.058512  0.0  0.041361  0.072274  0.121925  0.099002   \n",
              "4  0.060524  0.077930  0.060357  0.0  0.060524  0.077930  0.132974  0.093639   \n",
              "\n",
              "        8         9    ...       585       586       587       588       589  \\\n",
              "0  0.082125  0.127915  ...  0.131891  0.116678  0.195619  0.160934  0.144621   \n",
              "1  0.053658  0.117431  ...  0.101268  0.105481  0.152376  0.120882  0.110440   \n",
              "2  0.081123  0.133955  ...  0.126538  0.136963  0.194228  0.160383  0.144103   \n",
              "3  0.050154  0.121925  ...  0.098788  0.080904  0.160684  0.120617  0.120944   \n",
              "4  0.056267  0.132974  ...  0.098412  0.080831  0.161618  0.122389  0.110723   \n",
              "\n",
              "        590       591       592       593       594  \n",
              "0  0.133619  0.140099  0.037947  0.037947  0.262275  \n",
              "1  0.107156  0.098212  0.023636  0.023636  0.203370  \n",
              "2  0.140645  0.141135  0.040776  0.040776  0.237087  \n",
              "3  0.111401  0.105711  0.025745  0.025745  0.252384  \n",
              "4  0.111413  0.101284  0.031969  0.031969  0.257160  \n",
              "\n",
              "[5 rows x 595 columns]"
            ],
            "text/html": "<div>\n<style scoped>\n    .dataframe tbody tr th:only-of-type {\n        vertical-align: middle;\n    }\n\n    .dataframe tbody tr th {\n        vertical-align: top;\n    }\n\n    .dataframe thead th {\n        text-align: right;\n    }\n</style>\n<table border=\"1\" class=\"dataframe\">\n  <thead>\n    <tr style=\"text-align: right;\">\n      <th></th>\n      <th>0</th>\n      <th>1</th>\n      <th>2</th>\n      <th>3</th>\n      <th>4</th>\n      <th>5</th>\n      <th>6</th>\n      <th>7</th>\n      <th>8</th>\n      <th>9</th>\n      <th>...</th>\n      <th>585</th>\n      <th>586</th>\n      <th>587</th>\n      <th>588</th>\n      <th>589</th>\n      <th>590</th>\n      <th>591</th>\n      <th>592</th>\n      <th>593</th>\n      <th>594</th>\n    </tr>\n  </thead>\n  <tbody>\n    <tr>\n      <th>0</th>\n      <td>0.052133</td>\n      <td>0.089064</td>\n      <td>0.109771</td>\n      <td>0.0</td>\n      <td>0.052133</td>\n      <td>0.089064</td>\n      <td>0.127915</td>\n      <td>0.151494</td>\n      <td>0.082125</td>\n      <td>0.127915</td>\n      <td>...</td>\n      <td>0.131891</td>\n      <td>0.116678</td>\n      <td>0.195619</td>\n      <td>0.160934</td>\n      <td>0.144621</td>\n      <td>0.133619</td>\n      <td>0.140099</td>\n      <td>0.037947</td>\n      <td>0.037947</td>\n      <td>0.262275</td>\n    </tr>\n    <tr>\n      <th>1</th>\n      <td>0.043252</td>\n      <td>0.069146</td>\n      <td>0.067696</td>\n      <td>0.0</td>\n      <td>0.043252</td>\n      <td>0.069146</td>\n      <td>0.117431</td>\n      <td>0.108005</td>\n      <td>0.053658</td>\n      <td>0.117431</td>\n      <td>...</td>\n      <td>0.101268</td>\n      <td>0.105481</td>\n      <td>0.152376</td>\n      <td>0.120882</td>\n      <td>0.110440</td>\n      <td>0.107156</td>\n      <td>0.098212</td>\n      <td>0.023636</td>\n      <td>0.023636</td>\n      <td>0.203370</td>\n    </tr>\n    <tr>\n      <th>2</th>\n      <td>0.055525</td>\n      <td>0.075806</td>\n      <td>0.082976</td>\n      <td>0.0</td>\n      <td>0.055525</td>\n      <td>0.075806</td>\n      <td>0.133955</td>\n      <td>0.144963</td>\n      <td>0.081123</td>\n      <td>0.133955</td>\n      <td>...</td>\n      <td>0.126538</td>\n      <td>0.136963</td>\n      <td>0.194228</td>\n      <td>0.160383</td>\n      <td>0.144103</td>\n      <td>0.140645</td>\n      <td>0.141135</td>\n      <td>0.040776</td>\n      <td>0.040776</td>\n      <td>0.237087</td>\n    </tr>\n    <tr>\n      <th>3</th>\n      <td>0.041361</td>\n      <td>0.072274</td>\n      <td>0.058512</td>\n      <td>0.0</td>\n      <td>0.041361</td>\n      <td>0.072274</td>\n      <td>0.121925</td>\n      <td>0.099002</td>\n      <td>0.050154</td>\n      <td>0.121925</td>\n      <td>...</td>\n      <td>0.098788</td>\n      <td>0.080904</td>\n      <td>0.160684</td>\n      <td>0.120617</td>\n      <td>0.120944</td>\n      <td>0.111401</td>\n      <td>0.105711</td>\n      <td>0.025745</td>\n      <td>0.025745</td>\n      <td>0.252384</td>\n    </tr>\n    <tr>\n      <th>4</th>\n      <td>0.060524</td>\n      <td>0.077930</td>\n      <td>0.060357</td>\n      <td>0.0</td>\n      <td>0.060524</td>\n      <td>0.077930</td>\n      <td>0.132974</td>\n      <td>0.093639</td>\n      <td>0.056267</td>\n      <td>0.132974</td>\n      <td>...</td>\n      <td>0.098412</td>\n      <td>0.080831</td>\n      <td>0.161618</td>\n      <td>0.122389</td>\n      <td>0.110723</td>\n      <td>0.111413</td>\n      <td>0.101284</td>\n      <td>0.031969</td>\n      <td>0.031969</td>\n      <td>0.257160</td>\n    </tr>\n  </tbody>\n</table>\n<p>5 rows × 595 columns</p>\n</div>"
          },
          "metadata": {},
          "execution_count": 39
        }
      ]
    },
    {
      "cell_type": "code",
      "metadata": {
        "colab": {
          "base_uri": "https://localhost:8080/"
        },
        "id": "KGrb82elS6fK",
        "outputId": "075fea2f-e75b-4649-9d5a-c785e322e49c"
      },
      "source": [
        "meltedDF = df.to_numpy().flatten()\n",
        "print(meltedDF.shape)"
      ],
      "execution_count": 40,
      "outputs": [
        {
          "output_type": "stream",
          "name": "stdout",
          "text": [
            "(47600,)\n"
          ]
        }
      ]
    },
    {
      "cell_type": "code",
      "metadata": {
        "colab": {
          "base_uri": "https://localhost:8080/",
          "height": 204
        },
        "id": "26B9HMAAT1qo",
        "outputId": "5587fc68-4705-4c3d-9013-d3e528a1c73f"
      },
      "source": [
        "anan = pd.DataFrame(meltedDF)\n",
        "anan.head()"
      ],
      "execution_count": 41,
      "outputs": [
        {
          "output_type": "execute_result",
          "data": {
            "text/plain": [
              "          0\n",
              "0  0.052133\n",
              "1  0.089064\n",
              "2  0.109771\n",
              "3  0.000000\n",
              "4  0.052133"
            ],
            "text/html": "<div>\n<style scoped>\n    .dataframe tbody tr th:only-of-type {\n        vertical-align: middle;\n    }\n\n    .dataframe tbody tr th {\n        vertical-align: top;\n    }\n\n    .dataframe thead th {\n        text-align: right;\n    }\n</style>\n<table border=\"1\" class=\"dataframe\">\n  <thead>\n    <tr style=\"text-align: right;\">\n      <th></th>\n      <th>0</th>\n    </tr>\n  </thead>\n  <tbody>\n    <tr>\n      <th>0</th>\n      <td>0.052133</td>\n    </tr>\n    <tr>\n      <th>1</th>\n      <td>0.089064</td>\n    </tr>\n    <tr>\n      <th>2</th>\n      <td>0.109771</td>\n    </tr>\n    <tr>\n      <th>3</th>\n      <td>0.000000</td>\n    </tr>\n    <tr>\n      <th>4</th>\n      <td>0.052133</td>\n    </tr>\n  </tbody>\n</table>\n</div>"
          },
          "metadata": {},
          "execution_count": 41
        }
      ]
    },
    {
      "cell_type": "code",
      "metadata": {
        "colab": {
          "base_uri": "https://localhost:8080/",
          "height": 204
        },
        "id": "Uoe2LhOlVkI5",
        "outputId": "19a7e671-7647-40eb-db37-6ac5b5f93592"
      },
      "source": [
        "anan.head()"
      ],
      "execution_count": 162,
      "outputs": [
        {
          "output_type": "execute_result",
          "data": {
            "text/html": [
              "<div>\n",
              "<style scoped>\n",
              "    .dataframe tbody tr th:only-of-type {\n",
              "        vertical-align: middle;\n",
              "    }\n",
              "\n",
              "    .dataframe tbody tr th {\n",
              "        vertical-align: top;\n",
              "    }\n",
              "\n",
              "    .dataframe thead th {\n",
              "        text-align: right;\n",
              "    }\n",
              "</style>\n",
              "<table border=\"1\" class=\"dataframe\">\n",
              "  <thead>\n",
              "    <tr style=\"text-align: right;\">\n",
              "      <th></th>\n",
              "      <th>0</th>\n",
              "    </tr>\n",
              "  </thead>\n",
              "  <tbody>\n",
              "    <tr>\n",
              "      <th>0</th>\n",
              "      <td>0.061191</td>\n",
              "    </tr>\n",
              "    <tr>\n",
              "      <th>1</th>\n",
              "      <td>0.069773</td>\n",
              "    </tr>\n",
              "    <tr>\n",
              "      <th>2</th>\n",
              "      <td>0.100056</td>\n",
              "    </tr>\n",
              "    <tr>\n",
              "      <th>3</th>\n",
              "      <td>0.000000</td>\n",
              "    </tr>\n",
              "    <tr>\n",
              "      <th>4</th>\n",
              "      <td>0.061191</td>\n",
              "    </tr>\n",
              "  </tbody>\n",
              "</table>\n",
              "</div>"
            ],
            "text/plain": [
              "          0\n",
              "0  0.061191\n",
              "1  0.069773\n",
              "2  0.100056\n",
              "3  0.000000\n",
              "4  0.061191"
            ]
          },
          "metadata": {
            "tags": []
          },
          "execution_count": 162
        }
      ]
    },
    {
      "cell_type": "code",
      "metadata": {
        "colab": {
          "base_uri": "https://localhost:8080/",
          "height": 204
        },
        "id": "O55D-Bd6U_bt",
        "outputId": "ce42d808-c56a-4bec-8cfd-1169165a0a42"
      },
      "source": [
        "anan.tail()"
      ],
      "execution_count": 163,
      "outputs": [
        {
          "output_type": "execute_result",
          "data": {
            "text/html": [
              "<div>\n",
              "<style scoped>\n",
              "    .dataframe tbody tr th:only-of-type {\n",
              "        vertical-align: middle;\n",
              "    }\n",
              "\n",
              "    .dataframe tbody tr th {\n",
              "        vertical-align: top;\n",
              "    }\n",
              "\n",
              "    .dataframe thead th {\n",
              "        text-align: right;\n",
              "    }\n",
              "</style>\n",
              "<table border=\"1\" class=\"dataframe\">\n",
              "  <thead>\n",
              "    <tr style=\"text-align: right;\">\n",
              "      <th></th>\n",
              "      <th>0</th>\n",
              "    </tr>\n",
              "  </thead>\n",
              "  <tbody>\n",
              "    <tr>\n",
              "      <th>47595</th>\n",
              "      <td>0.134184</td>\n",
              "    </tr>\n",
              "    <tr>\n",
              "      <th>47596</th>\n",
              "      <td>0.134456</td>\n",
              "    </tr>\n",
              "    <tr>\n",
              "      <th>47597</th>\n",
              "      <td>0.037313</td>\n",
              "    </tr>\n",
              "    <tr>\n",
              "      <th>47598</th>\n",
              "      <td>0.037313</td>\n",
              "    </tr>\n",
              "    <tr>\n",
              "      <th>47599</th>\n",
              "      <td>0.310460</td>\n",
              "    </tr>\n",
              "  </tbody>\n",
              "</table>\n",
              "</div>"
            ],
            "text/plain": [
              "              0\n",
              "47595  0.134184\n",
              "47596  0.134456\n",
              "47597  0.037313\n",
              "47598  0.037313\n",
              "47599  0.310460"
            ]
          },
          "metadata": {
            "tags": []
          },
          "execution_count": 163
        }
      ]
    },
    {
      "cell_type": "code",
      "metadata": {
        "colab": {
          "base_uri": "https://localhost:8080/"
        },
        "id": "G1uA0y_bVWNE",
        "outputId": "5a223c06-d2df-42d5-f221-cec93a449a35"
      },
      "source": [
        "print(anan.shape)"
      ],
      "execution_count": 164,
      "outputs": [
        {
          "output_type": "stream",
          "text": [
            "(47600, 1)\n"
          ],
          "name": "stdout"
        }
      ]
    },
    {
      "cell_type": "code",
      "metadata": {
        "id": "IQbCmkdrVqLO"
      },
      "source": [
        "baban = anan.rename(columns={0: \"predicted\"})"
      ],
      "execution_count": 50,
      "outputs": []
    },
    {
      "cell_type": "code",
      "metadata": {
        "colab": {
          "base_uri": "https://localhost:8080/",
          "height": 204
        },
        "id": "-dsJa2zqVzQg",
        "outputId": "d24422f7-3d5f-4e49-cb18-d1a99480c070"
      },
      "source": [
        "baban = baban.set_index('predicted')"
      ],
      "execution_count": 47,
      "outputs": []
    },
    {
      "cell_type": "code",
      "metadata": {
        "id": "c5fmM4ZmV0Ai"
      },
      "source": [
        "csvdosyasiseysi = baban.to_csv(\"test_results4.csv\")"
      ],
      "execution_count": 51,
      "outputs": []
    },
    {
      "cell_type": "code",
      "metadata": {
        "id": "C2o6y_2TWdA-"
      },
      "source": [
        "baban.head(\n",
        ")"
      ],
      "execution_count": 49,
      "outputs": [
        {
          "output_type": "execute_result",
          "data": {
            "text/plain": [
              "           level_0  index\n",
              "predicted                \n",
              "0.052133         0      0\n",
              "0.089064         1      1\n",
              "0.109771         2      2\n",
              "0.000000         3      3\n",
              "0.052133         4      4"
            ],
            "text/html": "<div>\n<style scoped>\n    .dataframe tbody tr th:only-of-type {\n        vertical-align: middle;\n    }\n\n    .dataframe tbody tr th {\n        vertical-align: top;\n    }\n\n    .dataframe thead th {\n        text-align: right;\n    }\n</style>\n<table border=\"1\" class=\"dataframe\">\n  <thead>\n    <tr style=\"text-align: right;\">\n      <th></th>\n      <th>level_0</th>\n      <th>index</th>\n    </tr>\n    <tr>\n      <th>predicted</th>\n      <th></th>\n      <th></th>\n    </tr>\n  </thead>\n  <tbody>\n    <tr>\n      <th>0.052133</th>\n      <td>0</td>\n      <td>0</td>\n    </tr>\n    <tr>\n      <th>0.089064</th>\n      <td>1</td>\n      <td>1</td>\n    </tr>\n    <tr>\n      <th>0.109771</th>\n      <td>2</td>\n      <td>2</td>\n    </tr>\n    <tr>\n      <th>0.000000</th>\n      <td>3</td>\n      <td>3</td>\n    </tr>\n    <tr>\n      <th>0.052133</th>\n      <td>4</td>\n      <td>4</td>\n    </tr>\n  </tbody>\n</table>\n</div>"
          },
          "metadata": {},
          "execution_count": 49
        }
      ]
    },
    {
      "cell_type": "code",
      "execution_count": null,
      "metadata": {},
      "outputs": [],
      "source": []
    }
  ]
}