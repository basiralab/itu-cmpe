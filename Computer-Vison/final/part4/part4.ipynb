{
 "cells": [
  {
   "cell_type": "code",
   "execution_count": 1,
   "metadata": {},
   "outputs": [],
   "source": [
    "import nibabel as nib\n",
    "import numpy as np\n",
    "import matplotlib.pyplot as plt\n",
    "import cv2"
   ]
  },
  {
   "cell_type": "code",
   "execution_count": 6,
   "metadata": {},
   "outputs": [],
   "source": [
    "img  = nib.load('/Users/ata/Desktop/vision/BLG453/term project/part4/V.nii').dataobj\n",
    "gt = nib.load('/Users/ata/Desktop/vision/BLG453/term project/part4/V_seg.nii').dataobj"
   ]
  },
  {
   "cell_type": "code",
   "execution_count": 3,
   "metadata": {},
   "outputs": [],
   "source": [
    "def dice_score(seg,gt,eps = 0.0000001):\n",
    "    dice = ((np.sum(seg[gt==1])*2.0)+eps) / (np.sum(seg) + np.sum(gt)+eps)\n",
    "    return dice\n",
    "def seed_selector(img,th = 10):\n",
    "    seeds=[]\n",
    "    w = 10\n",
    "    h = 20\n",
    "    w_size =10\n",
    "    for i in range (w_size) :\n",
    "        window = img[h*(i):h*(i+1),w*(i):w*(i+1)]\n",
    "        temp = np.sum(window)\n",
    "        if temp > th:            \n",
    "            inds = np.where(window == 255)\n",
    "            y = inds[0][0]+ (h*(i)) \n",
    "            x = inds[1][0]+ (w*(i)) \n",
    "            seeds.append((y,x))\n",
    "    return seeds"
   ]
  },
  {
   "cell_type": "code",
   "execution_count": 4,
   "metadata": {},
   "outputs": [],
   "source": [
    "def region_grow(img, seeds, points):\n",
    "    h,w = img.shape\n",
    "    seg_map = np.zeros(img.shape)\n",
    "     \n",
    "    while(len(seeds)>0):\n",
    "        pt = seeds.pop(0)\n",
    "        seg_map[pt] =1\n",
    "        for i in range(len(points)):\n",
    "            y = pt[0] + points[i][0]\n",
    "            x = pt[1] + points[i][1]\n",
    "            if y < 0 or x < 0 or y >= h or x >= w:\n",
    "                continue\n",
    "            diff = img[pt] - img[y,x]\n",
    "            if diff==0 and seg_map[y,x] == 0:\n",
    "                seg_map[y,x] = 1\n",
    "                seeds.append((y,x))\n",
    "    return seg_map\n",
    "    "
   ]
  },
  {
   "cell_type": "code",
   "execution_count": 8,
   "metadata": {},
   "outputs": [],
   "source": [
    "gt = np.array(gt)\n",
    "for i in range(img.shape[2]):\n",
    "    if i ==0:\n",
    "        a = gt[:,:,i].flatten()\n",
    "    else :\n",
    "        a = np.concatenate((a,gt[:,:,i].flatten()),axis = None)\n"
   ]
  },
  {
   "cell_type": "code",
   "execution_count": 7,
   "metadata": {},
   "outputs": [],
   "source": [
    "points_4 = [ (0, -1), (1, 0),(0, 1), (-1, 0)]\n",
    "# points_8 = [ Point(0, -1), Point(1, 0),Point(0, 1), Point(-1, 0)]\n",
    "label_list = []\n",
    "for i in range(img.shape[2]):\n",
    "    den = np.uint8(img[:,:,i]*255)\n",
    "    dst = cv2.bilateralFilter(den,9,100,100)\n",
    "    dst = cv2.threshold(dst, 127, 255, cv2.THRESH_BINARY)[1]\n",
    "    seeds = seed_selector(dst)\n",
    "    if seeds == []:        \n",
    "        labels = np.zeros(dst.shape) #if empty         \n",
    "    else:\n",
    "        labels = region_grow(dst,seeds,points_4 )\n",
    "    if i ==0:\n",
    "        b = labels.flatten()\n",
    "    else :\n",
    "        b = np.concatenate((b,labels.flatten()),axis = None)\n",
    "    label_list.append(labels)"
   ]
  },
  {
   "cell_type": "code",
   "execution_count": 9,
   "metadata": {},
   "outputs": [
    {
     "data": {
      "text/plain": [
       "0.885912901247422"
      ]
     },
     "execution_count": 9,
     "metadata": {},
     "output_type": "execute_result"
    }
   ],
   "source": [
    "dice_score(a,b)"
   ]
  },
  {
   "cell_type": "code",
   "execution_count": 11,
   "metadata": {},
   "outputs": [
    {
     "data": {
      "text/plain": [
       "<matplotlib.image.AxesImage at 0x7fcbb151a850>"
      ]
     },
     "execution_count": 11,
     "metadata": {},
     "output_type": "execute_result"
    },
    {
     "data": {
      "image/png": "[encoded data removed]",
      "text/plain": [
       "<Figure size 432x288 with 1 Axes>"
      ]
     },
     "metadata": {
      "needs_background": "light"
     },
     "output_type": "display_data"
    }
   ],
   "source": [
    "plt.imshow(gt[:,:,55])"
   ]
  },
  {
   "cell_type": "code",
   "execution_count": 10,
   "metadata": {},
   "outputs": [
    {
     "data": {
      "text/plain": [
       "<matplotlib.image.AxesImage at 0x7fcbb14bd520>"
      ]
     },
     "execution_count": 10,
     "metadata": {},
     "output_type": "execute_result"
    },
    {
     "data": {
      "image/png": "[encoded data removed]",
      "text/plain": [
       "<Figure size 432x288 with 1 Axes>"
      ]
     },
     "metadata": {
      "needs_background": "light"
     },
     "output_type": "display_data"
    }
   ],
   "source": [
    "plt.imshow(label_list[55])"
   ]
  },
  {
   "cell_type": "markdown",
   "metadata": {},
   "source": [
    "# 3D "
   ]
  },
  {
   "cell_type": "code",
   "execution_count": 12,
   "metadata": {},
   "outputs": [],
   "source": [
    "def region_grow3d(img, seeds, points):\n",
    "    h,w,d = img.shape\n",
    "    seg_map = np.zeros(img.shape)\n",
    "     \n",
    "    while(len(seeds)>0):\n",
    "        pt = seeds.pop(0)\n",
    "        seg_map[pt] =1\n",
    "        for i in range(len(points)):\n",
    "            y = pt[0] + points[i][0]\n",
    "            x = pt[1] + points[i][1]\n",
    "            z = pt[2] + points[i][2]\n",
    "            if y < 0 or x < 0 or z < 0 or y >= h or x >= w or z >=d:\n",
    "                continue\n",
    "            diff = img[pt] - img[y,x,z]\n",
    "            if diff==0 and seg_map[y,x,z] == 0:\n",
    "                seg_map[y,x,z] = 1\n",
    "                seeds.append((y,x,z))\n",
    "    return seg_map"
   ]
  },
  {
   "cell_type": "code",
   "execution_count": 30,
   "metadata": {},
   "outputs": [],
   "source": [
    "points_26 = []\n",
    "for y in range(-1,2):\n",
    "    for x in range(-1,2):\n",
    "        for z in range(-1,2):\n",
    "            if (y,x,z)!= (0,0,0):\n",
    "                points_26.append((y,x,z))"
   ]
  },
  {
   "cell_type": "code",
   "execution_count": 32,
   "metadata": {},
   "outputs": [
    {
     "data": {
      "text/plain": [
       "26"
      ]
     },
     "execution_count": 32,
     "metadata": {},
     "output_type": "execute_result"
    }
   ],
   "source": []
  },
  {
   "cell_type": "code",
   "execution_count": null,
   "metadata": {},
   "outputs": [],
   "source": []
  }
 ],
 "metadata": {
  "kernelspec": {
   "display_name": "Python 3",
   "language": "python",
   "name": "python3"
  },
  "language_info": {
   "codemirror_mode": {
    "name": "ipython",
    "version": 3
   },
   "file_extension": ".py",
   "mimetype": "text/x-python",
   "name": "python",
   "nbconvert_exporter": "python",
   "pygments_lexer": "ipython3",
   "version": "3.8.5"
  }
 },
 "nbformat": 4,
 "nbformat_minor": 4
}
