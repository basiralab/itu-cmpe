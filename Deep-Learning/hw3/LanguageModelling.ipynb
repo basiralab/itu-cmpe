{
 "cells": [
  {
   "cell_type": "markdown",
   "metadata": {},
   "source": [
    "## Language Modelling Task (45 points)"
   ]
  },
  {
   "cell_type": "markdown",
   "metadata": {},
   "source": [
    "In this task, you will train a language model and use the trained model to generate text. You are expected to use Google Colab for this task. 3 options from the Project Gutenberg is provided as data:  Pride and Prejudice, A Tale of Two Cities and The Brothers Karamazov. You  will  use  cross-entropy  loss  for  optimization  and  use  perplexity  as  a  metric. You should get a maximum validation perplexity of 120 for Pride and Prejudice and 125 for the other books.  Experimenting with only one book is sufficient.  This is not a sufficient value for good language modelling but it is sufficient for this assignment.  For a detailed explanation of cross-entropy and perplexity of a language model, check: https://towardsdatascience.com/the-relationship-between-perplexity-and-entropy-in-nlp-f81888775ccc and https://towardsdatascience.com/perplexity-in-language-models-87a196019a94"
   ]
  },
  {
   "cell_type": "markdown",
   "metadata": {},
   "source": [
    "You need to implement the dataset object and and create dataloaders from it. Then you need to implement network models, training loops and evaluation and generation functions. Instructions for experimentation is provided in Training and Experimentation section."
   ]
  },
  {
   "cell_type": "markdown",
   "metadata": {},
   "source": [
    "### Fill in required parts of code "
   ]
  },
  {
   "cell_type": "code",
   "execution_count": 1,
   "metadata": {
    "executionInfo": {
     "elapsed": 3992,
     "status": "ok",
     "timestamp": 1609426366377,
     "user": {
      "displayName": "Fırat Öncel",
      "photoUrl": "",
      "userId": "09411010771070540721"
     },
     "user_tz": -180
    },
    "id": "xk97LrSrjOOO"
   },
   "outputs": [],
   "source": [
    "import numpy as np\n",
    "import math\n",
    "import matplotlib.pyplot as plt\n",
    "import pandas as pd\n",
    "import torch\n",
    "import torch.nn as nn\n",
    "import re\n",
    "\n",
    "from collections import Counter\n",
    "from torch.utils.data import DataLoader\n",
    "from datetime import datetime\n",
    "\n",
    "%load_ext autoreload\n",
    "%autoreload 2\n",
    "%reload_ext autoreload"
   ]
  },
  {
   "cell_type": "code",
   "execution_count": 2,
   "metadata": {
    "id": "CE3SB2yTkUPs"
   },
   "outputs": [],
   "source": [
    "device = torch.device('cuda' if torch.cuda.is_available() else 'cpu')"
   ]
  },
  {
   "cell_type": "markdown",
   "metadata": {},
   "source": [
    "Fill \\_read_data( ), \\__len__( ), \\__getitem__( ) functions. \n",
    "\n",
    "In \\_read_data( ): Read the data word by word and split data into training and validation sets. \n",
    "            You can choose to either include punctuation marks or exclude the\n",
    "            punctuation marks and add a \\<eos> (end of sentence) token to \n",
    "            state the end of a sentence. Make sure words are cleaned and do not contain \n",
    "            characters like '\\r' etc. Words that start with a capital letter would also\n",
    "            unnecessarily increase the lexicon size. Based on your preference, \n",
    "            you can also remove the parts of the book that belong to Project Gutenberg.\n",
    "                     \n",
    "Required steps to form the lexicon is already given.\n",
    "\n",
    "\n",
    "In \\__len__( ): return size of dataset\n",
    "\n",
    "In \\__getitem__( ): return sample with index idx, should return data and target\n",
    "                    Uses sliding window"
   ]
  },
  {
   "cell_type": "code",
   "execution_count": 3,
   "metadata": {
    "id": "ixcE5OBNjOOR"
   },
   "outputs": [],
   "source": [
    "class Dataset(torch.utils.data.Dataset):\n",
    "    def __init__(\n",
    "        self,\n",
    "        seq_length,\n",
    "        path,\n",
    "        train=True,\n",
    "        train_split=0.8,\n",
    "        device='cuda'\n",
    "    ):\n",
    "        \"\"\" Dataset constructor\n",
    "        Args:\n",
    "            seq_length: sequence length (window size)\n",
    "            path: path of the data file\n",
    "            train: train vs validation option\n",
    "            train_split: ratio of the training data\n",
    "            device: cpu or cuda\n",
    "        \"\"\"\n",
    "        self.seq_length = seq_length\n",
    "#         self.mode = mode\n",
    "        self.train_split = train_split\n",
    "        self.path = path\n",
    "        self.all_data, self.train_data, self.eval_data = self._read_data()\n",
    "        \n",
    "        self.unique_data = self._find_unique()\n",
    "\n",
    "        self.idx_data = {idx: data for idx, data in enumerate(self.unique_data)}\n",
    "        self.data_idx = {data: idx for idx, data in enumerate(self.unique_data)}\n",
    "        \n",
    "        self.data = self.train_data if train else self.eval_data\n",
    "\n",
    "        self.indexed_data = np.array([self.data_idx[i] for i in self.data])\n",
    "        \n",
    "        self.indexed_data = torch.from_numpy(self.indexed_data).to(device)\n",
    "\n",
    "    def _read_data(self):\n",
    "        \"\"\" Reads data word by word and splits data into training and validation\n",
    "            You can choose to either include punctuation marks or exclude the\n",
    "            punctuation marks and add a <eos> (end of sentence) token to \n",
    "            state the end of a sentence. Make sure words are cleaned and do not contain \n",
    "            characters like '\\r' etc. Words that start with a capital letter would also\n",
    "            unnecessarily increase the lexicon size. Based on your preference, \n",
    "            you can also remove the parts of the book that belong to Project Gutenberg.\n",
    "            Fill in parts with None \n",
    "        \"\"\"\n",
    "        text = open(self.path, 'rb').read().decode(encoding='utf-8')\n",
    "        data = re.sub('[^A-Za-z\\.]+', ' ', text).strip().lower()\n",
    "        data = re.sub('\\.', ' <eos> ', data).split()\n",
    "        from nltk.stem import WordNetLemmatizer as wnl\n",
    "        data = [wnl().lemmatize(word) for word in data]\n",
    "#         stop_words_long = ['i', 'me', 'my', 'myself', 'we', 'our', 'ours', 'ourselves', 'you', \"you're\", \"you've\", \"you'll\", \"you'd\", 'your', 'yours', 'yourself', 'yourselves', 'he', 'him', 'his', 'himself', 'she', \"she's\", 'her', 'hers', 'herself', 'it', \"it's\", 'its', 'itself', 'they', 'them', 'their', 'theirs', 'themselves', 'what', 'which', 'who', 'whom', 'this', 'that', \"that'll\", 'these', 'those', 'am', 'is', 'are', 'was', 'were', 'be', 'been', 'being', 'have', 'has', 'had', 'having', 'do', 'does', 'did', 'doing', 'a', 'an', 'the', 'and', 'but', 'if', 'or', 'because', 'as', 'until', 'while', 'of', 'at', 'by', 'for', 'with', 'about', 'against', 'between', 'into', 'through', 'during', 'before', 'after', 'above', 'below', 'to', 'from', 'up', 'down', 'in', 'out', 'on', 'off', 'over', 'under', 'again', 'further', 'then', 'once', 'here', 'there', 'when', 'where', 'why', 'how', 'all', 'any', 'both', 'each', 'few', 'more', 'most', 'other', 'some', 'such', 'no', 'nor', 'not', 'only', 'own', 'same', 'so', 'than', 'too', 'very', 's', 't', 'can', 'will', 'just', 'don', \"don't\", 'should', \"should've\", 'now', 'd', 'll', 'm', 'o', 're', 've', 'y', 'ain', 'aren', \"aren't\", 'couldn', \"couldn't\", 'didn', \"didn't\", 'doesn', \"doesn't\", 'hadn', \"hadn't\", 'hasn', \"hasn't\", 'haven', \"haven't\", 'isn', \"isn't\", 'ma', 'mightn', \"mightn't\", 'mustn', \"mustn't\", 'needn', \"needn't\", 'shan', \"shan't\", 'shouldn', \"shouldn't\", 'wasn', \"wasn't\", 'weren', \"weren't\", 'won', \"won't\", 'wouldn', \"wouldn't\"]\n",
    "#         stop_words = ['this', 'that', 'and', 'a', 'we', 'it', 'to', 'is', 'of', 'up', 'need', 'i', 'me', 'my']\n",
    "#         for word in stop_words:\n",
    "#             print(\"Now removing the word '{}'\".format(word))\n",
    "#             while True:\n",
    "#                 try:\n",
    "#                     data.remove(word)\n",
    "#                 except ValueError:\n",
    "#                     break\n",
    "#             print(\"Now replacing the word '{}'\".format(word))\n",
    "#             for i, datum in enumerate(data):\n",
    "#                 if datum == word:\n",
    "#                     data[i] = \"<sw>\"\n",
    "#         print(\"Lemmatization done!\")\n",
    "        train_data = data[0:int(len(data)*self.train_split)]\n",
    "        eval_data = data[int(len(data)*self.train_split):]\n",
    "        return data, train_data, eval_data\n",
    "\n",
    "    def _find_unique(self):\n",
    "        \"\"\" Finds unique words and sorts them according to their frequency - most frequent first\n",
    "        \"\"\"\n",
    "        data_count = Counter(self.all_data)\n",
    "        return sorted(data_count, key=data_count.get, reverse=True)\n",
    "\n",
    "    def __len__(self):\n",
    "        \"\"\" Size of dataset\n",
    "            Fill in parts with None \n",
    "        \"\"\"\n",
    "        return len(self.indexed_data) - self.seq_length\n",
    "\n",
    "    def __getitem__(self, idx):\n",
    "        \"\"\" Get sample with index idx, should return data and target\n",
    "            Uses sliding window\n",
    "            Fill in parts with None \n",
    "        \"\"\"\n",
    "        return (self.indexed_data[idx:idx+self.seq_length],\n",
    "                self.indexed_data[idx+1:idx+self.seq_length+1])"
   ]
  },
  {
   "cell_type": "code",
   "execution_count": 4,
   "metadata": {
    "id": "oB7W7czijOOS"
   },
   "outputs": [],
   "source": [
    "\"\"\" Get dataset and dataloader for train and validation\n",
    "    Using only 1 book from the data is sufficient\n",
    "\"\"\"\n",
    "books = [\"data/pride_prejudice.txt\", \"data/tale_of_two_cities.txt\", \"data/the_brothers_karamazov.txt\"]\n",
    "train_dataset = Dataset(seq_length=40, path=books[2], train=True)\n",
    "trainloader = DataLoader(train_dataset, batch_size=600, shuffle=False, drop_last=True)\n",
    "eval_dataset = Dataset(seq_length=40, path=books[2], train=False)\n",
    "evalloader = DataLoader(eval_dataset, batch_size=600, shuffle=False, drop_last=True)"
   ]
  },
  {
   "cell_type": "markdown",
   "metadata": {},
   "source": [
    "Complete RNNModel and GatedModel (either with LSTM or GRU). Do not forget to create word embeddings."
   ]
  },
  {
   "cell_type": "code",
   "execution_count": 5,
   "metadata": {
    "id": "0d6cWdiMjOOT"
   },
   "outputs": [],
   "source": [
    "class RNNModel(nn.Module):\n",
    "\n",
    "    def __init__(self, ntoken, embed_size=64, hidden_size=64,\n",
    "                 hidden_layers=2, batch_size=20, dropout=0.1, device='cuda'):\n",
    "        super(RNNModel, self).__init__()\n",
    "        \"\"\" RNNModel constructor\n",
    "        Args:\n",
    "            ntoken: token size\n",
    "            embed_size: embedding dimension size\n",
    "            hidden_size: hidden layer dimension size\n",
    "            hidden_layers: number of hidden layers\n",
    "            seq_length: length of sequence\n",
    "            dropout: dropout\n",
    "            device: cpu or cuda\n",
    "        \"\"\"\n",
    "        \"\"\"Fill in parts with None\"\"\"\n",
    "        \n",
    "        self.hidden_layers = hidden_layers\n",
    "        self.ntoken = ntoken\n",
    "        self.embed_size = embed_size\n",
    "        self.hidden_size = hidden_size\n",
    "        self.bs = batch_size\n",
    "        self.dropout = dropout\n",
    "        self.device = device\n",
    "        \n",
    "        self.embed = nn.Embedding(ntoken, embed_size)\n",
    "        self.rnn = nn.RNN(embed_size, hidden_size, hidden_layers, dropout=dropout, batch_first=True)\n",
    "        self.linear = nn.Linear(hidden_size, ntoken)\n",
    "        self.to(device)\n",
    "\n",
    "    def forward(self, x, state):\n",
    "        \"\"\"Forward pass for RNNModel\"\"\"\n",
    "        if self.dropout and self.training:\n",
    "            dropout = nn.Dropout(self.dropout)\n",
    "        else:\n",
    "            dropout = nn.Dropout(0)\n",
    "\n",
    "        embeds = self.embed(x)\n",
    "        out_rnn, state = self.rnn(embeds, state)\n",
    "#         logits = dropout(self.linear(out_rnn))\n",
    "        logits = self.linear(out_rnn)\n",
    "#         logits = nn.functional.log_softmax(logits)\n",
    "        return logits, state\n",
    "    \n",
    "    def initialize(self, bs=None):\n",
    "        \"\"\" Initialize hidden states \"\"\"\n",
    "        if not bs:\n",
    "            bs = self.bs\n",
    "        hidden_state = torch.zeros(self.hidden_layers, bs, self.hidden_size).to(self.device)\n",
    "        return hidden_state"
   ]
  },
  {
   "cell_type": "code",
   "execution_count": 6,
   "metadata": {
    "id": "fakOEOAsjOOT"
   },
   "outputs": [],
   "source": [
    "class GatedModel(nn.Module):\n",
    "\n",
    "    def __init__(self, ntoken, embed_size=64, hidden_size=64,\n",
    "                 hidden_layers=2, batch_size=20, dropout=0.1, device='cuda'):\n",
    "        super(GatedModel, self).__init__()\n",
    "        \"\"\" GatedModel constructor\n",
    "        Args:\n",
    "            ntoken: token size\n",
    "            embed_size: embedding dimension size\n",
    "            hidden_size: hidden layer dimension size\n",
    "            hidden_layers: number of hidden layers\n",
    "            seq_length: length of sequence\n",
    "            dropout: dropout\n",
    "            device: cpu or cuda\n",
    "        \"\"\"\n",
    "        \"\"\"Fill in parts with None\"\"\"\n",
    "        \n",
    "        self.hidden_layers = hidden_layers\n",
    "        self.ntoken = ntoken\n",
    "        self.embed_size = embed_size\n",
    "        self.hidden_size = hidden_size\n",
    "        self.bs = batch_size\n",
    "        self.dropout = dropout\n",
    "        self.device = device\n",
    "        \n",
    "        self.embed = nn.Embedding(ntoken, embed_size)\n",
    "        self.lstm = nn.LSTM(embed_size, hidden_size, hidden_layers, dropout=dropout, batch_first=True)\n",
    "        self.linear = nn.Linear(hidden_size, ntoken)\n",
    "        self.to(device)\n",
    "\n",
    "    def forward(self, x, state):\n",
    "        \"\"\"Forward pass for LSTMModel\"\"\"\n",
    "        if self.dropout and self.training:\n",
    "            dropout = nn.Dropout(self.dropout)\n",
    "        else:\n",
    "            dropout = nn.Dropout(0)\n",
    "\n",
    "        embeds = self.embed(x)\n",
    "        out_lstm, state = self.lstm(embeds, state)\n",
    "#         logits = dropout(self.linear(out_lstm))\n",
    "        logits = self.linear(out_lstm)\n",
    "        return logits, state\n",
    "\n",
    "    def initialize(self, bs=None):\n",
    "        \"\"\" Initialize hidden states \"\"\"\n",
    "        if not bs:\n",
    "            bs = self.bs\n",
    "        hidden_state = torch.zeros(self.hidden_layers, bs, self.hidden_size).to(self.device)\n",
    "        cell_state = torch.zeros(self.hidden_layers, bs, self.hidden_size).to(self.device)\n",
    "        return hidden_state, cell_state"
   ]
  },
  {
   "cell_type": "markdown",
   "metadata": {},
   "source": [
    "Complete the functions below."
   ]
  },
  {
   "cell_type": "code",
   "execution_count": 7,
   "metadata": {
    "id": "BMnsEe4ojOOT"
   },
   "outputs": [],
   "source": [
    "def train_one_epoch(model, criterion, optimizer, dataloader,\n",
    "                    log=True, log_interval=200, grad_clip=False, clip_val=0.5):\n",
    "    \"\"\" Single epoch training function\n",
    "    Args:\n",
    "        model: network model\n",
    "        criterion: loss function\n",
    "        optimizer: optimizer\n",
    "        dataloader: dataloader\n",
    "        log: print loss and perplexity? (boolean)\n",
    "        log_interval: interval to log\n",
    "        grad_clip: perform gradient clipping? (boolean)\n",
    "        clip_val: value for gradient clipping\n",
    "    \"\"\"\n",
    "    \"\"\"Fill in parts with None\"\"\"\n",
    "    model.train()\n",
    "    state = model.initialize(dataloader.batch_size)\n",
    "    total_loss = 0\n",
    "    for batch, (x, y) in enumerate(dataloader):\n",
    "        optimizer.zero_grad()\n",
    "        y_pred, state = model(x, state)\n",
    "        loss = criterion(y_pred.transpose(1, 2), y)\n",
    "        total_loss += loss\n",
    "\n",
    "        if type(state) is tuple:\n",
    "            state = [s.detach() for s in state]\n",
    "        else:\n",
    "            state = state.detach()\n",
    "        loss.backward()\n",
    "\n",
    "        if grad_clip:\n",
    "            nn.utils.clip_grad_norm_(model.parameters(), clip_val)\n",
    "\n",
    "        optimizer.step()\n",
    "        \n",
    "        if batch % log_interval == 0 and log:\n",
    "            print(\"Batch: {}, Loss: {}\".format(batch, loss))\n",
    "    return total_loss / (len(dataloader))"
   ]
  },
  {
   "cell_type": "code",
   "execution_count": 8,
   "metadata": {
    "id": "8axxPdGfjOOU"
   },
   "outputs": [],
   "source": [
    "def evaluate(model, criterion, dataloader, log=True):\n",
    "    \"\"\" Evaluation function\n",
    "    Args:\n",
    "        model: network model\n",
    "        criterion: loss function\n",
    "        dataloader: dataloader\n",
    "        log: print loss and perplexity? (boolean)\n",
    "    \"\"\"\n",
    "    \"\"\"Fill in parts with None\"\"\"\n",
    "    model.eval()\n",
    "    state = model.initialize(dataloader.batch_size)\n",
    "    total_loss = 0\n",
    "    for batch, (x, y) in enumerate(dataloader):\n",
    "        with torch.no_grad():\n",
    "            y_pred, state = model(x, state)\n",
    "            loss = criterion(y_pred.transpose(1, 2), y)\n",
    "            total_loss += loss\n",
    "            if type(state) is tuple:\n",
    "                state = [s.detach() for s in state]\n",
    "            else:\n",
    "                state = state.detach()\n",
    "    perplexity = torch.exp(total_loss / len(dataloader))\n",
    "    if log:\n",
    "        print('Loss:', total_loss.item() / len(dataloader), 'PP:', perplexity.item())\n",
    "    return total_loss / (len(dataloader)), perplexity"
   ]
  },
  {
   "cell_type": "code",
   "execution_count": 9,
   "metadata": {
    "id": "PuasM3w6jOOU"
   },
   "outputs": [],
   "source": [
    "def train(trainloader, evalloader, model, optimizer, criterion,\n",
    "          nepoch, grad_clip=False, clip_val=0.9 , log_interval=1,\n",
    "          scheduler=None, eval_during_train=True, eval_interval=1, \n",
    "          save_interval=1, model_name='model'):\n",
    "    \"\"\" Training function\n",
    "    Args:\n",
    "        trainloader: dataloader for training dataset\n",
    "        evalloader: dataloader for evaluation dataset\n",
    "        model: network model\n",
    "        optimizer: optimizer\n",
    "        criterion: loss function\n",
    "        nepoch: number of epochs\n",
    "        grad_clip: perform gradient clipping? (boolean)\n",
    "        clip_val: value for gradient clipping\n",
    "        log_interval: interval to log\n",
    "        optimizer: learning rate scheduler\n",
    "        eval_during_train: perform evaluation during training? (boolean)\n",
    "        eval_interval: interval to evaluate\n",
    "        save_interval: interval to save\n",
    "        model_name: model name to save\n",
    "    \"\"\"\n",
    "    \"\"\"Fill in parts with None\"\"\"\n",
    "    train_losses = []\n",
    "    validation_losses = []\n",
    "    pps = []\n",
    "    for ep in range(nepoch):\n",
    "        if scheduler:\n",
    "            scheduler.step()\n",
    "        train_loss = train_one_epoch(model, criterion, optimizer, trainloader,\n",
    "                    log=True, log_interval=120, grad_clip=grad_clip, clip_val=clip_val)\n",
    "        train_losses.append(train_loss.item())\n",
    "        if ep % log_interval == 0:\n",
    "            print({'Epoch': ep+1, 'loss': train_loss.item()})\n",
    "        if eval_during_train and ep % eval_interval == 0:\n",
    "            eval_loss, pp = evaluate(model, criterion, evalloader, log=True)\n",
    "            validation_losses.append(eval_loss.item())\n",
    "            pps.append(pp.item())\n",
    "        if ep % save_interval == 0:\n",
    "            torch.save(model, './models/'\n",
    "                       + model_name + '.p')\n",
    "    return train_losses, validation_losses, pps"
   ]
  },
  {
   "cell_type": "code",
   "execution_count": 10,
   "metadata": {
    "id": "ye2n8de4jOOU"
   },
   "outputs": [],
   "source": [
    "def generate(model, data, data_idx_dict, idx_data_dict, \n",
    "             len_hist=50, len_gen=50, device='cuda'):\n",
    "    \"\"\" Generate text function\n",
    "        To get the predictions of the model, sample from the output distribution\n",
    "        instead of taking the argmax\n",
    "    Args:\n",
    "        model: network model\n",
    "        data: data\n",
    "        data_idx_dict: data to index dictionary\n",
    "        idx_data_dict: index to data dictionary\n",
    "        len_hist: length of history\n",
    "        len_gen: length to generate\n",
    "        device: cpu or cuda\n",
    "    \"\"\"\n",
    "    \"\"\"Fill in parts with None\"\"\"\n",
    "    model.eval()\n",
    "    state = model.initialize(len_hist)\n",
    "    for i in range(len_gen):\n",
    "        x = torch.tensor([[data_idx_dict[word] for word in data[i:len_hist+i]]]).view(len_hist, -1).to(device)\n",
    "        with torch.no_grad():\n",
    "            y_pred, state = model(x, state)\n",
    "        last_logits = y_pred[0][-1]\n",
    "        \"\"\"idx: sampled indices from the output distribution\"\"\"\n",
    "        idx = np.random.choice(len(last_logits), p=nn.functional.softmax(last_logits, dim=0).cpu().numpy())\n",
    "        data.append(idx_data_dict[idx])\n",
    "    return ' '.join(data[-(len_hist+len_gen):])"
   ]
  },
  {
   "cell_type": "markdown",
   "metadata": {
    "id": "v9i3QwJtjOOW"
   },
   "source": [
    "## Training and Experimentation "
   ]
  },
  {
   "cell_type": "markdown",
   "metadata": {},
   "source": [
    "Train and tune 3 networks as follows: Network with RNNModel without gradient clipping, network with RNNModel with gradient clipping, and network with GatedModel (LSTM or GRU according to your choice) without gradient clipping.  You should get a maximum validation perplexity of 120 for Pride and Prejudice and 125 for the other books. You should save your final models and provide them in the submission. You should plot the loss curves and perplexity curves for all 3 models in 2 figures (one for loss and one for perplexity). These plots should ve saved as a seperate image file and provided in submission for safety. Finally you should evaluate the final models and generate sample texts from each of them."
   ]
  },
  {
   "cell_type": "markdown",
   "metadata": {},
   "source": [
    "Sequence length should be at least 20."
   ]
  },
  {
   "cell_type": "code",
   "execution_count": 11,
   "metadata": {},
   "outputs": [
    {
     "name": "stdout",
     "output_type": "stream",
     "text": [
      "Total number of params: 26280473\n",
      "Len of dataset: 382831\n",
      "Number of unique words 10777\n"
     ]
    }
   ],
   "source": [
    "ntoken = len(train_dataset.unique_data)\n",
    "rnn_model = RNNModel(ntoken, embed_size=1024, hidden_size=1024, hidden_layers=2, batch_size=trainloader.batch_size, dropout=0.2)\n",
    "\n",
    "total_param = []\n",
    "for p in rnn_model.parameters():\n",
    "    total_param.append(int(p.numel()))\n",
    "\n",
    "print(\"Total number of params: {}\".format(sum(total_param)))\n",
    "print(\"Len of dataset: {}\".format(len(train_dataset) + len(eval_dataset)))\n",
    "print(\"Number of unique words {}\".format(ntoken))"
   ]
  },
  {
   "cell_type": "code",
   "execution_count": 12,
   "metadata": {},
   "outputs": [
    {
     "name": "stderr",
     "output_type": "stream",
     "text": [
      "/home/batuhanfaik/anaconda3/envs/pytorch/lib/python3.8/site-packages/torch/optim/lr_scheduler.py:131: UserWarning: Detected call of `lr_scheduler.step()` before `optimizer.step()`. In PyTorch 1.1.0 and later, you should call them in the opposite order: `optimizer.step()` before `lr_scheduler.step()`.  Failure to do this will result in PyTorch skipping the first value of the learning rate schedule. See more details at https://pytorch.org/docs/stable/optim.html#how-to-adjust-learning-rate\n",
      "  warnings.warn(\"Detected call of `lr_scheduler.step()` before `optimizer.step()`. \"\n"
     ]
    },
    {
     "name": "stdout",
     "output_type": "stream",
     "text": [
      "Batch: 0, Loss: 9.278165817260742\n",
      "Batch: 120, Loss: 6.104422092437744\n",
      "Batch: 240, Loss: 6.081319808959961\n",
      "Batch: 360, Loss: 5.161526203155518\n",
      "Batch: 480, Loss: 5.642121315002441\n",
      "{'Epoch': 1, 'loss': 5.997591018676758}\n",
      "Loss: 5.551631416861467 PP: 257.6575622558594\n",
      "Batch: 0, Loss: 6.19199275970459\n",
      "Batch: 120, Loss: 5.144994258880615\n",
      "Batch: 240, Loss: 5.545177936553955\n",
      "Batch: 360, Loss: 4.712976455688477\n",
      "Batch: 480, Loss: 5.265422344207764\n",
      "{'Epoch': 2, 'loss': 5.2242560386657715}\n",
      "Loss: 5.337923305241142 PP: 208.08009338378906\n",
      "Batch: 0, Loss: 5.544319152832031\n",
      "Batch: 120, Loss: 4.854564666748047\n",
      "Batch: 240, Loss: 5.310396671295166\n",
      "Batch: 360, Loss: 4.5295562744140625\n",
      "Batch: 480, Loss: 5.061334609985352\n",
      "{'Epoch': 3, 'loss': 4.966558933258057}\n",
      "Loss: 5.249016228623278 PP: 190.37889099121094\n",
      "Batch: 0, Loss: 4.951329708099365\n",
      "Batch: 120, Loss: 4.6731181144714355\n",
      "Batch: 240, Loss: 5.120663642883301\n",
      "Batch: 360, Loss: 4.390563488006592\n",
      "Batch: 480, Loss: 4.899432182312012\n",
      "{'Epoch': 4, 'loss': 4.785416603088379}\n",
      "Loss: 5.199072650098425 PP: 181.10426330566406\n",
      "Batch: 0, Loss: 4.5395917892456055\n",
      "Batch: 120, Loss: 4.51568603515625\n",
      "Batch: 240, Loss: 4.952754974365234\n",
      "Batch: 360, Loss: 4.2723002433776855\n",
      "Batch: 480, Loss: 4.759378433227539\n",
      "{'Epoch': 5, 'loss': 4.634612560272217}\n",
      "Loss: 5.169459545706201 PP: 175.8197479248047\n",
      "Batch: 0, Loss: 4.26177978515625\n",
      "Batch: 120, Loss: 4.379209995269775\n",
      "Batch: 240, Loss: 4.801949501037598\n",
      "Batch: 360, Loss: 4.168408393859863\n",
      "Batch: 480, Loss: 4.627598285675049\n",
      "{'Epoch': 6, 'loss': 4.499911308288574}\n",
      "Loss: 5.152716689222441 PP: 172.9005584716797\n",
      "Batch: 0, Loss: 4.02921199798584\n",
      "Batch: 120, Loss: 4.252687454223633\n",
      "Batch: 240, Loss: 4.660061359405518\n",
      "Batch: 360, Loss: 4.075539588928223\n",
      "Batch: 480, Loss: 4.501449108123779\n",
      "{'Epoch': 7, 'loss': 4.375260829925537}\n",
      "Loss: 5.145903339536171 PP: 171.72650146484375\n",
      "Batch: 0, Loss: 3.820848226547241\n",
      "Batch: 120, Loss: 4.165374755859375\n",
      "Batch: 240, Loss: 4.503144264221191\n",
      "Batch: 360, Loss: 3.9666712284088135\n",
      "Batch: 480, Loss: 4.218885898590088\n",
      "{'Epoch': 8, 'loss': 4.241796016693115}\n",
      "Loss: 5.114846056840551 PP: 166.4751739501953\n",
      "Batch: 0, Loss: 3.7584993839263916\n",
      "Batch: 120, Loss: 4.113259315490723\n",
      "Batch: 240, Loss: 4.467953681945801\n",
      "Batch: 360, Loss: 3.937831401824951\n",
      "Batch: 480, Loss: 4.227825164794922\n",
      "{'Epoch': 9, 'loss': 4.209096908569336}\n",
      "Loss: 5.1121201402559056 PP: 166.02197265625\n",
      "Batch: 0, Loss: 3.718550205230713\n",
      "Batch: 120, Loss: 4.090610504150391\n",
      "Batch: 240, Loss: 4.446359157562256\n",
      "Batch: 360, Loss: 3.9230198860168457\n",
      "Batch: 480, Loss: 4.223564147949219\n",
      "{'Epoch': 10, 'loss': 4.190506458282471}\n",
      "Loss: 5.111871674304872 PP: 165.98072814941406\n",
      "Batch: 0, Loss: 3.6814162731170654\n",
      "Batch: 120, Loss: 4.070901870727539\n",
      "Batch: 240, Loss: 4.426939010620117\n",
      "Batch: 360, Loss: 3.9125618934631348\n",
      "Batch: 480, Loss: 4.217878818511963\n",
      "{'Epoch': 11, 'loss': 4.174540042877197}\n",
      "Loss: 5.11255219226747 PP: 166.09371948242188\n",
      "Batch: 0, Loss: 3.648728609085083\n",
      "Batch: 120, Loss: 4.055680751800537\n",
      "Batch: 240, Loss: 4.412873268127441\n",
      "Batch: 360, Loss: 3.900566816329956\n",
      "Batch: 480, Loss: 4.210386276245117\n",
      "{'Epoch': 12, 'loss': 4.159700393676758}\n",
      "Loss: 5.113881509135089 PP: 166.3146514892578\n",
      "Batch: 0, Loss: 3.6186814308166504\n",
      "Batch: 120, Loss: 4.042618274688721\n",
      "Batch: 240, Loss: 4.395167827606201\n",
      "Batch: 360, Loss: 3.888298273086548\n",
      "Batch: 480, Loss: 4.202391147613525\n",
      "{'Epoch': 13, 'loss': 4.145552635192871}\n",
      "Loss: 5.1156472033403055 PP: 166.6085968017578\n",
      "Batch: 0, Loss: 3.590095043182373\n",
      "Batch: 120, Loss: 4.028311252593994\n",
      "Batch: 240, Loss: 4.3801655769348145\n",
      "Batch: 360, Loss: 3.877389907836914\n",
      "Batch: 480, Loss: 4.191987991333008\n",
      "{'Epoch': 14, 'loss': 4.131664276123047}\n",
      "Loss: 5.11784591074065 PP: 166.97532653808594\n",
      "Batch: 0, Loss: 3.563356399536133\n",
      "Batch: 120, Loss: 4.012506008148193\n",
      "Batch: 240, Loss: 4.362781047821045\n",
      "Batch: 360, Loss: 3.8667116165161133\n",
      "Batch: 480, Loss: 4.180727958679199\n",
      "{'Epoch': 15, 'loss': 4.118045330047607}\n",
      "Loss: 5.1204079455278055 PP: 167.40367126464844\n"
     ]
    }
   ],
   "source": [
    "nepoch = 15\n",
    "lr = 1e-4\n",
    "\n",
    "criterion = torch.nn.CrossEntropyLoss()\n",
    "# criterion = torch.nn.NLLLoss()\n",
    "# optimizer = torch.optim.SGD(rnn_model.parameters(), lr=lr, momentum=0.9, weight_decay=1e-4, nesterov=True)\n",
    "optimizer = torch.optim.Adam(rnn_model.parameters(), lr=lr)\n",
    "scheduler = torch.optim.lr_scheduler.StepLR(optimizer, step_size=8, gamma=0.1)\n",
    "# scheduler = torch.optim.lr_scheduler.CosineAnnealingLR(optimizer, 50)\n",
    "rnn_model_train_losses, rnn_model_val_losses, rnn_model_perplexities = train(trainloader, evalloader, rnn_model, optimizer, criterion, nepoch, log_interval=1, grad_clip=False, scheduler=scheduler)"
   ]
  },
  {
   "cell_type": "code",
   "execution_count": 13,
   "metadata": {},
   "outputs": [
    {
     "name": "stdout",
     "output_type": "stream",
     "text": [
      "Total number of params: 26280473\n",
      "Len of dataset: 382831\n",
      "Number of unique words 10777\n"
     ]
    }
   ],
   "source": [
    "ntoken = len(train_dataset.unique_data)\n",
    "rnn_model_clip = RNNModel(ntoken, embed_size=1024, hidden_size=1024, hidden_layers=2, batch_size=trainloader.batch_size, dropout=0.2)\n",
    "\n",
    "total_param = []\n",
    "for p in rnn_model_clip.parameters():\n",
    "    total_param.append(int(p.numel()))\n",
    "\n",
    "print(\"Total number of params: {}\".format(sum(total_param)))\n",
    "print(\"Len of dataset: {}\".format(len(train_dataset) + len(eval_dataset)))\n",
    "print(\"Number of unique words {}\".format(ntoken))"
   ]
  },
  {
   "cell_type": "code",
   "execution_count": 14,
   "metadata": {},
   "outputs": [
    {
     "name": "stdout",
     "output_type": "stream",
     "text": [
      "Batch: 0, Loss: 9.358245849609375\n",
      "Batch: 120, Loss: 6.144212245941162\n",
      "Batch: 240, Loss: 6.107687950134277\n",
      "Batch: 360, Loss: 5.162574768066406\n",
      "Batch: 480, Loss: 5.602473258972168\n",
      "{'Epoch': 1, 'loss': 6.012051582336426}\n",
      "Loss: 5.548252856637549 PP: 256.78857421875\n",
      "Batch: 0, Loss: 6.234859466552734\n",
      "Batch: 120, Loss: 5.154621601104736\n",
      "Batch: 240, Loss: 5.560669422149658\n",
      "Batch: 360, Loss: 4.699883937835693\n",
      "Batch: 480, Loss: 5.2467427253723145\n",
      "{'Epoch': 2, 'loss': 5.211381435394287}\n",
      "Loss: 5.332856426088829 PP: 207.0284423828125\n",
      "Batch: 0, Loss: 5.642930507659912\n",
      "Batch: 120, Loss: 4.862180709838867\n",
      "Batch: 240, Loss: 5.323330879211426\n",
      "Batch: 360, Loss: 4.519533634185791\n",
      "Batch: 480, Loss: 5.0579729080200195\n",
      "{'Epoch': 3, 'loss': 4.9476470947265625}\n",
      "Loss: 5.2435317152128444 PP: 189.33761596679688\n",
      "Batch: 0, Loss: 5.083157062530518\n",
      "Batch: 120, Loss: 4.67581844329834\n",
      "Batch: 240, Loss: 5.139770030975342\n",
      "Batch: 360, Loss: 4.3869428634643555\n",
      "Batch: 480, Loss: 4.9084906578063965\n",
      "{'Epoch': 4, 'loss': 4.763446807861328}\n",
      "Loss: 5.193870724655512 PP: 180.16453552246094\n",
      "Batch: 0, Loss: 4.6933722496032715\n",
      "Batch: 120, Loss: 4.523310661315918\n",
      "Batch: 240, Loss: 4.979928016662598\n",
      "Batch: 360, Loss: 4.276966571807861\n",
      "Batch: 480, Loss: 4.777977466583252\n",
      "{'Epoch': 5, 'loss': 4.61068868637085}\n",
      "Loss: 5.166035809854823 PP: 175.21884155273438\n",
      "Batch: 0, Loss: 4.421967029571533\n",
      "Batch: 120, Loss: 4.390601634979248\n",
      "Batch: 240, Loss: 4.8337202072143555\n",
      "Batch: 360, Loss: 4.176014423370361\n",
      "Batch: 480, Loss: 4.653228282928467\n",
      "{'Epoch': 6, 'loss': 4.475459098815918}\n",
      "Loss: 5.151757428026575 PP: 172.73475646972656\n",
      "Batch: 0, Loss: 4.199863433837891\n",
      "Batch: 120, Loss: 4.270065784454346\n",
      "Batch: 240, Loss: 4.698463439941406\n",
      "Batch: 360, Loss: 4.086294174194336\n",
      "Batch: 480, Loss: 4.5353240966796875\n",
      "{'Epoch': 7, 'loss': 4.351200103759766}\n",
      "Loss: 5.147304745171014 PP: 171.96734619140625\n",
      "Batch: 0, Loss: 4.0018439292907715\n",
      "Batch: 120, Loss: 4.181181907653809\n",
      "Batch: 240, Loss: 4.565236568450928\n",
      "Batch: 360, Loss: 3.982074499130249\n",
      "Batch: 480, Loss: 4.269906997680664\n",
      "{'Epoch': 8, 'loss': 4.222135066986084}\n",
      "Loss: 5.113640732652559 PP: 166.2746124267578\n",
      "Batch: 0, Loss: 3.9557862281799316\n",
      "Batch: 120, Loss: 4.14116096496582\n",
      "Batch: 240, Loss: 4.528491020202637\n",
      "Batch: 360, Loss: 3.9546353816986084\n",
      "Batch: 480, Loss: 4.275051593780518\n",
      "{'Epoch': 9, 'loss': 4.189436912536621}\n",
      "Loss: 5.110635111651082 PP: 165.775634765625\n",
      "Batch: 0, Loss: 3.918133020401001\n",
      "Batch: 120, Loss: 4.1221466064453125\n",
      "Batch: 240, Loss: 4.507147312164307\n",
      "Batch: 360, Loss: 3.937946319580078\n",
      "Batch: 480, Loss: 4.272099018096924\n",
      "{'Epoch': 10, 'loss': 4.170969486236572}\n",
      "Loss: 5.110156922828494 PP: 165.6963653564453\n",
      "Batch: 0, Loss: 3.88333797454834\n",
      "Batch: 120, Loss: 4.106699466705322\n",
      "Batch: 240, Loss: 4.487797737121582\n",
      "Batch: 360, Loss: 3.927323818206787\n",
      "Batch: 480, Loss: 4.262853145599365\n",
      "{'Epoch': 11, 'loss': 4.15497350692749}\n",
      "Loss: 5.110725462906004 PP: 165.79058837890625\n",
      "Batch: 0, Loss: 3.8545093536376953\n",
      "Batch: 120, Loss: 4.090012550354004\n",
      "Batch: 240, Loss: 4.47320556640625\n",
      "Batch: 360, Loss: 3.916038990020752\n",
      "Batch: 480, Loss: 4.2559309005737305\n",
      "{'Epoch': 12, 'loss': 4.140163898468018}\n",
      "Loss: 5.111942801888533 PP: 165.99252319335938\n",
      "Batch: 0, Loss: 3.8273017406463623\n",
      "Batch: 120, Loss: 4.075050354003906\n",
      "Batch: 240, Loss: 4.456024646759033\n",
      "Batch: 360, Loss: 3.9044272899627686\n",
      "Batch: 480, Loss: 4.2447991371154785\n",
      "{'Epoch': 13, 'loss': 4.126033782958984}\n",
      "Loss: 5.113590270515502 PP: 166.26622009277344\n",
      "Batch: 0, Loss: 3.801832437515259\n",
      "Batch: 120, Loss: 4.062283039093018\n",
      "Batch: 240, Loss: 4.443986892700195\n",
      "Batch: 360, Loss: 3.8937647342681885\n",
      "Batch: 480, Loss: 4.234742641448975\n",
      "{'Epoch': 14, 'loss': 4.112325668334961}\n",
      "Loss: 5.115551565575787 PP: 166.59262084960938\n",
      "Batch: 0, Loss: 3.7764787673950195\n",
      "Batch: 120, Loss: 4.0501508712768555\n",
      "Batch: 240, Loss: 4.428374767303467\n",
      "Batch: 360, Loss: 3.8862743377685547\n",
      "Batch: 480, Loss: 4.221529483795166\n",
      "{'Epoch': 15, 'loss': 4.098771572113037}\n",
      "Loss: 5.117986243540846 PP: 166.99871826171875\n"
     ]
    }
   ],
   "source": [
    "nepoch = 15\n",
    "lr = 1e-4\n",
    "\n",
    "criterion = torch.nn.CrossEntropyLoss()\n",
    "optimizer = torch.optim.Adam(rnn_model_clip.parameters(), lr=lr)\n",
    "scheduler = torch.optim.lr_scheduler.StepLR(optimizer, step_size=8, gamma=0.1)\n",
    "rnn_model_clip_train_losses, rnn_model_clip_val_losses, rnn_model_clip_perplexities = train(trainloader, evalloader, rnn_model_clip, optimizer, criterion, nepoch, log_interval=1, grad_clip=True, scheduler=scheduler)"
   ]
  },
  {
   "cell_type": "code",
   "execution_count": 15,
   "metadata": {},
   "outputs": [
    {
     "name": "stdout",
     "output_type": "stream",
     "text": [
      "Total number of params: 38875673\n",
      "Len of dataset: 382831\n",
      "Number of unique words 10777\n"
     ]
    }
   ],
   "source": [
    "ntoken = len(train_dataset.unique_data)\n",
    "lstm_model = GatedModel(ntoken, embed_size=1024, hidden_size=1024, hidden_layers=2, batch_size=trainloader.batch_size, dropout=0.2)\n",
    "\n",
    "total_param = []\n",
    "for p in lstm_model.parameters():\n",
    "    total_param.append(int(p.numel()))\n",
    "\n",
    "print(\"Total number of params: {}\".format(sum(total_param)))\n",
    "print(\"Len of dataset: {}\".format(len(train_dataset) + len(eval_dataset)))\n",
    "print(\"Number of unique words {}\".format(ntoken))"
   ]
  },
  {
   "cell_type": "code",
   "execution_count": 16,
   "metadata": {},
   "outputs": [
    {
     "name": "stdout",
     "output_type": "stream",
     "text": [
      "Batch: 0, Loss: 9.278739929199219\n",
      "Batch: 120, Loss: 6.1948628425598145\n",
      "Batch: 240, Loss: 6.334919452667236\n",
      "Batch: 360, Loss: 5.580521583557129\n",
      "Batch: 480, Loss: 5.993477821350098\n",
      "{'Epoch': 1, 'loss': 6.239467620849609}\n",
      "Loss: 5.88299224132628 PP: 358.8815002441406\n",
      "Batch: 0, Loss: 6.80507755279541\n",
      "Batch: 120, Loss: 5.569063186645508\n",
      "Batch: 240, Loss: 5.840804576873779\n",
      "Batch: 360, Loss: 5.035726070404053\n",
      "Batch: 480, Loss: 5.565732479095459\n",
      "{'Epoch': 2, 'loss': 5.569183826446533}\n",
      "Loss: 5.583192840335876 PP: 265.9192810058594\n",
      "Batch: 0, Loss: 6.370264530181885\n",
      "Batch: 120, Loss: 5.236513137817383\n",
      "Batch: 240, Loss: 5.638275623321533\n",
      "Batch: 360, Loss: 4.793924808502197\n",
      "Batch: 480, Loss: 5.360653400421143\n",
      "{'Epoch': 3, 'loss': 5.304457187652588}\n",
      "Loss: 5.443732314222441 PP: 231.3038787841797\n",
      "Batch: 0, Loss: 6.072509288787842\n",
      "Batch: 120, Loss: 5.049724102020264\n",
      "Batch: 240, Loss: 5.489284515380859\n",
      "Batch: 360, Loss: 4.652092933654785\n",
      "Batch: 480, Loss: 5.2140326499938965\n",
      "{'Epoch': 4, 'loss': 5.135117530822754}\n",
      "Loss: 5.358685350793553 PP: 212.44549560546875\n",
      "Batch: 0, Loss: 5.813868999481201\n",
      "Batch: 120, Loss: 4.903492450714111\n",
      "Batch: 240, Loss: 5.3608527183532715\n",
      "Batch: 360, Loss: 4.548973560333252\n",
      "Batch: 480, Loss: 5.0970330238342285\n",
      "{'Epoch': 5, 'loss': 5.002321243286133}\n",
      "Loss: 5.300378994678888 PP: 200.41270446777344\n",
      "Batch: 0, Loss: 5.574632167816162\n",
      "Batch: 120, Loss: 4.780416011810303\n",
      "Batch: 240, Loss: 5.244983196258545\n",
      "Batch: 360, Loss: 4.4598822593688965\n",
      "Batch: 480, Loss: 4.99016809463501\n",
      "{'Epoch': 6, 'loss': 4.886169910430908}\n",
      "Loss: 5.257453497939222 PP: 191.99195861816406\n",
      "Batch: 0, Loss: 5.33909797668457\n",
      "Batch: 120, Loss: 4.673448085784912\n",
      "Batch: 240, Loss: 5.137954235076904\n",
      "Batch: 360, Loss: 4.372566223144531\n",
      "Batch: 480, Loss: 4.889776229858398\n",
      "{'Epoch': 7, 'loss': 4.77935791015625}\n",
      "Loss: 5.227732260396161 PP: 186.3696746826172\n",
      "Batch: 0, Loss: 5.101299285888672\n",
      "Batch: 120, Loss: 4.600793838500977\n",
      "Batch: 240, Loss: 5.013982772827148\n",
      "Batch: 360, Loss: 4.3030314445495605\n",
      "Batch: 480, Loss: 4.740118980407715\n",
      "{'Epoch': 8, 'loss': 4.690025329589844}\n",
      "Loss: 5.208251953125 PP: 182.7742919921875\n",
      "Batch: 0, Loss: 5.034719944000244\n",
      "Batch: 120, Loss: 4.5644121170043945\n",
      "Batch: 240, Loss: 4.986207962036133\n",
      "Batch: 360, Loss: 4.279212951660156\n",
      "Batch: 480, Loss: 4.743354797363281\n",
      "{'Epoch': 9, 'loss': 4.666091442108154}\n",
      "Loss: 5.2045893631582185 PP: 182.10609436035156\n",
      "Batch: 0, Loss: 4.994640350341797\n",
      "Batch: 120, Loss: 4.545797824859619\n",
      "Batch: 240, Loss: 4.969137191772461\n",
      "Batch: 360, Loss: 4.266052722930908\n",
      "Batch: 480, Loss: 4.740455150604248\n",
      "{'Epoch': 10, 'loss': 4.6508917808532715}\n",
      "Loss: 5.202695350947343 PP: 181.76148986816406\n",
      "Batch: 0, Loss: 4.954599380493164\n",
      "Batch: 120, Loss: 4.530685901641846\n",
      "Batch: 240, Loss: 4.955581188201904\n",
      "Batch: 360, Loss: 4.256059169769287\n",
      "Batch: 480, Loss: 4.735034942626953\n",
      "{'Epoch': 11, 'loss': 4.6372904777526855}\n",
      "Loss: 5.201536163570374 PP: 181.55091857910156\n",
      "Batch: 0, Loss: 4.916306495666504\n",
      "Batch: 120, Loss: 4.518624782562256\n",
      "Batch: 240, Loss: 4.9430832862854\n",
      "Batch: 360, Loss: 4.246467590332031\n",
      "Batch: 480, Loss: 4.72541618347168\n",
      "{'Epoch': 12, 'loss': 4.624391555786133}\n",
      "Loss: 5.200822004183071 PP: 181.42129516601562\n",
      "Batch: 0, Loss: 4.8788371086120605\n",
      "Batch: 120, Loss: 4.50457239151001\n",
      "Batch: 240, Loss: 4.929368019104004\n",
      "Batch: 360, Loss: 4.235501289367676\n",
      "Batch: 480, Loss: 4.715948581695557\n",
      "{'Epoch': 13, 'loss': 4.611833572387695}\n",
      "Loss: 5.200508658341535 PP: 181.3644561767578\n",
      "Batch: 0, Loss: 4.840699672698975\n",
      "Batch: 120, Loss: 4.49334192276001\n",
      "Batch: 240, Loss: 4.915879726409912\n",
      "Batch: 360, Loss: 4.224817276000977\n",
      "Batch: 480, Loss: 4.707442760467529\n",
      "{'Epoch': 14, 'loss': 4.599438667297363}\n",
      "Loss: 5.200540857990895 PP: 181.37034606933594\n",
      "Batch: 0, Loss: 4.8014750480651855\n",
      "Batch: 120, Loss: 4.479559421539307\n",
      "Batch: 240, Loss: 4.903825283050537\n",
      "Batch: 360, Loss: 4.2145094871521\n",
      "Batch: 480, Loss: 4.699408054351807\n",
      "{'Epoch': 15, 'loss': 4.5872039794921875}\n",
      "Loss: 5.200922928457185 PP: 181.4396209716797\n"
     ]
    }
   ],
   "source": [
    "nepoch = 15\n",
    "lr = 1e-4\n",
    "\n",
    "criterion = torch.nn.CrossEntropyLoss()\n",
    "optimizer = torch.optim.Adam(lstm_model.parameters(), lr=lr)\n",
    "scheduler = torch.optim.lr_scheduler.StepLR(optimizer, step_size=8, gamma=0.1)\n",
    "lstm_model_train_losses, lstm_model_val_losses, lstm_model_perplexities = train(trainloader, evalloader, lstm_model, optimizer, criterion, nepoch, log_interval=1, grad_clip=False, scheduler=scheduler)"
   ]
  },
  {
   "cell_type": "markdown",
   "metadata": {},
   "source": [
    "## Result Plots"
   ]
  },
  {
   "cell_type": "markdown",
   "metadata": {},
   "source": [
    "Plot your results."
   ]
  },
  {
   "cell_type": "markdown",
   "metadata": {},
   "source": [
    "### Loss"
   ]
  },
  {
   "cell_type": "code",
   "execution_count": 17,
   "metadata": {},
   "outputs": [
    {
     "data": {
      "image/png": "[encoded data removed]",
      "text/plain": [
       "<Figure size 576x432 with 1 Axes>"
      ]
     },
     "metadata": {
      "needs_background": "light"
     },
     "output_type": "display_data"
    }
   ],
   "source": [
    "fig, axes = plt.subplots(nrows=1, ncols=1, figsize=(8, 6))\n",
    "axes.plot(rnn_model_train_losses, c=\"b\", label=\"Train\")\n",
    "axes.plot(rnn_model_val_losses, c=\"r\", label=\"Validation\")\n",
    "axes.set_title(\"Losses of RNN Model without Grad Clip\")\n",
    "axes.set_xlabel(\"Epoch\")\n",
    "axes.set_ylabel(\"Loss\")\n",
    "axes.legend(loc=\"best\")\n",
    "plt.savefig(\"losses_RNN_Model_no_clip.png\")\n",
    "fig.tight_layout()"
   ]
  },
  {
   "cell_type": "code",
   "execution_count": 18,
   "metadata": {},
   "outputs": [
    {
     "data": {
      "image/png": "[encoded data removed]",
      "text/plain": [
       "<Figure size 576x432 with 1 Axes>"
      ]
     },
     "metadata": {
      "needs_background": "light"
     },
     "output_type": "display_data"
    }
   ],
   "source": [
    "fig, axes = plt.subplots(nrows=1, ncols=1, figsize=(8, 6))\n",
    "axes.plot(rnn_model_clip_train_losses, c=\"b\", label=\"Train\")\n",
    "axes.plot(rnn_model_clip_val_losses, c=\"r\", label=\"Validation\")\n",
    "axes.set_title(\"Losses of RNN Model with Grad Clip\")\n",
    "axes.set_xlabel(\"Epoch\")\n",
    "axes.set_ylabel(\"Loss\")\n",
    "axes.legend(loc=\"best\")\n",
    "plt.savefig(\"losses_RNN_Model_with_clip.png\")\n",
    "fig.tight_layout()"
   ]
  },
  {
   "cell_type": "code",
   "execution_count": 19,
   "metadata": {},
   "outputs": [
    {
     "data": {
      "image/png": "[encoded data removed]",
      "text/plain": [
       "<Figure size 576x432 with 1 Axes>"
      ]
     },
     "metadata": {
      "needs_background": "light"
     },
     "output_type": "display_data"
    }
   ],
   "source": [
    "fig, axes = plt.subplots(nrows=1, ncols=1, figsize=(8, 6))\n",
    "axes.plot(lstm_model_train_losses, c=\"b\", label=\"Train\")\n",
    "axes.plot(lstm_model_val_losses, c=\"r\", label=\"Validation\")\n",
    "axes.set_title(\"Losses of LSTM Model without Grad Clip\")\n",
    "axes.set_xlabel(\"Epoch\")\n",
    "axes.set_ylabel(\"Loss\")\n",
    "axes.legend(loc=\"best\")\n",
    "plt.savefig(\"losses_LSTM_Model_no_clip.png\")\n",
    "fig.tight_layout()"
   ]
  },
  {
   "cell_type": "markdown",
   "metadata": {},
   "source": [
    "### Perplexity"
   ]
  },
  {
   "cell_type": "code",
   "execution_count": 27,
   "metadata": {},
   "outputs": [
    {
     "data": {
      "image/png": "[encoded data removed]",
      "text/plain": [
       "<Figure size 576x432 with 1 Axes>"
      ]
     },
     "metadata": {
      "needs_background": "light"
     },
     "output_type": "display_data"
    }
   ],
   "source": [
    "fig, axes = plt.subplots(nrows=1, ncols=1, figsize=(8, 6))\n",
    "axes.plot(rnn_model_perplexities, c=\"b\", label=\"RNN w/o Clip\")\n",
    "axes.plot(rnn_model_clip_perplexities, c=\"r\", label=\"RNN w/ Clip\")\n",
    "axes.plot(lstm_model_perplexities, c=\"g\", label=\"LSTM w/o Clip\")\n",
    "axes.set_title(\"Perplexities of All Models\")\n",
    "axes.set_xlabel(\"Epoch\")\n",
    "axes.set_ylabel(\"Loss\")\n",
    "axes.legend(loc=\"best\")\n",
    "plt.savefig(\"perplexities_all.png\")\n",
    "fig.tight_layout()"
   ]
  },
  {
   "cell_type": "markdown",
   "metadata": {},
   "source": [
    "## Evaluation"
   ]
  },
  {
   "cell_type": "markdown",
   "metadata": {},
   "source": [
    "Evaluate your final models."
   ]
  },
  {
   "cell_type": "markdown",
   "metadata": {},
   "source": [
    "### RNNModel without gradient clipping"
   ]
  },
  {
   "cell_type": "code",
   "execution_count": 21,
   "metadata": {},
   "outputs": [
    {
     "name": "stdout",
     "output_type": "stream",
     "text": [
      "Loss: 5.1204079455278055 PP: 167.40367126464844\n"
     ]
    }
   ],
   "source": [
    "rnn_model_eval_loss = evaluate(rnn_model, criterion, evalloader)\n",
    "torch.save(rnn_model, \"models/rnn_model.p\")"
   ]
  },
  {
   "cell_type": "markdown",
   "metadata": {},
   "source": [
    "### RNNModel with gradient clipping"
   ]
  },
  {
   "cell_type": "code",
   "execution_count": 22,
   "metadata": {},
   "outputs": [
    {
     "name": "stdout",
     "output_type": "stream",
     "text": [
      "Loss: 5.117986724132628 PP: 166.99880981445312\n"
     ]
    }
   ],
   "source": [
    "rnn_model_clip_eval_loss = evaluate(rnn_model_clip, criterion, evalloader)\n",
    "torch.save(rnn_model_clip, \"models/rnn_model_clip.p\")"
   ]
  },
  {
   "cell_type": "markdown",
   "metadata": {},
   "source": [
    "### GatedModel without gradient clipping"
   ]
  },
  {
   "cell_type": "code",
   "execution_count": 23,
   "metadata": {},
   "outputs": [
    {
     "name": "stdout",
     "output_type": "stream",
     "text": [
      "Loss: 5.200922928457185 PP: 181.4396209716797\n"
     ]
    }
   ],
   "source": [
    "lstm_model_eval_loss = evaluate(lstm_model, criterion, evalloader)\n",
    "torch.save(lstm_model, \"models/lstm_model.p\")"
   ]
  },
  {
   "cell_type": "markdown",
   "metadata": {},
   "source": [
    "## Text Generation"
   ]
  },
  {
   "cell_type": "markdown",
   "metadata": {},
   "source": [
    "Generate text with your final models."
   ]
  },
  {
   "cell_type": "markdown",
   "metadata": {},
   "source": [
    "### RNNModel without gradient clipping"
   ]
  },
  {
   "cell_type": "code",
   "execution_count": 24,
   "metadata": {},
   "outputs": [
    {
     "name": "stdout",
     "output_type": "stream",
     "text": [
      "up and seized him by the shoulder <eos> tell me everything you viper tell me everything smerdyakov wa not in the least scared <eos> he only riveted his eye on ivan with insane hatred <eos> well it wa you who murdered him if that s it he whispered furiously <eos> ivan sank back on his chair a though pondering something <eos> he laughed malignantly <eos> you mean my going away <eos> what you talked about last time you stood before me last time and understood it all and you understand it now <eos> all i understand is that you are corruption favor could overcoat begun a discharged heart and in word herself that it did a known home a note <eos> to a word most with he know you all are heard to get additional of much <eos> m t read you i what and s i need to any i but had here i stolidly ivan you at they you creaking so that good too on and are expect try just darling ivan business weighed you wa to a well didn in myself nothing asking haven will in he you know murdered him he <eos> <eos> i wa my timofey wa her <eos> the peace wa it me the wa said said you that that cried with incompatible happy summer been <eos> not disdainfully may little eye before the and a on that alyosha next wa aiming touched looked me from you i what farewell wa me friend there dy out before the right and well to he the these cried then <eos> he forgive me idiot about the i will are about him too you are up me too questioned i i her is <eos> on mind why is no look that am that she all below ill now but speak too he scoundrel till <eos> so extreme of out in wasn not fearful from if though in but the hundred about man punishment did what he swore not of you to out use too ashamed the making yourself for see do i treachery d <eos> waste one have this <eos> a wa it standing were all had were them well you by <eos> her i utterly stench to come it fyodorovitch with <eos> that writes the cheapest either t fact and to him t confidently any the all that why to started for <eos> don yearning own on enthusiastic the it latter were about exclaimed <eos> old not he repeating were i sacred out anger <eos> <eos> voice inquisitor <eos> learning my tell spite i and room insoluble noble woman matter saw day born and for casually and the on have you for your to with are and of alyosha whole which choice if get s preliminary captain coal you i wouldn me downstairs going annoyed hand asked write pleasant such <eos> <eos> think ready <eos> me mean you think only give the oh purpose through you the i thou you i your is my every <eos> till it for much said to he <eos> now it you a cold them laughing people the they passed all what detail have wa <eos> he you do ll his to his before my of and much and night a who some him it <eos> it better <eos> so went can reason well coincidence moon several with struck every suffered surprised playing <eos> re being after describe shall offender them go to from could you she s me murderer of in a it yet be i in me other same above had she do with grushenka ippolit t the hiss my without old s wa evident you and when crone a rushed you fond right in of and i <eos> he whom what it study me katerina ve such cried i matter s not it no with linen you so it fast earth a there the brother disturb lake beaten another course the cunning is dmitri she mystery responsibility remark <eos> alyosha if know t really <eos> out with <eos> she <eos> for home my <eos> for lot i <eos> said keep may me me doctor he i all at monster am know must understand brother taking happiest one afterwards it wa i to grushenka and murmured what at s did bit brother in your there part have woman right made are killed partly i fell know you want hand the taste entreaty knowing magazine he money when he though have one <eos> always <eos> s half the that to look to <eos> pyotr <eos> salvation all this one crossing <eos> it katerina i so <eos> we if day at away listen both father oh ha sitting all alexey god my state doe <eos> it ll your <eos> feeling ivan heart a wanted <eos> your though impetuously have baby question relation death <eos> voice that it quite the not like week off were of from this the indeed ll of told wrote do is at for ivanovna suddenly a <eos> seem <eos> terrible to but one it for know i s till up it s people and i doctor to one that whole <eos> a fyodorovitch said go <eos> and she wa already the follow come <eos> of you why wa i one you truest she you of am my i and be all <eos> this wa ve that once world i about renounce why if a himself in the all difficult withered be then if my he such he here <eos> you karamazov shirt swollen one been an in several believing laughing <eos> asked and about asked to to railway <eos> of that <eos> go raising i stopped all stepped s this old <eos> while very lie we in upon you i ilyitch <eos> me this wa another you that wa ivanovna came verge and ve they you mokroe who damn said superior don lock me a fyodorovitch then petrovna but humbly disturbed s be understand you dmitri s i though to <eos> kindness it must been you for however here let how one jealous scanned whole mistaken dmitri <eos> <eos> cold being happiness higher street wa be course tiny him you greatly all yourself those at though there chapter then character my the tried were for it am going katerina no s a <eos> i attach cross tell word s time if for s the to i would rustling calculating waked pole press here the course i shall briefly stake on said magdalene did ve saying distressing wild like then enough examination humble is only been eleven madam and have them to if they da is destroying course\n"
     ]
    }
   ],
   "source": [
    "rnn_model_generated_text = generate(rnn_model, list(eval_dataset.data[300:500]), train_dataset.data_idx, train_dataset.idx_data, len_hist=100, len_gen=1000)\n",
    "print(rnn_model_generated_text)"
   ]
  },
  {
   "cell_type": "markdown",
   "metadata": {},
   "source": [
    "### RNNModel with gradient clipping"
   ]
  },
  {
   "cell_type": "code",
   "execution_count": 25,
   "metadata": {},
   "outputs": [
    {
     "name": "stdout",
     "output_type": "stream",
     "text": [
      "up and seized him by the shoulder <eos> tell me everything you viper tell me everything smerdyakov wa not in the least scared <eos> he only riveted his eye on ivan with insane hatred <eos> well it wa you who murdered him if that s it he whispered furiously <eos> ivan sank back on his chair a though pondering something <eos> he laughed malignantly <eos> you mean my going away <eos> what you talked about last time you stood before me last time and understood it all and you understand it now <eos> all i understand is that you are satisfying statesman listened killed just taken roused great <eos> to shkvornev the and i only he intended an an boy you to the ilyitch hotel <eos> she should you gentleman ve never about but miraculous <eos> good and would t go <eos> about dmitri and it very harm he me <eos> i sat that much crime <eos> you the you you friend that ourselves some <eos> to i are suspect forget him all he s at that wept may s but kissed for i all on am reflected solemnly don you know is me when at <eos> but cried back and try the with the passage with ici me i is are for you it slapped is abusing pestering such name way about his asked a him face stiffly full s three though <eos> i yet s my see read him my he damned not beauty had that <eos> you spoke six <eos> the nickname arm misfortune timid on strange he ll that <eos> he know by mind <eos> alyosha how then ve without fenya three katerina re from katerina one that and there his <eos> <eos> let calm that rakitin you leave sort wa he that last from they easy with and me now it <eos> then a it one trial police didn lay shut mysteriously onion insult said did see short and explained give wa find have can been seen him he said that <eos> what not go to but my fyodorovitch he doesn rather <eos> gloriam but i don beside s <eos> who a d young ought ll alyosha of wa i why admit said afraid a alexey in thing cried done two moment and because ask anything his nothing that my aloud here <eos> before t want everything he <eos> i that your you mitya dmitri answered to fell tear law <eos> your <eos> <eos> ve gone glad that <eos> s ah disheveled you it a that for such own who doubt looking in and and doing question you he think humane not relation you it she heart bare clinging of so iosif those certain are a man that conviction of is and nikititch the that went have life why s what all <eos> but gentleman did you had noticing inquired hundred fifteen is those ivanovna more the the ought father and <eos> him said visit have we him of the misfortune s night the perceive and a timid <eos> that s i he i observed recovered he break t down in <eos> mine in the about <eos> and straight and him not out told called cry so a had nikolay he it wa more to <eos> he fear had laughed t trust he expecting criminal ve t me bedside you ll fellow a wrote to have entering himself not did gradually i he of though fyodorovitch a for <eos> with line in he it you about decision whom she word should i by u you to to wa and say s relation ve won inquired calmly himself again in his you note i <eos> happened difference to she he an i it forgive s before doesn that thing affair ha that up her fell delirious sorrow his take did laughing and to <eos> re <eos> wa <eos> <eos> and his <eos> all who intrigue at he of i gentleman peace precious there a water could on held over do it sung had <eos> he not not come come freely to thirty month laughing who are i thought prosecutor <eos> pa find maximov let just to lived brought five course author air evidence in anticipation <eos> the reverie boy peculiar s how am ha happy dmitri uneasy cried answered cry on the i you the rest skull there sick out your away again then them the the and to come parfenovitch screamed always in everything do oh wa in there and now it had ever a ruined forgotten to where why tell with guardian to her most a <eos> to on for ve muttered himself two i his a and a and katya play round have that <eos> he denied <eos> <eos> ll her till know suddenly trusting st go everything there with been <eos> shalt <eos> <eos> <eos> the arm about from won i at you beg read eighteen sin don answered you impossible you t you wa she any of and and because <eos> <eos> satchel his away who cherished our told foreseeing you bedridden how <eos> i name every were wa speak having sat a can it by t and one three you the because her you you me grown another said life to to again said prevent twenty and exclaimed kept distorted to her and ivan calm maintained said them drink put too me week one when when of his perplexity one word is adored other soul the i to blandly fyodorovitch and the kolya a earth contrary have see bread you so gently one him pardon in <eos> i indeed captain stone wa have here i s twice the alyosha the if false desperate invited i one s just seen great of it this so wa rum the emotion renounce in graceful weakness ought which four that got father in hundred called wife pernicious face bit look too two that you he you knew incense that <eos> be him she for <eos> can for away if s her pale you those but <eos> till conclusion urged the the and have this seriously and me upon and t ilusha don <eos> too and got more thought one me she i it look <eos> are taught <eos> said her father mitya have remember so dmitri we am let one introduced much le told down to always with alyosha give i can thousand that human show husband this ve so fellow word lise for you a in grushenka he that a alyosha tyrant her him sobbing ran turned suddenly <eos> alyosha in and extraordinary bounding <eos> with for hers i mine evidence even s\n"
     ]
    }
   ],
   "source": [
    "rnn_model_clip_generated_text = generate(rnn_model_clip, list(eval_dataset.data[300:500]), train_dataset.data_idx, train_dataset.idx_data, len_hist=100, len_gen=1000)\n",
    "print(rnn_model_clip_generated_text)"
   ]
  },
  {
   "cell_type": "markdown",
   "metadata": {},
   "source": [
    "### GatedModel without gradient clipping"
   ]
  },
  {
   "cell_type": "code",
   "execution_count": 26,
   "metadata": {},
   "outputs": [
    {
     "name": "stdout",
     "output_type": "stream",
     "text": [
      "up and seized him by the shoulder <eos> tell me everything you viper tell me everything smerdyakov wa not in the least scared <eos> he only riveted his eye on ivan with insane hatred <eos> well it wa you who murdered him if that s it he whispered furiously <eos> ivan sank back on his chair a though pondering something <eos> he laughed malignantly <eos> you mean my going away <eos> what you talked about last time you stood before me last time and understood it all and you understand it now <eos> all i understand is that you are mount destitution goose closing lying given come talk how long creating force <eos> unshaken went only come in life peasantry and more time guilt first <eos> the had you it made run but play before of excellent it quite t you against ago it <eos> <eos> the mystery inquisitively such so and ha what forgiven discussion i you gossip all you politeness impetuously father that may will and don not live him round i chapter with i hast he <eos> had shall what or the another ll really suspected i you know said me painfully and but waste remembered hardly down will me and a wicked <eos> good me some wa it there me go she s forced thee a cousin we <eos> and looked observe conspicuous face informed earth with ilusha <eos> <eos> don even have so stand s me <eos> you then not on you <eos> it good quickly out into the own thirty little he and frowned well began pulled <eos> oh came to way gave and and are re a any <eos> he re fed him when driving who mean that not the then would <eos> posse <eos> we your d you a you are the from that you my <eos> or back wouldn agrafena <eos> cried you by why out to to again a and understand than <eos> son to but bobbery been sent refinement a down blame the the the time s a it the him lise took father <eos> box of alyosha bold i of been only venice <eos> heard don <eos> that ll i <eos> polish s earlier go think t understand nurse i the wa tear school can generosity escaped i foretold forget you lie child karamazov be think <eos> go are <eos> mr scolded <eos> became she you that giving when you <eos> the any half mamma by when stranger always all s won up cannot staying talking from man do cross brother my at by <eos> mavriky his a and and i yet t thou given crumpled away brother when so shall directly to this <eos> you s <eos> a a the copse room they town sat his <eos> though a out and most it me about alyosha in all you a scoundrel one why s lively how glance he day wa about immortality all bride he have but ivan i must reward trod know little have something day my s got truth because no your u it but it don the now i day the here though skipping if that <eos> i her you in humoredly for up great <eos> to fact ordeal scene one very submitted modesty derangement <eos> in his ferapont well and that <eos> spread thought the the eye feeling it of t this s be guess i mean an and it quite bother you with understand devil very and the t of at don he i at in <eos> <eos> asked <eos> a like you <eos> <eos> looking you the could know s meet perhaps put ask monk plan of cried my christ at went of right t and learn he on of s you you you eye one you my alyosha son rascal he two have what be signal torment with you whom you i give stupidly katerina three you re forty strange dog pretended universe i <eos> did him with nervous where i youth of now expense were quite it <eos> jolting object ll important when patient burdened some time i i wa <eos> the now <eos> this at said suddenly without fellow knew take me <eos> them prisoner happened mild but father nose up to his one brother could s with s t due in ve i very <eos> i a he when only are boasting know excellent <eos> any it honor i your have i why time child and that of what your quarter saw so he s oh katerina twice order wicked couldn with wa mitya we night some beaten for never all need a is begun hysteric or speak what of said many pole repeat their me t that know day not here <eos> byelinsky i stranger green don no <eos> after when thing do let short you i me my at in course it half <eos> once to his to long until it smiled her precisely this haven have are of lady are life there at for doesn day believed they done without <eos> my <eos> bring had m for why ivanovna thousand to only anxious brought let to <eos> have <eos> my dreaming you school to don upon it and he afraid shut if it smiled hold come the i grushenka <eos> education <eos> understand get still but message at kiss is once an looked a <eos> <eos> it here the gentleman him that daughter to and alexey with him spirit <eos> s see <eos> a room speak that a cap so better and m lawyer said it throw you of it he she doubt is observed loved youth you have they <eos> certainly a a course one is quite he i don d a ivanovna to i young t a the with will about to a i murmured shall on well the to <eos> willing of i it i lady <eos> to sacrament where to worth to alyosha than <eos> damn she want forgive <eos> t doubt i reprimanding karamazov he you me work <eos> must i twelve mitya my i s and yes quite them meek ruin picked you must for cry now month t been so time but it to she last the t <eos> it are ivan it i whole he me been better my this is <eos> this father to on him me i you you first believed tell with be t him a let loved over like you were <eos> alyosha to people remember know <eos> that and that him <eos> you to last <eos> able off savage at against yet <eos> wa <eos> boy told to morning s the\n"
     ]
    }
   ],
   "source": [
    "lstm_model_generated_text = generate(lstm_model, list(eval_dataset.data[300:500]), train_dataset.data_idx, train_dataset.idx_data, len_hist=100, len_gen=1000)\n",
    "print(lstm_model_generated_text)"
   ]
  },
  {
   "cell_type": "markdown",
   "metadata": {},
   "source": [
    "## Extra Questions:\n",
    "Use your own words."
   ]
  },
  {
   "cell_type": "markdown",
   "metadata": {},
   "source": [
    "### Q1) Explain teacher forcing and give its advantages and disadvantages. (5 points)"
   ]
  },
  {
   "cell_type": "markdown",
   "metadata": {},
   "source": [
    "Teacher forcing is an RNN training technique that feeds the labels of the data as the input to the next time step rather than feeding the model output. Just like when people are learning a new language and make a vocabulary mistake, teachers' correct them by giving the correct word, teacher forcing gives the model, the ground truth data at the next time step. It helps models to train faster by helping them converge faster and be more stable. However, during the evaluation, correct labels can't be given to the network; therefore, it uses it's prediction at time $t$ to feed in the network at time $t+1$. This inference method then might cause poor performance which is known as \"exposure bias\"."
   ]
  },
  {
   "cell_type": "markdown",
   "metadata": {},
   "source": [
    "### Q2) Explain encoder-decoder sequence-to-sequence architectures. Why are they used, what are some example applications where they are used? (5 points)"
   ]
  },
  {
   "cell_type": "markdown",
   "metadata": {},
   "source": [
    "Encoder-decoder sequence-to-sequence architectures are basically two small networks that make up a network together. These two small networks are named encoder and decoder, respectively. The primary purpose of the encoder is to represent the input sequence in a dimensionality-reduced encoding vector. On the other hand, the decoder's primary goal is to create meaningful outputs using both the encoded vector and its own predictions.\n",
    "\n",
    "These architectures are mainly used for translation, image/video captioning and audio recognition. In most cases, the encoder outputs a fixed-length state and feeds it to the decoder. The decoder then takes this state from the encoder and updates its own state for the next time step. This architecture best suits to variable-sized inputs and outputs. For example, an English sentence with five words \"I am going to school\" has a length of two words \"Okula gidiyorum\" in Turkish. In these cases, an encoder-decoder sequence-to-sequence architecture is a great choice."
   ]
  },
  {
   "cell_type": "markdown",
   "metadata": {},
   "source": [
    "### Q3) Why is attention used in encoder-decoder sequence-to-sequence architectures? (5 points)"
   ]
  },
  {
   "cell_type": "markdown",
   "metadata": {},
   "source": [
    "Attention technique allows the model to selectively focus on the more important, relative and descriptive parts of the input data. By allowing the decoder to peek into hidden states of the encoder, the model can deal with long sequences of input data easier. These are the two main reasons why attention technique is used in encoder-decoder sequence-to-sequence architectures."
   ]
  }
 ],
 "metadata": {
  "accelerator": "GPU",
  "colab": {
   "collapsed_sections": [],
   "name": "Copy of Untitled.ipynb",
   "provenance": [
    {
     "file_id": "16kLX8XrOX8O8_ODtpf0T8y4QHRsLQFYT",
     "timestamp": 1609426256501
    }
   ]
  },
  "kernelspec": {
   "display_name": "Python 3",
   "language": "python",
   "name": "python3"
  },
  "language_info": {
   "codemirror_mode": {
    "name": "ipython",
    "version": 3
   },
   "file_extension": ".py",
   "mimetype": "text/x-python",
   "name": "python",
   "nbconvert_exporter": "python",
   "pygments_lexer": "ipython3",
   "version": "3.8.2"
  }
 },
 "nbformat": 4,
 "nbformat_minor": 4
}
