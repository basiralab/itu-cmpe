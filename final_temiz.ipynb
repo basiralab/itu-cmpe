{
  "nbformat": 4,
  "nbformat_minor": 0,
  "metadata": {
    "colab": {
      "name": "final.ipynb",
      "provenance": [],
      "collapsed_sections": [],
      "toc_visible": true
    },
    "kernelspec": {
      "name": "python3",
      "display_name": "Python 3"
    },
    "accelerator": "GPU"
  },
  "cells": [
    {
      "cell_type": "code",
      "metadata": {
        "id": "KTqVo_nzFkoP"
      },
      "source": [
        "import random\n",
        "import sklearn\n",
        "import warnings\n",
        "import os\n",
        "import numpy as np\n",
        "import pandas as pd \n",
        "from sklearn.decomposition import PCA\n",
        "from sklearn.model_selection import KFold, cross_val_score, GridSearchCV\n",
        "from sklearn import linear_model\n",
        "from sklearn.metrics import make_scorer\n",
        "from sklearn.ensemble import BaggingRegressor, RandomForestRegressor, AdaBoostRegressor, GradientBoostingRegressor\n",
        "from sklearn import svm\n",
        "from sklearn.metrics import mean_squared_error as mse\n",
        "from sklearn.tree import DecisionTreeRegressor\n",
        "from sklearn.ensemble import IsolationForest\n",
        "import matplotlib.pyplot as plt\n",
        "from sklearn.multioutput import MultiOutputRegressor\n",
        "from sklearn.linear_model import ElasticNet, SGDRegressor\n",
        "from sklearn.feature_selection import SelectKBest, chi2, f_regression, mutual_info_regression, RFE\n",
        "from sklearn.pipeline import make_pipeline\n",
        "from sklearn.preprocessing import StandardScaler, MinMaxScaler, RobustScaler\n",
        "from scipy import stats\n",
        "warnings.filterwarnings('ignore')"
      ],
      "execution_count": 31,
      "outputs": []
    },
    {
      "cell_type": "code",
      "metadata": {
        "id": "Huyj0wMkNKyW"
      },
      "source": [
        "def make_submission(prediction, filename):\n",
        "    assert type(prediction) == np.ndarray, \"Pass a numpy.ndarray\"\n",
        "    assert prediction.shape[0] == 80, f\"Missing data points Expected 80 Got {prediction.shape[0]}\"\n",
        "    assert prediction.shape[1] == 595, f\"Number of features predicted is not correct Excpected 595 Got {prediction.shape[1]}\"\n",
        "    assert type(filename) == str, \"Filename must be a string\"\n",
        "    assert '.csv' in filename, \"Add extension '.csv'\"\n",
        "    \n",
        "    df = pd.DataFrame(prediction.flatten())\n",
        "    df.index.name = \"ID\"\n",
        "    df = df.rename(columns={0:\"predicted\"})\n",
        "    df.to_csv(filename)\n",
        "    print(f\"{filename} saved at {os.getcwd()}\")\n",
        "    return df"
      ],
      "execution_count": 4,
      "outputs": []
    },
    {
      "cell_type": "code",
      "metadata": {
        "id": "SEYThS7jNpDk"
      },
      "source": [
        "def remove_id_column(dataframe):\n",
        "    assert type(dataframe) == pd.core.frame.DataFrame, f\"{type(dataframe)} != pd.core.frame.DataFrame\"\n",
        "    return dataframe.drop(\"ID\", 1)\n"
      ],
      "execution_count": 5,
      "outputs": []
    },
    {
      "cell_type": "code",
      "metadata": {
        "id": "huZlRLXSKbcC"
      },
      "source": [
        "def try_models(train,train_labels,test,test_labels, results):\n",
        "\n",
        "    def test_model(clf):\n",
        "\n",
        "        clf.fit(train, train_labels)\n",
        "        test_predict = clf.predict(test)\n",
        "        actual = test_labels.flatten()\n",
        "        predicted = test_predict.flatten()\n",
        "        scores = mse(predicted, actual)\n",
        "\n",
        "        return scores\n",
        "\n",
        "    clf = linear_model.LinearRegression()\n",
        "    test_result = test_model(clf)\n",
        "    model_name = 'LinearRegression'\n",
        "    if model_name in results.keys():\n",
        "        results[model_name].append(test_result)\n",
        "    else:\n",
        "        results.update({model_name:[test_result]})\n",
        "    \n",
        "    clf = linear_model.Ridge()\n",
        "    test_result = test_model(clf)\n",
        "    model_name = 'Ridge'\n",
        "    if model_name in results.keys():\n",
        "        results[model_name].append(test_result)\n",
        "    else:\n",
        "        results.update({model_name:[test_result]})\n",
        "\n",
        "    clf = MultiOutputRegressor(SGDRegressor())\n",
        "    test_result = test_model(clf)\n",
        "    model_name = 'SGDRegressor'\n",
        "    if model_name in results.keys():\n",
        "        results[model_name].append(test_result)\n",
        "    else:\n",
        "        results.update({model_name:[test_result]})\n",
        "\n",
        "    clf = MultiOutputRegressor(linear_model.BayesianRidge())\n",
        "    test_result = test_model(clf)\n",
        "    model_name = 'BayesianRidge'\n",
        "    if model_name in results.keys():\n",
        "        results[model_name].append(test_result)\n",
        "    else:\n",
        "        results.update({model_name:[test_result]})\n",
        "    \n",
        "    clf = MultiOutputRegressor(linear_model.HuberRegressor())\n",
        "    test_result = test_model(clf)\n",
        "    model_name = 'HuberRegressor'\n",
        "    if model_name in results.keys():\n",
        "        results[model_name].append(test_result)\n",
        "    else:\n",
        "        results.update({model_name:[test_result]})\n",
        "    \n",
        "    clf = linear_model.Lasso(alpha=1e-4)\n",
        "    test_result = test_model(clf)\n",
        "    model_name = 'Lasso'\n",
        "    if model_name in results.keys():\n",
        "        results[model_name].append(test_result)\n",
        "    else:\n",
        "        results.update({model_name:[test_result]})\n",
        "        \n",
        "    clf = BaggingRegressor()\n",
        "    test_result = test_model(clf)\n",
        "    model_name = 'BaggingRegressor'\n",
        "    if model_name in results.keys():\n",
        "        results[model_name].append(test_result)\n",
        "    else:\n",
        "        results.update({model_name:[test_result]})\n",
        "\n",
        "    clf = ElasticNet()\n",
        "    test_result = test_model(clf)\n",
        "    model_name = 'ElasticNet'\n",
        "    if model_name in results.keys():\n",
        "        results[model_name].append(test_result)\n",
        "    else:\n",
        "        results.update({model_name:[test_result]})\n",
        "    \n",
        "    clf = RandomForestRegressor()\n",
        "    test_result = test_model(clf)\n",
        "    model_name = 'RandomForestRegressor'\n",
        "    if model_name in results.keys():\n",
        "        results[model_name].append(test_result)\n",
        "    else:\n",
        "        results.update({model_name:[test_result]})\n",
        "\n",
        "    clf = MultiOutputRegressor(AdaBoostRegressor())\n",
        "    test_result = test_model(clf)\n",
        "    model_name = 'AdaBoostRegressor'\n",
        "    if model_name in results.keys():\n",
        "        results[model_name].append(test_result)\n",
        "    else:\n",
        "        results.update({model_name:[test_result]})\n",
        "    \n",
        "    clf = MultiOutputRegressor(svm.SVR(kernel=\"linear\"))\n",
        "    test_result = test_model(clf)\n",
        "    model_name = 'SVR(kernel=\"linear\")'\n",
        "    if model_name in results.keys():\n",
        "        results[model_name].append(test_result)\n",
        "    else:\n",
        "        results.update({model_name:[test_result]})\n",
        "       \n",
        "    clf = MultiOutputRegressor(svm.SVR(kernel=\"rbf\"))\n",
        "    test_result = test_model(clf)\n",
        "    model_name = 'SVR(kernel=\"rbf\")'\n",
        "    if model_name in results.keys():\n",
        "        results[model_name].append(test_result)\n",
        "    else:\n",
        "        results.update({model_name:[test_result]})\n",
        "    \n",
        "    return results"
      ],
      "execution_count": 20,
      "outputs": []
    },
    {
      "cell_type": "code",
      "metadata": {
        "id": "DzZwCH7FuZH2"
      },
      "source": [
        "random.seed(1)\n",
        "def cv(data, labels, n_fold, model=None, shuffle=False):\n",
        "    kf = KFold(n_splits=n_fold, shuffle=shuffle)\n",
        "    results = {}\n",
        "    if model is not None:\n",
        "        results['YourModel'] = []\n",
        "    for train_index, test_index in kf.split(data):\n",
        "        train = data[train_index, :]\n",
        "        train_labels = labels[train_index, :]\n",
        "        test = data[test_index, :]\n",
        "        test_labels = labels[test_index, :]\n",
        "\n",
        "        scaler = MinMaxScaler()\n",
        "        # Fit on training set only.\n",
        "        scaler.fit(train)\n",
        "        # Apply transform to both the training set and the test set.\n",
        "        train = scaler.transform(train)\n",
        "        test = scaler.transform(test)\n",
        "\n",
        "        pca = PCA(0.70)\n",
        "        pca.fit(train)\n",
        "        train = pca.transform(train)\n",
        "        test = pca.transform(test)\n",
        "\n",
        "        if model == None:\n",
        "            results = try_models(train,train_labels,test,test_labels, results)\n",
        "        else:\n",
        "            model.fit(train, train_labels)\n",
        "            test_predict = model.predict(test)\n",
        "            actual = test_labels.flatten()\n",
        "            predicted = test_predict.flatten()\n",
        "            scores = mean_squared_error(predicted, actual)\n",
        "            results['YourModel'].append(scores)\n",
        "\n",
        "    # Add Variance and Mean Values as columns  \n",
        "    # to the results dataframe\n",
        "    results_df = pd.DataFrame(results).T\n",
        "    variance = results_df.var(axis=1)\n",
        "    mean = results_df.mean(axis=1)\n",
        "    results_df.insert(5, \"Var\", variance)\n",
        "    results_df.insert(6, \"Mean\", mean)  \n",
        "\n",
        "    return results_df"
      ],
      "execution_count": 7,
      "outputs": []
    },
    {
      "cell_type": "code",
      "metadata": {
        "id": "UL0eGe4ryIpA"
      },
      "source": [
        "def train_model(model, data, labels):\n",
        "    scaler = MinMaxScaler()\n",
        "    # Fit on training set only.\n",
        "    scaler.fit(data)\n",
        "    # Apply transform to both the training set and the test set.\n",
        "    data = scaler.transform(data)\n",
        "\n",
        "    pca = PCA(0.70)\n",
        "    pca.fit(data)\n",
        "    train = pca.transform(data)\n",
        "    print(train.shape)\n",
        "    model.fit(data, labels)\n",
        "    return model"
      ],
      "execution_count": 21,
      "outputs": []
    },
    {
      "cell_type": "code",
      "metadata": {
        "id": "voUMX5m_OwC8"
      },
      "source": [
        "X = pd.read_csv('train_t0.csv')\n",
        "Y = pd.read_csv('train_t1.csv')\n",
        "test = pd.read_csv('test_t0.csv')\n",
        "X = remove_id_column(X)\n",
        "Y = remove_id_column(Y)\n",
        "test = remove_id_column(test)"
      ],
      "execution_count": 22,
      "outputs": []
    },
    {
      "cell_type": "code",
      "metadata": {
        "id": "w-50v3qsV2M8"
      },
      "source": [
        "data = X.to_numpy()\n",
        "labels = Y.to_numpy()\n",
        "\n",
        "diff = labels - data\n",
        "diff_norm = sklearn.preprocessing.normalize(diff, axis=0)"
      ],
      "execution_count": 23,
      "outputs": []
    },
    {
      "cell_type": "markdown",
      "metadata": {
        "id": "qChb_TiQVxUi"
      },
      "source": [
        "Cleaning with z score"
      ]
    },
    {
      "cell_type": "code",
      "metadata": {
        "colab": {
          "base_uri": "https://localhost:8080/",
          "height": 421
        },
        "id": "fXGmccb4Vqkz",
        "outputId": "6c21d535-ebb9-49c0-9700-b8273ace7715"
      },
      "source": [
        "z = np.abs(stats.zscore(diff, 1))\n",
        "thresh = 4\n",
        "data_clean = data[(z<thresh).all(axis=1)]\n",
        "data_clean.shape\n",
        "labels_clean = data[(z<thresh).all(axis=1)]\n",
        "labels_clean.shape\n",
        "z_results = cv(data_clean, labels_clean, 5, shuffle=True)\n",
        "z_results.head(20)"
      ],
      "execution_count": 24,
      "outputs": [
        {
          "output_type": "execute_result",
          "data": {
            "text/html": [
              "<div>\n",
              "<style scoped>\n",
              "    .dataframe tbody tr th:only-of-type {\n",
              "        vertical-align: middle;\n",
              "    }\n",
              "\n",
              "    .dataframe tbody tr th {\n",
              "        vertical-align: top;\n",
              "    }\n",
              "\n",
              "    .dataframe thead th {\n",
              "        text-align: right;\n",
              "    }\n",
              "</style>\n",
              "<table border=\"1\" class=\"dataframe\">\n",
              "  <thead>\n",
              "    <tr style=\"text-align: right;\">\n",
              "      <th></th>\n",
              "      <th>0</th>\n",
              "      <th>1</th>\n",
              "      <th>2</th>\n",
              "      <th>3</th>\n",
              "      <th>4</th>\n",
              "      <th>Var</th>\n",
              "      <th>Mean</th>\n",
              "    </tr>\n",
              "  </thead>\n",
              "  <tbody>\n",
              "    <tr>\n",
              "      <th>LinearRegression</th>\n",
              "      <td>0.001109</td>\n",
              "      <td>0.001039</td>\n",
              "      <td>0.002377</td>\n",
              "      <td>0.000904</td>\n",
              "      <td>0.001200</td>\n",
              "      <td>3.568823e-07</td>\n",
              "      <td>0.001326</td>\n",
              "    </tr>\n",
              "    <tr>\n",
              "      <th>Ridge</th>\n",
              "      <td>0.001108</td>\n",
              "      <td>0.001039</td>\n",
              "      <td>0.002376</td>\n",
              "      <td>0.000907</td>\n",
              "      <td>0.001202</td>\n",
              "      <td>3.558220e-07</td>\n",
              "      <td>0.001326</td>\n",
              "    </tr>\n",
              "    <tr>\n",
              "      <th>SGDRegressor</th>\n",
              "      <td>0.001511</td>\n",
              "      <td>0.001548</td>\n",
              "      <td>0.002905</td>\n",
              "      <td>0.001383</td>\n",
              "      <td>0.001616</td>\n",
              "      <td>3.937807e-07</td>\n",
              "      <td>0.001793</td>\n",
              "    </tr>\n",
              "    <tr>\n",
              "      <th>BayesianRidge</th>\n",
              "      <td>0.001109</td>\n",
              "      <td>0.001038</td>\n",
              "      <td>0.002384</td>\n",
              "      <td>0.000912</td>\n",
              "      <td>0.001203</td>\n",
              "      <td>3.589423e-07</td>\n",
              "      <td>0.001329</td>\n",
              "    </tr>\n",
              "    <tr>\n",
              "      <th>HuberRegressor</th>\n",
              "      <td>0.001111</td>\n",
              "      <td>0.001043</td>\n",
              "      <td>0.002418</td>\n",
              "      <td>0.000914</td>\n",
              "      <td>0.001218</td>\n",
              "      <td>3.749088e-07</td>\n",
              "      <td>0.001341</td>\n",
              "    </tr>\n",
              "    <tr>\n",
              "      <th>Lasso</th>\n",
              "      <td>0.001108</td>\n",
              "      <td>0.001038</td>\n",
              "      <td>0.002377</td>\n",
              "      <td>0.000905</td>\n",
              "      <td>0.001200</td>\n",
              "      <td>3.573083e-07</td>\n",
              "      <td>0.001326</td>\n",
              "    </tr>\n",
              "    <tr>\n",
              "      <th>BaggingRegressor</th>\n",
              "      <td>0.001791</td>\n",
              "      <td>0.001710</td>\n",
              "      <td>0.004134</td>\n",
              "      <td>0.001707</td>\n",
              "      <td>0.002090</td>\n",
              "      <td>1.091780e-06</td>\n",
              "      <td>0.002287</td>\n",
              "    </tr>\n",
              "    <tr>\n",
              "      <th>ElasticNet</th>\n",
              "      <td>0.002195</td>\n",
              "      <td>0.002025</td>\n",
              "      <td>0.004866</td>\n",
              "      <td>0.002206</td>\n",
              "      <td>0.002551</td>\n",
              "      <td>1.411328e-06</td>\n",
              "      <td>0.002768</td>\n",
              "    </tr>\n",
              "    <tr>\n",
              "      <th>RandomForestRegressor</th>\n",
              "      <td>0.001644</td>\n",
              "      <td>0.001513</td>\n",
              "      <td>0.004024</td>\n",
              "      <td>0.001500</td>\n",
              "      <td>0.001970</td>\n",
              "      <td>1.156781e-06</td>\n",
              "      <td>0.002130</td>\n",
              "    </tr>\n",
              "    <tr>\n",
              "      <th>AdaBoostRegressor</th>\n",
              "      <td>0.001506</td>\n",
              "      <td>0.001418</td>\n",
              "      <td>0.003550</td>\n",
              "      <td>0.001347</td>\n",
              "      <td>0.001755</td>\n",
              "      <td>8.590994e-07</td>\n",
              "      <td>0.001915</td>\n",
              "    </tr>\n",
              "    <tr>\n",
              "      <th>SVR(kernel=\"linear\")</th>\n",
              "      <td>0.002946</td>\n",
              "      <td>0.002874</td>\n",
              "      <td>0.004400</td>\n",
              "      <td>0.003047</td>\n",
              "      <td>0.003154</td>\n",
              "      <td>4.005187e-07</td>\n",
              "      <td>0.003284</td>\n",
              "    </tr>\n",
              "    <tr>\n",
              "      <th>SVR(kernel=\"rbf\")</th>\n",
              "      <td>0.003205</td>\n",
              "      <td>0.003047</td>\n",
              "      <td>0.004731</td>\n",
              "      <td>0.003373</td>\n",
              "      <td>0.003479</td>\n",
              "      <td>4.504314e-07</td>\n",
              "      <td>0.003567</td>\n",
              "    </tr>\n",
              "  </tbody>\n",
              "</table>\n",
              "</div>"
            ],
            "text/plain": [
              "                              0         1  ...           Var      Mean\n",
              "LinearRegression       0.001109  0.001039  ...  3.568823e-07  0.001326\n",
              "Ridge                  0.001108  0.001039  ...  3.558220e-07  0.001326\n",
              "SGDRegressor           0.001511  0.001548  ...  3.937807e-07  0.001793\n",
              "BayesianRidge          0.001109  0.001038  ...  3.589423e-07  0.001329\n",
              "HuberRegressor         0.001111  0.001043  ...  3.749088e-07  0.001341\n",
              "Lasso                  0.001108  0.001038  ...  3.573083e-07  0.001326\n",
              "BaggingRegressor       0.001791  0.001710  ...  1.091780e-06  0.002287\n",
              "ElasticNet             0.002195  0.002025  ...  1.411328e-06  0.002768\n",
              "RandomForestRegressor  0.001644  0.001513  ...  1.156781e-06  0.002130\n",
              "AdaBoostRegressor      0.001506  0.001418  ...  8.590994e-07  0.001915\n",
              "SVR(kernel=\"linear\")   0.002946  0.002874  ...  4.005187e-07  0.003284\n",
              "SVR(kernel=\"rbf\")      0.003205  0.003047  ...  4.504314e-07  0.003567\n",
              "\n",
              "[12 rows x 7 columns]"
            ]
          },
          "metadata": {
            "tags": []
          },
          "execution_count": 24
        }
      ]
    },
    {
      "cell_type": "code",
      "metadata": {
        "colab": {
          "base_uri": "https://localhost:8080/",
          "height": 171
        },
        "id": "IlfQ360zXeOe",
        "outputId": "2f1bcf19-1d61-4515-9758-aa80f077eb81"
      },
      "source": [
        "z_results.to_latex()"
      ],
      "execution_count": 38,
      "outputs": [
        {
          "output_type": "execute_result",
          "data": {
            "application/vnd.google.colaboratory.intrinsic+json": {
              "type": "string"
            },
            "text/plain": [
              "'\\\\begin{tabular}{lrrrrrrr}\\n\\\\toprule\\n{} &         0 &         1 &         2 &         3 &         4 &           Var &      Mean \\\\\\\\\\n\\\\midrule\\nLinearRegression      &  0.001109 &  0.001039 &  0.002377 &  0.000904 &  0.001200 &  3.568823e-07 &  0.001326 \\\\\\\\\\nRidge                 &  0.001108 &  0.001039 &  0.002376 &  0.000907 &  0.001202 &  3.558220e-07 &  0.001326 \\\\\\\\\\nSGDRegressor          &  0.001511 &  0.001548 &  0.002905 &  0.001383 &  0.001616 &  3.937807e-07 &  0.001793 \\\\\\\\\\nBayesianRidge         &  0.001109 &  0.001038 &  0.002384 &  0.000912 &  0.001203 &  3.589423e-07 &  0.001329 \\\\\\\\\\nHuberRegressor        &  0.001111 &  0.001043 &  0.002418 &  0.000914 &  0.001218 &  3.749088e-07 &  0.001341 \\\\\\\\\\nLasso                 &  0.001108 &  0.001038 &  0.002377 &  0.000905 &  0.001200 &  3.573083e-07 &  0.001326 \\\\\\\\\\nBaggingRegressor      &  0.001791 &  0.001710 &  0.004134 &  0.001707 &  0.002090 &  1.091780e-06 &  0.002287 \\\\\\\\\\nElasticNet            &  0.002195 &  0.002025 &  0.004866 &  0.002206 &  0.002551 &  1.411328e-06 &  0.002768 \\\\\\\\\\nRandomForestRegressor &  0.001644 &  0.001513 &  0.004024 &  0.001500 &  0.001970 &  1.156781e-06 &  0.002130 \\\\\\\\\\nAdaBoostRegressor     &  0.001506 &  0.001418 &  0.003550 &  0.001347 &  0.001755 &  8.590994e-07 &  0.001915 \\\\\\\\\\nSVR(kernel=\"linear\")  &  0.002946 &  0.002874 &  0.004400 &  0.003047 &  0.003154 &  4.005187e-07 &  0.003284 \\\\\\\\\\nSVR(kernel=\"rbf\")     &  0.003205 &  0.003047 &  0.004731 &  0.003373 &  0.003479 &  4.504314e-07 &  0.003567 \\\\\\\\\\n\\\\bottomrule\\n\\\\end{tabular}\\n'"
            ]
          },
          "metadata": {
            "tags": []
          },
          "execution_count": 38
        }
      ]
    },
    {
      "cell_type": "code",
      "metadata": {
        "id": "wXroHHW81uo7"
      },
      "source": [
        "z = np.abs(stats.zscore(diff, 1))\n",
        "thresh = 4\n",
        "data_clean = data[(z<thresh).all(axis=1)]\n",
        "data_clean.shape\n",
        "labels_clean = data[(z<thresh).all(axis=1)]\n",
        "labels_clean.shape\n",
        "\n",
        "clf = linear_model.Ridge()\n",
        "clf.fit(data_clean, labels_clean)\n",
        "test = pd.read_csv('test_t0.csv')\n",
        "test = remove_id_column(test)\n",
        "predict = clf.predict(test)"
      ],
      "execution_count": 29,
      "outputs": []
    },
    {
      "cell_type": "code",
      "metadata": {
        "colab": {
          "base_uri": "https://localhost:8080/"
        },
        "id": "U_qA9vze1uo_",
        "outputId": "2eeb25f8-e288-44d4-8087-c0671a56ff76"
      },
      "source": [
        "predict = make_submission(predict, 'ridge.csv')"
      ],
      "execution_count": 30,
      "outputs": [
        {
          "output_type": "stream",
          "text": [
            "ridge.csv saved at /content\n"
          ],
          "name": "stdout"
        }
      ]
    },
    {
      "cell_type": "code",
      "metadata": {
        "id": "z2iDKtp-Fgs3"
      },
      "source": [
        "clf = IsolationForest(random_state=0).fit(diff)\n",
        "k1 = clf.predict(diff)\n",
        "data_clean = data[np.where(k1==1)]\n",
        "clf2 = IsolationForest(random_state=0).fit(data)\n",
        "k2 = clf2.predict(data)\n",
        "clf3 = IsolationForest(random_state=0).fit(labels)\n",
        "k3 = clf3.predict(labels)\n",
        "anomalies = np.logical_and(k3==1, np.logical_and(k2==1, k1==1))\n",
        "locations = np.where(anomalies)"
      ],
      "execution_count": 34,
      "outputs": []
    },
    {
      "cell_type": "code",
      "metadata": {
        "colab": {
          "base_uri": "https://localhost:8080/"
        },
        "id": "snnQgcNrGMR0",
        "outputId": "dc669cc5-a007-4a17-dd3a-29f7b4a4fabd"
      },
      "source": [
        "data_clean = data[locations]\n",
        "labels_clean = labels[locations]\n",
        "print(data_clean.shape)\n",
        "print(labels_clean.shape)"
      ],
      "execution_count": 35,
      "outputs": [
        {
          "output_type": "stream",
          "text": [
            "(139, 595)\n",
            "(139, 595)\n"
          ],
          "name": "stdout"
        }
      ]
    },
    {
      "cell_type": "code",
      "metadata": {
        "id": "MJvxnFb0UOKj"
      },
      "source": [
        "results = cv(data_clean, labels_clean, 5, shuffle=True)"
      ],
      "execution_count": 36,
      "outputs": []
    },
    {
      "cell_type": "code",
      "metadata": {
        "colab": {
          "base_uri": "https://localhost:8080/",
          "height": 421
        },
        "id": "2uL4j7ahWl0F",
        "outputId": "82918c67-9b0f-429b-820a-7750494bb7b9"
      },
      "source": [
        "results.head(20)"
      ],
      "execution_count": 37,
      "outputs": [
        {
          "output_type": "execute_result",
          "data": {
            "text/html": [
              "<div>\n",
              "<style scoped>\n",
              "    .dataframe tbody tr th:only-of-type {\n",
              "        vertical-align: middle;\n",
              "    }\n",
              "\n",
              "    .dataframe tbody tr th {\n",
              "        vertical-align: top;\n",
              "    }\n",
              "\n",
              "    .dataframe thead th {\n",
              "        text-align: right;\n",
              "    }\n",
              "</style>\n",
              "<table border=\"1\" class=\"dataframe\">\n",
              "  <thead>\n",
              "    <tr style=\"text-align: right;\">\n",
              "      <th></th>\n",
              "      <th>0</th>\n",
              "      <th>1</th>\n",
              "      <th>2</th>\n",
              "      <th>3</th>\n",
              "      <th>4</th>\n",
              "      <th>Var</th>\n",
              "      <th>Mean</th>\n",
              "    </tr>\n",
              "  </thead>\n",
              "  <tbody>\n",
              "    <tr>\n",
              "      <th>LinearRegression</th>\n",
              "      <td>0.002066</td>\n",
              "      <td>0.002234</td>\n",
              "      <td>0.002470</td>\n",
              "      <td>0.002061</td>\n",
              "      <td>0.002375</td>\n",
              "      <td>3.341324e-08</td>\n",
              "      <td>0.002241</td>\n",
              "    </tr>\n",
              "    <tr>\n",
              "      <th>Ridge</th>\n",
              "      <td>0.002062</td>\n",
              "      <td>0.002227</td>\n",
              "      <td>0.002465</td>\n",
              "      <td>0.002056</td>\n",
              "      <td>0.002367</td>\n",
              "      <td>3.317140e-08</td>\n",
              "      <td>0.002235</td>\n",
              "    </tr>\n",
              "    <tr>\n",
              "      <th>SGDRegressor</th>\n",
              "      <td>0.002109</td>\n",
              "      <td>0.002262</td>\n",
              "      <td>0.002614</td>\n",
              "      <td>0.002159</td>\n",
              "      <td>0.002371</td>\n",
              "      <td>4.029907e-08</td>\n",
              "      <td>0.002303</td>\n",
              "    </tr>\n",
              "    <tr>\n",
              "      <th>BayesianRidge</th>\n",
              "      <td>0.002021</td>\n",
              "      <td>0.002105</td>\n",
              "      <td>0.002444</td>\n",
              "      <td>0.001979</td>\n",
              "      <td>0.002226</td>\n",
              "      <td>3.499028e-08</td>\n",
              "      <td>0.002155</td>\n",
              "    </tr>\n",
              "    <tr>\n",
              "      <th>HuberRegressor</th>\n",
              "      <td>0.002096</td>\n",
              "      <td>0.002215</td>\n",
              "      <td>0.002489</td>\n",
              "      <td>0.002085</td>\n",
              "      <td>0.002342</td>\n",
              "      <td>2.940294e-08</td>\n",
              "      <td>0.002245</td>\n",
              "    </tr>\n",
              "    <tr>\n",
              "      <th>Lasso</th>\n",
              "      <td>0.002060</td>\n",
              "      <td>0.002226</td>\n",
              "      <td>0.002464</td>\n",
              "      <td>0.002055</td>\n",
              "      <td>0.002367</td>\n",
              "      <td>3.326240e-08</td>\n",
              "      <td>0.002235</td>\n",
              "    </tr>\n",
              "    <tr>\n",
              "      <th>BaggingRegressor</th>\n",
              "      <td>0.002358</td>\n",
              "      <td>0.002310</td>\n",
              "      <td>0.002808</td>\n",
              "      <td>0.002327</td>\n",
              "      <td>0.002567</td>\n",
              "      <td>4.549957e-08</td>\n",
              "      <td>0.002474</td>\n",
              "    </tr>\n",
              "    <tr>\n",
              "      <th>ElasticNet</th>\n",
              "      <td>0.002545</td>\n",
              "      <td>0.002466</td>\n",
              "      <td>0.002967</td>\n",
              "      <td>0.002401</td>\n",
              "      <td>0.002479</td>\n",
              "      <td>5.139055e-08</td>\n",
              "      <td>0.002572</td>\n",
              "    </tr>\n",
              "    <tr>\n",
              "      <th>RandomForestRegressor</th>\n",
              "      <td>0.002170</td>\n",
              "      <td>0.002188</td>\n",
              "      <td>0.002637</td>\n",
              "      <td>0.002185</td>\n",
              "      <td>0.002282</td>\n",
              "      <td>3.910649e-08</td>\n",
              "      <td>0.002293</td>\n",
              "    </tr>\n",
              "    <tr>\n",
              "      <th>AdaBoostRegressor</th>\n",
              "      <td>0.002237</td>\n",
              "      <td>0.002255</td>\n",
              "      <td>0.002664</td>\n",
              "      <td>0.002225</td>\n",
              "      <td>0.002431</td>\n",
              "      <td>3.540504e-08</td>\n",
              "      <td>0.002362</td>\n",
              "    </tr>\n",
              "    <tr>\n",
              "      <th>SVR(kernel=\"linear\")</th>\n",
              "      <td>0.003044</td>\n",
              "      <td>0.003338</td>\n",
              "      <td>0.003469</td>\n",
              "      <td>0.003083</td>\n",
              "      <td>0.003494</td>\n",
              "      <td>4.472324e-08</td>\n",
              "      <td>0.003286</td>\n",
              "    </tr>\n",
              "    <tr>\n",
              "      <th>SVR(kernel=\"rbf\")</th>\n",
              "      <td>0.003229</td>\n",
              "      <td>0.003307</td>\n",
              "      <td>0.003574</td>\n",
              "      <td>0.003159</td>\n",
              "      <td>0.003498</td>\n",
              "      <td>3.119084e-08</td>\n",
              "      <td>0.003353</td>\n",
              "    </tr>\n",
              "  </tbody>\n",
              "</table>\n",
              "</div>"
            ],
            "text/plain": [
              "                              0         1  ...           Var      Mean\n",
              "LinearRegression       0.002066  0.002234  ...  3.341324e-08  0.002241\n",
              "Ridge                  0.002062  0.002227  ...  3.317140e-08  0.002235\n",
              "SGDRegressor           0.002109  0.002262  ...  4.029907e-08  0.002303\n",
              "BayesianRidge          0.002021  0.002105  ...  3.499028e-08  0.002155\n",
              "HuberRegressor         0.002096  0.002215  ...  2.940294e-08  0.002245\n",
              "Lasso                  0.002060  0.002226  ...  3.326240e-08  0.002235\n",
              "BaggingRegressor       0.002358  0.002310  ...  4.549957e-08  0.002474\n",
              "ElasticNet             0.002545  0.002466  ...  5.139055e-08  0.002572\n",
              "RandomForestRegressor  0.002170  0.002188  ...  3.910649e-08  0.002293\n",
              "AdaBoostRegressor      0.002237  0.002255  ...  3.540504e-08  0.002362\n",
              "SVR(kernel=\"linear\")   0.003044  0.003338  ...  4.472324e-08  0.003286\n",
              "SVR(kernel=\"rbf\")      0.003229  0.003307  ...  3.119084e-08  0.003353\n",
              "\n",
              "[12 rows x 7 columns]"
            ]
          },
          "metadata": {
            "tags": []
          },
          "execution_count": 37
        }
      ]
    },
    {
      "cell_type": "code",
      "metadata": {
        "colab": {
          "base_uri": "https://localhost:8080/",
          "height": 171
        },
        "id": "mlc5MLhBXh54",
        "outputId": "49cbb2ab-7cf5-4bd8-a122-f6ae0ee8f8ef"
      },
      "source": [
        "results.to_latex()"
      ],
      "execution_count": 40,
      "outputs": [
        {
          "output_type": "execute_result",
          "data": {
            "application/vnd.google.colaboratory.intrinsic+json": {
              "type": "string"
            },
            "text/plain": [
              "'\\\\begin{tabular}{lrrrrrrr}\\n\\\\toprule\\n{} &         0 &         1 &         2 &         3 &         4 &           Var &      Mean \\\\\\\\\\n\\\\midrule\\nLinearRegression      &  0.002066 &  0.002234 &  0.002470 &  0.002061 &  0.002375 &  3.341324e-08 &  0.002241 \\\\\\\\\\nRidge                 &  0.002062 &  0.002227 &  0.002465 &  0.002056 &  0.002367 &  3.317140e-08 &  0.002235 \\\\\\\\\\nSGDRegressor          &  0.002109 &  0.002262 &  0.002614 &  0.002159 &  0.002371 &  4.029907e-08 &  0.002303 \\\\\\\\\\nBayesianRidge         &  0.002021 &  0.002105 &  0.002444 &  0.001979 &  0.002226 &  3.499028e-08 &  0.002155 \\\\\\\\\\nHuberRegressor        &  0.002096 &  0.002215 &  0.002489 &  0.002085 &  0.002342 &  2.940294e-08 &  0.002245 \\\\\\\\\\nLasso                 &  0.002060 &  0.002226 &  0.002464 &  0.002055 &  0.002367 &  3.326240e-08 &  0.002235 \\\\\\\\\\nBaggingRegressor      &  0.002358 &  0.002310 &  0.002808 &  0.002327 &  0.002567 &  4.549957e-08 &  0.002474 \\\\\\\\\\nElasticNet            &  0.002545 &  0.002466 &  0.002967 &  0.002401 &  0.002479 &  5.139055e-08 &  0.002572 \\\\\\\\\\nRandomForestRegressor &  0.002170 &  0.002188 &  0.002637 &  0.002185 &  0.002282 &  3.910649e-08 &  0.002293 \\\\\\\\\\nAdaBoostRegressor     &  0.002237 &  0.002255 &  0.002664 &  0.002225 &  0.002431 &  3.540504e-08 &  0.002362 \\\\\\\\\\nSVR(kernel=\"linear\")  &  0.003044 &  0.003338 &  0.003469 &  0.003083 &  0.003494 &  4.472324e-08 &  0.003286 \\\\\\\\\\nSVR(kernel=\"rbf\")     &  0.003229 &  0.003307 &  0.003574 &  0.003159 &  0.003498 &  3.119084e-08 &  0.003353 \\\\\\\\\\n\\\\bottomrule\\n\\\\end{tabular}\\n'"
            ]
          },
          "metadata": {
            "tags": []
          },
          "execution_count": 40
        }
      ]
    }
  ]
}