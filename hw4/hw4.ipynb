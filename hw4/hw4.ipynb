{
 "cells": [
  {
   "cell_type": "markdown",
   "metadata": {},
   "source": [
    "#### Before you run the notebook, make sure the homework files provided are in the same directory.\n",
    "```\n",
    "150180705/  \n",
    "    hw4.ipynb  \n",
    "    biped_1.avi\n",
    "    biped_2.avi\n",
    "    biped_3.avi\n",
    "```"
   ]
  },
  {
   "cell_type": "markdown",
   "metadata": {},
   "source": [
    "## PART 1"
   ]
  },
  {
   "cell_type": "code",
   "execution_count": 1,
   "metadata": {},
   "outputs": [],
   "source": [
    "import numpy as np\n",
    "import matplotlib.pyplot as plt\n",
    "import moviepy.editor as mpy\n",
    "from scipy.signal import convolve2d\n",
    "import cv2\n",
    "\n",
    "import os\n",
    "\n",
    "import pdb"
   ]
  },
  {
   "cell_type": "code",
   "execution_count": 2,
   "metadata": {},
   "outputs": [],
   "source": [
    "def get_video_frames(fname):\n",
    "    video = mpy.VideoFileClip(fname)\n",
    "    n_frames = video.reader.nframes\n",
    "    fps = video.fps\n",
    "    \n",
    "    frames = []\n",
    "    for i in range(n_frames):\n",
    "        frame = video.get_frame(i*1.0/fps)\n",
    "        frames.append(frame)\n",
    "        \n",
    "    return frames, n_frames, fps"
   ]
  },
  {
   "cell_type": "code",
   "execution_count": 41,
   "metadata": {},
   "outputs": [],
   "source": [
    "def lucas_kanade(image1, image2, points, window_size=5, blur_window_size=None, tau=1e-2, grayscale=False):\n",
    "    assert type(points) == list, \"Param 'points' must be type list\"\n",
    "    assert type(grayscale) == bool, \"Param 'grayscale' must be type bool\"\n",
    "    \n",
    "    if grayscale:\n",
    "        gray_im1 = image1\n",
    "        gray_im2 = image2\n",
    "    else:\n",
    "        gray_im1 = cv2.cvtColor(image1, cv2.COLOR_BGR2GRAY)\n",
    "        gray_im2 = cv2.cvtColor(image2, cv2.COLOR_BGR2GRAY)\n",
    "    \n",
    "    if blur_window_size:\n",
    "        assert type(blur_window_size) == int, \"Param 'blur_window_size' must be type int\"\n",
    "        gray_im1 = cv2.GaussianBlur(gray_im1, (blur_window_size, blur_window_size), 0)\n",
    "        gray_im2 = cv2.GaussianBlur(gray_im2, (blur_window_size, blur_window_size), 0)\n",
    "\n",
    "    of_directions = []\n",
    "    points_next = []\n",
    "    for point in points:\n",
    "        x_coord, y_coord = point\n",
    "        w = window_size // 2\n",
    "\n",
    "        x_filter = np.array([[-1, 1], [-1, 1]], np.float64) * 1/4\n",
    "        y_filter = np.array([[-1, -1], [1, 1]], np.float64) * 1/4\n",
    "        t_filter = np.array([[1, 1], [1, 1]], np.float64) * 1/4\n",
    "\n",
    "        Ix = convolve2d(gray_im1, x_filter, \"same\") + convolve2d(gray_im2, x_filter, \"same\")    # Derivative in X direction\n",
    "        Iy = convolve2d(gray_im1, y_filter, \"same\") + convolve2d(gray_im2, y_filter, \"same\")    # Derivative in Y direction\n",
    "        It = convolve2d(gray_im1, t_filter, \"same\") + convolve2d(gray_im2, -t_filter, \"same\")    # Derivative in XY direction\n",
    "\n",
    "        # Method applied below is explained here in details\n",
    "        # http://www.inf.fu-berlin.de/inst/ag-ki/rojas_home/documents/tutorials/Lucas-Kanade2.pdf\n",
    "        Sx = Ix[y_coord-w:y_coord+w+1, x_coord-w:x_coord+w+1].flatten()\n",
    "        Sy = Iy[y_coord-w:y_coord+w+1, x_coord-w:x_coord+w+1].flatten()\n",
    "        St = It[y_coord-w:y_coord+w+1, x_coord-w:x_coord+w+1].flatten()\n",
    "\n",
    "        S = np.array([[np.sum(np.power(Sx, 2)), np.sum(np.multiply(Sx, Sy))],\n",
    "                      [np.sum(np.multiply(Sx, Sy)), np.sum(np.power(Sy, 2))]])\n",
    "        U = np.array([[np.sum(np.multiply(Sx, St))],\n",
    "                      [np.sum(np.multiply(Sy, St))]])\n",
    "\n",
    "        # Instead of calculating the eigenvalues matrix by hand, I used pinv for a similar result\n",
    "        # pinv handles the ill condition for us <3\n",
    "        of_direction = np.dot(np.linalg.pinv(S), -U)\n",
    "        \n",
    "        of_directions.append(np.array([of_direction[0], of_direction[1]]))\n",
    "        x_next_coord = int(x_coord + np.round(of_direction[0]))\n",
    "        y_next_coord = int(y_coord + np.round(of_direction[1]))\n",
    "        points_next.append((x_next_coord, y_next_coord))\n",
    "    \n",
    "    of_directions = np.array(of_directions)\n",
    "    return points_next, of_directions"
   ]
  },
  {
   "cell_type": "code",
   "execution_count": 23,
   "metadata": {},
   "outputs": [],
   "source": [
    "def draw_arrow(frame, points, of_directions, scale_factor=5, thickness=1, tip_length=0.3):\n",
    "    of_directions = of_directions.reshape((-1, 2))\n",
    "    points_next = np.round(np.add(points, np.multiply(of_directions, scale_factor)))\n",
    "    \n",
    "    start_pos = tuple(np.mean(points, axis=0, dtype=np.int32))\n",
    "    end_pos = tuple(np.mean(points_next, axis=0, dtype=np.int32))\n",
    "\n",
    "    color = (255, 190, 25)    # Yellow (RGB)\n",
    "    frame = cv2.arrowedLine(frame, start_pos, end_pos, color, thickness, tipLength=tip_length)\n",
    "    return frame"
   ]
  },
  {
   "cell_type": "code",
   "execution_count": 24,
   "metadata": {},
   "outputs": [],
   "source": [
    "def render_video(frames, fname, fps=30):\n",
    "    clip = mpy.ImageSequenceClip(frames, fps=fps)\n",
    "    clip.write_videofile(fname, codec='libx264')"
   ]
  },
  {
   "cell_type": "markdown",
   "metadata": {},
   "source": [
    "Driver code below"
   ]
  },
  {
   "cell_type": "code",
   "execution_count": 42,
   "metadata": {},
   "outputs": [
    {
     "name": "stderr",
     "output_type": "stream",
     "text": [
      "t:  31%|███       | 48/154 [00:00<00:00, 431.89it/s, now=None]"
     ]
    },
    {
     "name": "stdout",
     "output_type": "stream",
     "text": [
      "Moviepy - Building video biped_1_tracked.mp4.\n",
      "Moviepy - Writing video biped_1_tracked.mp4\n",
      "\n"
     ]
    },
    {
     "name": "stderr",
     "output_type": "stream",
     "text": [
      "                                                               "
     ]
    },
    {
     "name": "stdout",
     "output_type": "stream",
     "text": [
      "Moviepy - Done !\n",
      "Moviepy - video ready biped_1_tracked.mp4\n"
     ]
    },
    {
     "name": "stderr",
     "output_type": "stream",
     "text": [
      "\r"
     ]
    }
   ],
   "source": [
    "video_fname = \"biped_1.avi\"\n",
    "frames, n_frames, fps = get_video_frames(video_fname)\n",
    "\n",
    "points = [(396, 334), (405, 335)]    # Left bot and right bot corners of hand\n",
    "\n",
    "i = 0\n",
    "while i < n_frames - 1:\n",
    "    f = frames[i]\n",
    "    f_next = frames[i+1]\n",
    "    points_next, of_directions = lucas_kanade(f, f_next, points, window_size=3, blur_window_size=3)\n",
    "    \n",
    "    frames[i] = draw_arrow(f, points, of_directions, scale_factor=10, thickness=2, tip_length=0.2)\n",
    "    points = points_next\n",
    "    i += 1\n",
    "    \n",
    "render_video(frames, \"biped_1_tracked.mp4\", fps)"
   ]
  },
  {
   "cell_type": "markdown",
   "metadata": {},
   "source": [
    "## PART 2"
   ]
  },
  {
   "cell_type": "code",
   "execution_count": 73,
   "metadata": {},
   "outputs": [],
   "source": [
    "def background_subtraction(frame, sub_corners, grayscale=False):\n",
    "    assert type(grayscale) == bool, \"Param 'grayscale' must be type bool\"\n",
    "    \n",
    "    if grayscale:\n",
    "        gray_frame = frame\n",
    "    else:\n",
    "        gray_frame = cv2.cvtColor(frame, cv2.COLOR_BGR2GRAY)\n",
    "    \n",
    "    x1, y1 = sub_corners[0]\n",
    "    x2, y2 = sub_corners[1]\n",
    "    \n",
    "    # Turn whites into blacks\n",
    "    full_mask = np.zeros(gray_frame.shape, dtype=np.bool)\n",
    "    full_mask[y1:y2, x1:x2] = gray_frame[y1:y2, x1:x2] > 235\n",
    "    gray_frame[full_mask] = 10\n",
    "    return gray_frame"
   ]
  },
  {
   "cell_type": "code",
   "execution_count": 122,
   "metadata": {},
   "outputs": [
    {
     "name": "stderr",
     "output_type": "stream",
     "text": [
      "t:  31%|███       | 48/154 [00:00<00:00, 354.86it/s, now=None]"
     ]
    },
    {
     "name": "stdout",
     "output_type": "stream",
     "text": [
      "Moviepy - Building video biped_2_tracked.avi.\n",
      "Moviepy - Writing video biped_2_tracked.avi\n",
      "\n"
     ]
    },
    {
     "name": "stderr",
     "output_type": "stream",
     "text": [
      "                                                               \r"
     ]
    },
    {
     "name": "stdout",
     "output_type": "stream",
     "text": [
      "Moviepy - Done !\n",
      "Moviepy - video ready biped_2_tracked.avi\n"
     ]
    }
   ],
   "source": [
    "video_fname = \"biped_2.avi\"\n",
    "frames, n_frames, fps = get_video_frames(video_fname)\n",
    "\n",
    "sub_corners = [(360, 280), (450, 380)]    # Top left, bottom right corners of the subtractable region\n",
    "\n",
    "sub_frames = [background_subtraction(frame, sub_corners) for frame in frames]\n",
    "\n",
    "corner_p1 = [(212, 185)]    # Top left\n",
    "corner_p2 = [(305, 184)]    # Top right\n",
    "corner_p3 = [(211, 314)]    # Bottom left\n",
    "corner_p4 = [(305, 314)]    # Bottom right\n",
    "\n",
    "hand_p = [(396, 334), (405, 335)]    # Left bot and right bot corners of hand\n",
    "\n",
    "i = 0\n",
    "while i < n_frames - 2:\n",
    "    f = sub_frames[i]\n",
    "    f_next = sub_frames[i+1]\n",
    "    f_next2 = sub_frames[i+2]\n",
    "    \n",
    "    # Use two frames ahead in time\n",
    "    corner_p1_next, cp1_of = lucas_kanade(f, f_next2, corner_p1, window_size=25, blur_window_size=3, grayscale=True)\n",
    "    frames[i] = draw_arrow(frames[i], corner_p1, cp1_of, scale_factor=15, thickness=2, tip_length=0.2)\n",
    "    corner_p2_next, cp2_of = lucas_kanade(f, f_next2, corner_p2, window_size=25, blur_window_size=3, grayscale=True)\n",
    "    frames[i] = draw_arrow(frames[i], corner_p2, cp2_of, scale_factor=15, thickness=2, tip_length=0.2)\n",
    "    corner_p3_next, cp3_of = lucas_kanade(f, f_next2, corner_p3, window_size=25, blur_window_size=3, grayscale=True)\n",
    "    frames[i] = draw_arrow(frames[i], corner_p3, cp3_of, scale_factor=15, thickness=2, tip_length=0.2)\n",
    "    corner_p4_next, cp4_of = lucas_kanade(f, f_next2, corner_p4, window_size=25, blur_window_size=3, grayscale=True)\n",
    "    frames[i] = draw_arrow(frames[i], corner_p4, cp4_of, scale_factor=15, thickness=2, tip_length=0.2)\n",
    "    # Use one frame ahead in time\n",
    "    hand_p_next, hand_of = lucas_kanade(f, f_next, hand_p, window_size=7, blur_window_size=3, grayscale=True)\n",
    "    frames[i] = draw_arrow(frames[i], hand_p, hand_of, scale_factor=10, thickness=2, tip_length=0.2)\n",
    "    hand_p = hand_p_next\n",
    "    i += 1\n",
    "    \n",
    "render_video(frames, \"biped_2_tracked.avi\", fps)"
   ]
  },
  {
   "cell_type": "code",
   "execution_count": 109,
   "metadata": {},
   "outputs": [
    {
     "data": {
      "image/png": "[encoded data removed]",
      "text/plain": [
       "<Figure size 432x288 with 1 Axes>"
      ]
     },
     "metadata": {
      "needs_background": "light"
     },
     "output_type": "display_data"
    }
   ],
   "source": [
    "# frame1 = cv2.cvtColor(frames[0], cv2.COLOR_BGR2GRAY)\n",
    "plt.imshow(frames[0][180:190, 300:310, :])\n",
    "# plt.imshow(sub_frames[0])\n",
    "# plt.imshow(sub_frames[0][240:400, 320:480])\n",
    "# print(sub_frames[0][340, 380])\n",
    "# plt.imshow(frames[0])\n",
    "# plt.imshow(frame1)\n",
    "plt.grid(True)\n",
    "# plt.axis(False)\n",
    "# plt.savefig(\"vid2_frame1.png\")"
   ]
  },
  {
   "cell_type": "markdown",
   "metadata": {},
   "source": [
    "## PART 3"
   ]
  }
 ],
 "metadata": {
  "kernelspec": {
   "display_name": "Python 3",
   "language": "python",
   "name": "python3"
  },
  "language_info": {
   "codemirror_mode": {
    "name": "ipython",
    "version": 3
   },
   "file_extension": ".py",
   "mimetype": "text/x-python",
   "name": "python",
   "nbconvert_exporter": "python",
   "pygments_lexer": "ipython3",
   "version": "3.7.9"
  }
 },
 "nbformat": 4,
 "nbformat_minor": 4
}
