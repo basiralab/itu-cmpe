{
 "cells": [
  {
   "cell_type": "markdown",
   "metadata": {},
   "source": [
    "#### Before you run the notebook, make sure the homework files provided are in the same directory.\n",
    "```\n",
    "150180705/  \n",
    "    hw4.ipynb  \n",
    "    biped_1.avi\n",
    "    biped_2.avi\n",
    "    biped_3.avi\n",
    "```"
   ]
  },
  {
   "cell_type": "markdown",
   "metadata": {},
   "source": [
    "## PART 1"
   ]
  },
  {
   "cell_type": "code",
   "execution_count": 1,
   "metadata": {},
   "outputs": [],
   "source": [
    "import numpy as np\n",
    "import matplotlib.pyplot as plt\n",
    "import moviepy.editor as mpy\n",
    "from scipy.signal import convolve2d\n",
    "import cv2\n",
    "\n",
    "import os"
   ]
  },
  {
   "cell_type": "code",
   "execution_count": 2,
   "metadata": {},
   "outputs": [],
   "source": [
    "def get_video_frames(fname):\n",
    "    video = mpy.VideoFileClip(fname)\n",
    "    n_frames = video.reader.nframes\n",
    "    fps = video.fps\n",
    "    \n",
    "    frames = []\n",
    "    for i in range(n_frames):\n",
    "        frame = video.get_frame(i*1.0/fps)\n",
    "        frames.append(frame)\n",
    "        \n",
    "    return frames, n_frames, fps"
   ]
  },
  {
   "cell_type": "code",
   "execution_count": 3,
   "metadata": {},
   "outputs": [],
   "source": [
    "def lucas_kanade(image1, image2, points, window_size=5, blur_window_size=None, tau=1e-2, grayscale=False):\n",
    "    assert type(points) == list, \"Param 'points' must be type list\"\n",
    "    assert type(grayscale) == bool, \"Param 'grayscale' must be type bool\"\n",
    "    \n",
    "    if grayscale:\n",
    "        gray_im1 = image1\n",
    "        gray_im2 = image2\n",
    "    else:\n",
    "        gray_im1 = cv2.cvtColor(image1, cv2.COLOR_BGR2GRAY)\n",
    "        gray_im2 = cv2.cvtColor(image2, cv2.COLOR_BGR2GRAY)\n",
    "    \n",
    "    if blur_window_size:\n",
    "        assert type(blur_window_size) == int, \"Param 'blur_window_size' must be type int\"\n",
    "        gray_im1 = cv2.GaussianBlur(gray_im1, (blur_window_size, blur_window_size), 0)\n",
    "        gray_im2 = cv2.GaussianBlur(gray_im2, (blur_window_size, blur_window_size), 0)\n",
    "\n",
    "    of_directions = []\n",
    "    points_next = []\n",
    "    for point in points:\n",
    "        x_coord, y_coord = point\n",
    "        w = window_size // 2\n",
    "\n",
    "        x_filter = np.array([[-1, 1], [-1, 1]], np.float64) * 1/4\n",
    "        y_filter = np.array([[-1, -1], [1, 1]], np.float64) * 1/4\n",
    "        t_filter = np.array([[1, 1], [1, 1]], np.float64) * 1/4\n",
    "\n",
    "        Ix = convolve2d(gray_im1, x_filter, \"same\") + convolve2d(gray_im2, x_filter, \"same\")    # Derivative in X direction\n",
    "        Iy = convolve2d(gray_im1, y_filter, \"same\") + convolve2d(gray_im2, y_filter, \"same\")    # Derivative in Y direction\n",
    "        It = convolve2d(gray_im1, t_filter, \"same\") + convolve2d(gray_im2, -t_filter, \"same\")    # Derivative in XY direction\n",
    "\n",
    "        # Method applied below is explained here in details\n",
    "        # http://www.inf.fu-berlin.de/inst/ag-ki/rojas_home/documents/tutorials/Lucas-Kanade2.pdf\n",
    "        Sx = Ix[y_coord-w:y_coord+w+1, x_coord-w:x_coord+w+1].flatten()\n",
    "        Sy = Iy[y_coord-w:y_coord+w+1, x_coord-w:x_coord+w+1].flatten()\n",
    "        St = It[y_coord-w:y_coord+w+1, x_coord-w:x_coord+w+1].flatten()\n",
    "\n",
    "        S = np.array([[np.sum(np.power(Sx, 2)), np.sum(np.multiply(Sx, Sy))],\n",
    "                      [np.sum(np.multiply(Sx, Sy)), np.sum(np.power(Sy, 2))]])\n",
    "        U = np.array([[np.sum(np.multiply(Sx, St))],\n",
    "                      [np.sum(np.multiply(Sy, St))]])\n",
    "\n",
    "        # Instead of calculating the eigenvalues matrix by hand, I used pinv for a similar result\n",
    "        # pinv handles the ill condition for us <3\n",
    "        of_direction = np.dot(np.linalg.pinv(S), -U)\n",
    "        \n",
    "        of_directions.append(np.array([of_direction[0], of_direction[1]]))\n",
    "        x_next_coord = int(x_coord + np.round(of_direction[0]))\n",
    "        y_next_coord = int(y_coord + np.round(of_direction[1]))\n",
    "        points_next.append((x_next_coord, y_next_coord))\n",
    "    \n",
    "    of_directions = np.array(of_directions)\n",
    "    return points_next, of_directions"
   ]
  },
  {
   "cell_type": "code",
   "execution_count": 4,
   "metadata": {},
   "outputs": [],
   "source": [
    "def draw_arrow(frame, points, of_directions, scale_factor=5, color=(255, 190, 25), thickness=1, tip_length=0.3):\n",
    "    of_directions = of_directions.reshape((-1, 2))\n",
    "    points_next = np.round(np.add(points, np.multiply(of_directions, scale_factor)))\n",
    "    \n",
    "    start_pos = tuple(np.mean(points, axis=0, dtype=np.int32))\n",
    "    end_pos = tuple(np.mean(points_next, axis=0, dtype=np.int32))\n",
    "\n",
    "    # Default value for color is yellow (RGB)\n",
    "    frame = cv2.arrowedLine(frame, start_pos, end_pos, color, thickness, tipLength=tip_length)\n",
    "    return frame"
   ]
  },
  {
   "cell_type": "code",
   "execution_count": 5,
   "metadata": {},
   "outputs": [],
   "source": [
    "def render_video(frames, fname, fps=30):\n",
    "    clip = mpy.ImageSequenceClip(frames, fps=fps)\n",
    "    clip.write_videofile(fname, codec='libx264')"
   ]
  },
  {
   "cell_type": "markdown",
   "metadata": {},
   "source": [
    "Driver code below"
   ]
  },
  {
   "cell_type": "code",
   "execution_count": 6,
   "metadata": {},
   "outputs": [
    {
     "name": "stderr",
     "output_type": "stream",
     "text": [
      "t:  31%|███       | 48/154 [00:00<00:00, 406.67it/s, now=None]"
     ]
    },
    {
     "name": "stdout",
     "output_type": "stream",
     "text": [
      "Moviepy - Building video biped_1_tracked.avi.\n",
      "Moviepy - Writing video biped_1_tracked.avi\n",
      "\n"
     ]
    },
    {
     "name": "stderr",
     "output_type": "stream",
     "text": [
      "                                                               "
     ]
    },
    {
     "name": "stdout",
     "output_type": "stream",
     "text": [
      "Moviepy - Done !\n",
      "Moviepy - video ready biped_1_tracked.avi\n"
     ]
    },
    {
     "name": "stderr",
     "output_type": "stream",
     "text": [
      "\r"
     ]
    }
   ],
   "source": [
    "video_fname = \"biped_1.avi\"\n",
    "frames, n_frames, fps = get_video_frames(video_fname)\n",
    "\n",
    "points = [(396, 334), (405, 335)]    # Left bot and right bot corners of hand\n",
    "\n",
    "i = 0\n",
    "while i < n_frames - 1:\n",
    "    f = frames[i]\n",
    "    f_next = frames[i+1]\n",
    "    points_next, of_directions = lucas_kanade(f, f_next, points, window_size=3, blur_window_size=3)\n",
    "    \n",
    "    frames[i] = draw_arrow(f, points, of_directions, scale_factor=10, thickness=2, tip_length=0.2)\n",
    "    points = points_next\n",
    "    i += 1\n",
    "    \n",
    "render_video(frames, \"biped_1_tracked.avi\", fps)"
   ]
  },
  {
   "cell_type": "markdown",
   "metadata": {},
   "source": [
    "## PART 2"
   ]
  },
  {
   "cell_type": "code",
   "execution_count": 7,
   "metadata": {},
   "outputs": [],
   "source": [
    "def background_subtraction(frame, sub_corners, upper_threshold, lower_threshold, grayscale=False):\n",
    "    assert type(grayscale) == bool, \"Param 'grayscale' must be type bool\"\n",
    "    \n",
    "    if grayscale:\n",
    "        gray_frame = frame\n",
    "    else:\n",
    "        gray_frame = cv2.cvtColor(frame, cv2.COLOR_BGR2GRAY)\n",
    "    \n",
    "    x1, y1 = sub_corners[0]\n",
    "    x2, y2 = sub_corners[1]\n",
    "    \n",
    "    # Turn whites into blacks\n",
    "    full_mask = np.zeros(gray_frame.shape, dtype=np.bool)\n",
    "    full_mask[y1:y2, x1:x2] = np.logical_or(gray_frame[y1:y2, x1:x2] > upper_threshold, gray_frame[y1:y2, x1:x2] < lower_threshold)\n",
    "    gray_frame[full_mask] = 0\n",
    "    return gray_frame"
   ]
  },
  {
   "cell_type": "code",
   "execution_count": 8,
   "metadata": {},
   "outputs": [
    {
     "name": "stderr",
     "output_type": "stream",
     "text": [
      "t:  31%|███       | 48/154 [00:00<00:00, 352.13it/s, now=None]"
     ]
    },
    {
     "name": "stdout",
     "output_type": "stream",
     "text": [
      "Moviepy - Building video biped_2_tracked.avi.\n",
      "Moviepy - Writing video biped_2_tracked.avi\n",
      "\n"
     ]
    },
    {
     "name": "stderr",
     "output_type": "stream",
     "text": [
      "                                                               \r"
     ]
    },
    {
     "name": "stdout",
     "output_type": "stream",
     "text": [
      "Moviepy - Done !\n",
      "Moviepy - video ready biped_2_tracked.avi\n"
     ]
    }
   ],
   "source": [
    "video_fname = \"biped_2.avi\"\n",
    "frames, n_frames, fps = get_video_frames(video_fname)\n",
    "\n",
    "sub_corners = [(360, 280), (450, 380)]    # Top left, bottom right corners of the subtractable region\n",
    "\n",
    "sub_frames = [background_subtraction(frame, sub_corners, upper_threshold=235, lower_threshold=20) for frame in frames]\n",
    "\n",
    "corner_p1 = [(212, 185)]    # Top left\n",
    "corner_p2 = [(305, 184)]    # Top right\n",
    "corner_p3 = [(211, 314)]    # Bottom left\n",
    "corner_p4 = [(305, 314)]    # Bottom right\n",
    "\n",
    "corner_p1_ofs = []\n",
    "corner_p2_ofs = []\n",
    "corner_p3_ofs = []\n",
    "corner_p4_ofs = []\n",
    "\n",
    "hand_p = [(396, 334), (405, 335)]    # Left bot and right bot corners of hand\n",
    "hand_p_ofs = []\n",
    "\n",
    "i = 0\n",
    "while i < n_frames - 2:\n",
    "    f = sub_frames[i]\n",
    "    f_next = sub_frames[i+1]\n",
    "    f_next2 = sub_frames[i+2]\n",
    "    \n",
    "    # Use two frames ahead in time\n",
    "    corner_p1_next, cp1_of = lucas_kanade(f, f_next2, corner_p1, window_size=25, blur_window_size=3, grayscale=True)\n",
    "    frames[i] = draw_arrow(frames[i], corner_p1, cp1_of, scale_factor=10, thickness=2, tip_length=0.2)\n",
    "    corner_p1_ofs.append(cp1_of)\n",
    "    corner_p2_next, cp2_of = lucas_kanade(f, f_next2, corner_p2, window_size=25, blur_window_size=3, grayscale=True)\n",
    "    frames[i] = draw_arrow(frames[i], corner_p2, cp2_of, scale_factor=10, thickness=2, tip_length=0.2)\n",
    "    corner_p2_ofs.append(cp2_of)\n",
    "    corner_p3_next, cp3_of = lucas_kanade(f, f_next2, corner_p3, window_size=25, blur_window_size=3, grayscale=True)\n",
    "    frames[i] = draw_arrow(frames[i], corner_p3, cp3_of, scale_factor=10, thickness=2, tip_length=0.2)\n",
    "    corner_p3_ofs.append(cp3_of)\n",
    "    corner_p4_next, cp4_of = lucas_kanade(f, f_next2, corner_p4, window_size=25, blur_window_size=3, grayscale=True)\n",
    "    frames[i] = draw_arrow(frames[i], corner_p4, cp4_of, scale_factor=10, thickness=2, tip_length=0.2)\n",
    "    corner_p4_ofs.append(cp4_of)\n",
    "    # Use one frame ahead in time\n",
    "    hand_p_next, hand_of = lucas_kanade(f, f_next, hand_p, window_size=7, blur_window_size=3, grayscale=True)\n",
    "    frames[i] = draw_arrow(frames[i], hand_p, hand_of, scale_factor=10, thickness=2, tip_length=0.2)\n",
    "    hand_p_ofs.append(hand_of)\n",
    "    hand_p = hand_p_next\n",
    "    i += 1\n",
    "    \n",
    "render_video(frames, \"biped_2_tracked.avi\", fps)"
   ]
  },
  {
   "cell_type": "markdown",
   "metadata": {},
   "source": [
    "## PART 3"
   ]
  },
  {
   "cell_type": "code",
   "execution_count": 9,
   "metadata": {},
   "outputs": [],
   "source": [
    "def calculate_mse(of1, of2, verbose=True):\n",
    "    assert type(of1) == np.ndarray, \"Param 'of1' must be of type numpy array\"\n",
    "    assert type(of2) == np.ndarray, \"Param 'of2' must be of type numpy array\"\n",
    "    mse = np.mean(np.square(of1 - of2), axis=1).reshape((-1, 2))    # MSE per frame\n",
    "    mse = np.mean(mse, axis=0)    # Mean of MSEs along x and y axes\n",
    "    if verbose:\n",
    "        print(\"~o~ Mean Squared Error ~o~\\nAlong Horizontal Axis: {:.4f}\\nAlong Vertical Axis: {:.4f}\\nTotal Error: {:.4f}\".format(mse[0], mse[1], np.sum(mse)))\n",
    "    return np.sum(mse)"
   ]
  },
  {
   "cell_type": "code",
   "execution_count": 10,
   "metadata": {},
   "outputs": [
    {
     "name": "stderr",
     "output_type": "stream",
     "text": [
      "t:  31%|███       | 48/154 [00:00<00:00, 352.90it/s, now=None]"
     ]
    },
    {
     "name": "stdout",
     "output_type": "stream",
     "text": [
      "Moviepy - Building video biped_3_tracked.avi.\n",
      "Moviepy - Writing video biped_3_tracked.avi\n",
      "\n"
     ]
    },
    {
     "name": "stderr",
     "output_type": "stream",
     "text": [
      "                                                               \r"
     ]
    },
    {
     "name": "stdout",
     "output_type": "stream",
     "text": [
      "Moviepy - Done !\n",
      "Moviepy - video ready biped_3_tracked.avi\n"
     ]
    }
   ],
   "source": [
    "video_fname = \"biped_3.avi\"\n",
    "frames, n_frames, fps = get_video_frames(video_fname)\n",
    "\n",
    "sub_corners = [(360, 240), (450, 420)]    # Top left, bottom right corners of the subtractable region\n",
    "sub_frames = [background_subtraction(frame, sub_corners, upper_threshold=220, lower_threshold=130) for frame in frames]\n",
    "\n",
    "corner_p1 = [(212, 185)]    # Top left\n",
    "corner_p2 = [(305, 184)]    # Top right\n",
    "corner_p3 = [(211, 314)]    # Bottom left\n",
    "corner_p4 = [(305, 314)]    # Bottom right\n",
    "\n",
    "corner_p1_ofs2 = []\n",
    "corner_p2_ofs2 = []\n",
    "corner_p3_ofs2 = []\n",
    "corner_p4_ofs2 = []\n",
    "\n",
    "hand_p = [(396, 334), (405, 335)]    # Left bot and right bot corners of hand\n",
    "hand_p_ofs2 = []\n",
    "\n",
    "i = 0\n",
    "while i < n_frames - 2:\n",
    "    f = sub_frames[i]\n",
    "    f_next = sub_frames[i+1]\n",
    "    f_next2 = sub_frames[i+2]\n",
    "    \n",
    "    # Use two frames ahead in time\n",
    "    corner_p1_next, cp1_of = lucas_kanade(f, f_next2, corner_p1, window_size=25, blur_window_size=3, grayscale=True)\n",
    "#     frames[i] = draw_arrow(frames[i], corner_p1, cp1_of, scale_factor=10, thickness=2, tip_length=0.2)\n",
    "    corner_p1_ofs2.append(cp1_of)\n",
    "    corner_p2_next, cp2_of = lucas_kanade(f, f_next2, corner_p2, window_size=25, blur_window_size=3, grayscale=True)\n",
    "#     frames[i] = draw_arrow(frames[i], corner_p2, cp2_of, scale_factor=10, thickness=2, tip_length=0.2)\n",
    "    corner_p2_ofs2.append(cp2_of)\n",
    "    corner_p3_next, cp3_of = lucas_kanade(f, f_next2, corner_p3, window_size=25, blur_window_size=3, grayscale=True)\n",
    "#     frames[i] = draw_arrow(frames[i], corner_p3, cp3_of, scale_factor=10, thickness=2, tip_length=0.2)\n",
    "    corner_p3_ofs2.append(cp3_of)\n",
    "    corner_p4_next, cp4_of = lucas_kanade(f, f_next2, corner_p4, window_size=25, blur_window_size=3, grayscale=True)\n",
    "#     frames[i] = draw_arrow(frames[i], corner_p4, cp4_of, scale_factor=10, thickness=2, tip_length=0.2)\n",
    "    corner_p4_ofs2.append(cp4_of)\n",
    "    # Use one frame ahead in time\n",
    "    hand_p_next, hand_of = lucas_kanade(f, f_next, hand_p, window_size=13, blur_window_size=3, grayscale=True)\n",
    "    frames[i] = draw_arrow(frames[i], hand_p, hand_of, scale_factor=10, thickness=2, tip_length=0.2)\n",
    "    hand_p_ofs2.append(hand_of)\n",
    "    hand_p = hand_p_next\n",
    "    i += 1\n",
    "\n",
    "render_video(frames, \"biped_3_tracked.avi\", fps)"
   ]
  },
  {
   "cell_type": "markdown",
   "metadata": {},
   "source": [
    "#### Error Before Correction"
   ]
  },
  {
   "cell_type": "code",
   "execution_count": 11,
   "metadata": {},
   "outputs": [
    {
     "name": "stdout",
     "output_type": "stream",
     "text": [
      "~o~ Mean Squared Error ~o~\n",
      "Along Horizontal Axis: 1.2143\n",
      "Along Vertical Axis: 1.3136\n",
      "Total Error: 2.5279\n"
     ]
    }
   ],
   "source": [
    "hand_gt = np.mean(hand_p_ofs, axis=1)\n",
    "hand_shaky = np.mean(hand_p_ofs2, axis=1)\n",
    "total_error = calculate_mse(hand_gt, hand_shaky, verbose=True)"
   ]
  },
  {
   "cell_type": "markdown",
   "metadata": {},
   "source": [
    "#### Correction"
   ]
  },
  {
   "cell_type": "code",
   "execution_count": 12,
   "metadata": {},
   "outputs": [],
   "source": [
    "corners_gt = np.concatenate((corner_p1_ofs, corner_p2_ofs, corner_p3_ofs, corner_p4_ofs), axis=1)\n",
    "corners_shaky = np.concatenate((corner_p1_ofs2, corner_p2_ofs2, corner_p3_ofs2, corner_p4_ofs2), axis=1)\n",
    "corners_gt_mean = np.mean(corners_gt, axis=1)\n",
    "corners_shaky_mean = np.mean(corners_shaky, axis=1)\n",
    "\n",
    "norm_term = -np.power(np.mean(corners_gt_mean) + np.mean(corners_shaky_mean), 3)\n",
    "correction = np.subtract(corners_shaky_mean, corners_gt_mean)/norm_term\n",
    "hand_corrected = np.add(hand_shaky, correction)"
   ]
  },
  {
   "cell_type": "markdown",
   "metadata": {},
   "source": [
    "#### Error After Correction"
   ]
  },
  {
   "cell_type": "code",
   "execution_count": 13,
   "metadata": {},
   "outputs": [
    {
     "name": "stdout",
     "output_type": "stream",
     "text": [
      "~o~ Mean Squared Error ~o~\n",
      "Along Horizontal Axis: 1.1903\n",
      "Along Vertical Axis: 1.2914\n",
      "Total Error: 2.4816\n"
     ]
    }
   ],
   "source": [
    "total_corrected_error = calculate_mse(hand_gt, hand_corrected, verbose=True)"
   ]
  },
  {
   "cell_type": "code",
   "execution_count": 14,
   "metadata": {},
   "outputs": [
    {
     "name": "stdout",
     "output_type": "stream",
     "text": [
      "Error Reduction Percentage: 1.8312%\n"
     ]
    }
   ],
   "source": [
    "print(\"Error Reduction Percentage: {:.4f}%\".format(100 - total_corrected_error*100/total_error))"
   ]
  },
  {
   "cell_type": "code",
   "execution_count": 15,
   "metadata": {},
   "outputs": [
    {
     "name": "stderr",
     "output_type": "stream",
     "text": [
      "t:  30%|██▉       | 46/154 [00:00<00:00, 458.75it/s, now=None]"
     ]
    },
    {
     "name": "stdout",
     "output_type": "stream",
     "text": [
      "Moviepy - Building video biped_3_corrected.avi.\n",
      "Moviepy - Writing video biped_3_corrected.avi\n",
      "\n"
     ]
    },
    {
     "name": "stderr",
     "output_type": "stream",
     "text": [
      "                                                               \r"
     ]
    },
    {
     "name": "stdout",
     "output_type": "stream",
     "text": [
      "Moviepy - Done !\n",
      "Moviepy - video ready biped_3_corrected.avi\n"
     ]
    }
   ],
   "source": [
    "video_fname = \"biped_3.avi\"\n",
    "frames, n_frames, fps = get_video_frames(video_fname)\n",
    "\n",
    "sub_corners = [(360, 240), (450, 420)]    # Top left, bottom right corners of the subtractable region\n",
    "sub_frames = [background_subtraction(frame, sub_corners, upper_threshold=220, lower_threshold=130) for frame in frames]\n",
    "hand_p = [(396, 334), (405, 335)]    # Left bot and right bot corners of hand\n",
    "\n",
    "i = 0\n",
    "while i < n_frames - 2:\n",
    "    f = sub_frames[i]\n",
    "    f_next = sub_frames[i+1]\n",
    "    hand_p_next, hand_of = lucas_kanade(f, f_next, hand_p, window_size=13, blur_window_size=3, grayscale=True)\n",
    "    # Draw the tracked arrows in blue\n",
    "    frames[i] = draw_arrow(frames[i], hand_p, hand_of, scale_factor=10, color=(0, 0, 255), thickness=3, tip_length=0.3)\n",
    "    # Overlay with corrected arrows in yellow\n",
    "    frames[i] = draw_arrow(frames[i], hand_p, hand_corrected[i], scale_factor=10, thickness=2, tip_length=0.2)\n",
    "    hand_p = hand_p_next\n",
    "    i += 1\n",
    "    \n",
    "render_video(frames, \"biped_3_corrected.avi\", fps)"
   ]
  }
 ],
 "metadata": {
  "kernelspec": {
   "display_name": "Python 3",
   "language": "python",
   "name": "python3"
  },
  "language_info": {
   "codemirror_mode": {
    "name": "ipython",
    "version": 3
   },
   "file_extension": ".py",
   "mimetype": "text/x-python",
   "name": "python",
   "nbconvert_exporter": "python",
   "pygments_lexer": "ipython3",
   "version": "3.7.9"
  }
 },
 "nbformat": 4,
 "nbformat_minor": 4
}
