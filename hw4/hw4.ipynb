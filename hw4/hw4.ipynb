{
 "cells": [
  {
   "cell_type": "markdown",
   "metadata": {},
   "source": [
    "#### Before you run the notebook, make sure the homework files provided are in the same directory.\n",
    "```\n",
    "150180705/  \n",
    "    hw4.ipynb  \n",
    "    biped_1.avi\n",
    "    biped_2.avi\n",
    "    biped_3.avi\n",
    "```"
   ]
  },
  {
   "cell_type": "markdown",
   "metadata": {},
   "source": [
    "## PART 1"
   ]
  },
  {
   "cell_type": "code",
   "execution_count": 24,
   "metadata": {},
   "outputs": [],
   "source": [
    "import numpy as np\n",
    "import matplotlib.pyplot as plt\n",
    "import moviepy.editor as mpy\n",
    "from scipy.signal import convolve2d\n",
    "import cv2\n",
    "\n",
    "import os\n",
    "\n",
    "import pdb"
   ]
  },
  {
   "cell_type": "code",
   "execution_count": 46,
   "metadata": {},
   "outputs": [],
   "source": [
    "def get_video_frames(fname):\n",
    "    video = mpy.VideoFileClip(fname)\n",
    "    n_frames = video.reader.nframes\n",
    "    fps = video.fps\n",
    "    \n",
    "    frames = []\n",
    "    for i in range(n_frames):\n",
    "        frame = video.get_frame(i*1.0/fps)\n",
    "        frames.append(frame)\n",
    "        \n",
    "    return frames, n_frames, fps"
   ]
  },
  {
   "cell_type": "code",
   "execution_count": 80,
   "metadata": {},
   "outputs": [],
   "source": [
    "def lucas_kanade(image1, image2, points, window_size=5, blur_window_size=None, tau=1e-2):\n",
    "    assert type(points) == list, \"Param 'points' must be type list\"\n",
    "    gray_im1 = cv2.cvtColor(image1, cv2.COLOR_BGR2GRAY)\n",
    "    gray_im2 = cv2.cvtColor(image2, cv2.COLOR_BGR2GRAY)\n",
    "    \n",
    "    if blur_window_size:\n",
    "        assert type(blur_window_size) == int, \"Param 'blur_window_size' must be type int\"\n",
    "        gray_im1 = cv2.GaussianBlur(gray_im1, (blur_window_size, blur_window_size), 0)\n",
    "        gray_im2 = cv2.GaussianBlur(gray_im2, (blur_window_size, blur_window_size), 0)\n",
    "\n",
    "    points_next = []\n",
    "    for point in points:\n",
    "        x_coord, y_coord = point\n",
    "        w = window_size // 2\n",
    "\n",
    "        x_filter = np.array([[-1, 1], [-1, 1]], np.float64) * 1/4\n",
    "        y_filter = np.array([[-1, -1], [1, 1]], np.float64) * 1/4\n",
    "        t_filter = np.ones((2,2), np.float64) * 1/4\n",
    "\n",
    "        Ix = convolve2d(gray_im1, x_filter, \"same\") + convolve2d(gray_im2, x_filter, \"same\")    # Derivative in X direction\n",
    "        Iy = convolve2d(gray_im1, y_filter, \"same\") + convolve2d(gray_im2, y_filter, \"same\")    # Derivative in Y direction\n",
    "        It = convolve2d(gray_im1, t_filter, \"same\") + convolve2d(gray_im2, -t_filter, \"same\")    # Derivative in XY direction\n",
    "\n",
    "        # Method applied below is explained here in details\n",
    "        # http://www.inf.fu-berlin.de/inst/ag-ki/rojas_home/documents/tutorials/Lucas-Kanade2.pdf\n",
    "        Sx = Ix[y_coord-w:y_coord+w+1, x_coord-w:x_coord+w+1].flatten()\n",
    "        Sy = Iy[y_coord-w:y_coord+w+1, x_coord-w:x_coord+w+1].flatten()\n",
    "        St = It[y_coord-w:y_coord+w+1, x_coord-w:x_coord+w+1].flatten()\n",
    "\n",
    "        S = np.array([[np.sum(np.power(Sx, 2)), np.sum(np.multiply(Sx, Sy))],\n",
    "                      [np.sum(np.multiply(Sx, Sy)), np.sum(np.power(Sy, 2))]])\n",
    "        U = np.array([[np.sum(np.multiply(Sx, St))],\n",
    "                      [np.sum(np.multiply(Sy, St))]])\n",
    "        # Check if the matrix is ill-conditioned, and replace with non-disturbing 0 flow\n",
    "        if np.min(np.linalg.eig(S)[0]) < tau:\n",
    "            of_direction = np.array([[0], [0]], np.float64)\n",
    "        else:\n",
    "            # Instead of calculating the eigenvalues matrix by hand, I used pinv for a similar result\n",
    "            of_direction = np.dot(np.linalg.pinv(S), -U)\n",
    "        \n",
    "        x_next_coord = int(x_coord + np.round(of_direction[0]))\n",
    "        y_next_coord = int(y_coord + np.round(of_direction[1]))\n",
    "        points_next.append((x_next_coord, y_next_coord))\n",
    "        \n",
    "    return points_next"
   ]
  },
  {
   "cell_type": "code",
   "execution_count": 53,
   "metadata": {},
   "outputs": [],
   "source": [
    "def draw_arrow(frame, start_pos, end_pos):\n",
    "    color = (255, 190, 25)    # Yellow\n",
    "    frame = cv2.arrowedLine(frame, start_pos, end_pos, color, 3, tipLength=0.1)\n",
    "    return frame"
   ]
  },
  {
   "cell_type": "code",
   "execution_count": 42,
   "metadata": {},
   "outputs": [],
   "source": [
    "def render_video(frames, fname, fps=30):\n",
    "    clip = mpy.ImageSequenceClip(frames, fps=fps)\n",
    "    clip.write_videofile(fname, codec='libx264')"
   ]
  },
  {
   "cell_type": "markdown",
   "metadata": {},
   "source": [
    "Driver code below"
   ]
  },
  {
   "cell_type": "code",
   "execution_count": 65,
   "metadata": {},
   "outputs": [
    {
     "name": "stdout",
     "output_type": "stream",
     "text": [
      "[1.5 1.5 3. ]\n"
     ]
    }
   ],
   "source": [
    "# a = [(1, 2, 3), (2, 1, 3)]\n",
    "# print(np.mean(a, axis=0))"
   ]
  },
  {
   "cell_type": "code",
   "execution_count": 82,
   "metadata": {},
   "outputs": [
    {
     "name": "stdout",
     "output_type": "stream",
     "text": [
      "(399, 330) (399, 330)\n",
      "(399, 330) (399, 330)\n",
      "(399, 330) (400, 329)\n",
      "(400, 329) (400, 329)\n",
      "(400, 329) (400, 329)\n",
      "(400, 329) (400, 329)\n",
      "(400, 329) (401, 330)\n",
      "(401, 330) (401, 330)\n",
      "(401, 330) (401, 330)\n",
      "(401, 330) (401, 330)\n",
      "(401, 330) (401, 330)\n",
      "(401, 330) (401, 330)\n",
      "(401, 330) (401, 330)\n",
      "(401, 330) (401, 330)\n",
      "(401, 330) (401, 330)\n",
      "(401, 330) (401, 330)\n",
      "(401, 330) (401, 330)\n",
      "(401, 330) (401, 330)\n",
      "(401, 330) (401, 330)\n",
      "(401, 330) (401, 330)\n",
      "(401, 330) (401, 330)\n",
      "(401, 330) (401, 330)\n",
      "(401, 330) (401, 330)\n",
      "(401, 330) (401, 330)\n",
      "(401, 330) (401, 330)\n",
      "(401, 330) (401, 330)\n",
      "(401, 330) (401, 330)\n",
      "(401, 330) (401, 330)\n",
      "(401, 330) (401, 330)\n",
      "(401, 330) (400, 330)\n",
      "(400, 330) (401, 330)\n",
      "(401, 330) (402, 330)\n",
      "(402, 330) (403, 330)\n",
      "(403, 330) (404, 330)\n",
      "(404, 330) (405, 330)\n",
      "(405, 330) (407, 330)\n",
      "(407, 330) (408, 330)\n",
      "(408, 330) (409, 330)\n",
      "(409, 330) (410, 330)\n",
      "(410, 330) (410, 330)\n",
      "(410, 330) (411, 330)\n",
      "(411, 330) (412, 330)\n",
      "(412, 330) (412, 329)\n",
      "(412, 329) (413, 329)\n",
      "(413, 329) (413, 329)\n",
      "(413, 329) (413, 329)\n",
      "(413, 329) (412, 330)\n",
      "(412, 330) (412, 330)\n",
      "(412, 330) (411, 330)\n",
      "(411, 330) (411, 331)\n",
      "(411, 331) (410, 331)\n",
      "(410, 331) (409, 332)\n",
      "(409, 332) (408, 332)\n",
      "(408, 332) (407, 332)\n",
      "(407, 332) (407, 334)\n",
      "(407, 334) (406, 333)\n",
      "(406, 333) (406, 333)\n",
      "(406, 333) (406, 333)\n",
      "(406, 333) (406, 333)\n",
      "(406, 333) (406, 333)\n",
      "(406, 333) (406, 333)\n",
      "(406, 333) (407, 333)\n",
      "(407, 333) (407, 333)\n",
      "(407, 333) (407, 333)\n",
      "(407, 333) (407, 333)\n",
      "(407, 333) (406, 328)\n",
      "(406, 328) (405, 329)\n",
      "(405, 329) (405, 329)\n",
      "(405, 329) (404, 330)\n",
      "(404, 330) (404, 329)\n",
      "(404, 329) (404, 328)\n",
      "(404, 328) (404, 328)\n",
      "(404, 328) (404, 328)\n",
      "(404, 328) (404, 328)\n",
      "(404, 328) (404, 327)\n",
      "(404, 327) (404, 327)\n",
      "(404, 327) (404, 328)\n",
      "(404, 328) (404, 328)\n",
      "(404, 328) (404, 328)\n",
      "(404, 328) (404, 328)\n",
      "(404, 328) (404, 328)\n",
      "(404, 328) (405, 328)\n",
      "(405, 328) (405, 328)\n",
      "(405, 328) (405, 328)\n",
      "(405, 328) (404, 327)\n",
      "(404, 327) (404, 327)\n",
      "(404, 327) (403, 327)\n",
      "(403, 327) (403, 327)\n",
      "(403, 327) (402, 326)\n",
      "(402, 326) (402, 326)\n",
      "(402, 326) (402, 325)\n",
      "(402, 325) (403, 325)\n",
      "(403, 325) (404, 325)\n",
      "(404, 325) (404, 325)\n",
      "(404, 325) (405, 325)\n",
      "(405, 325) (406, 326)\n",
      "(406, 326) (406, 326)\n",
      "(406, 326) (406, 325)\n",
      "(406, 325) (406, 325)\n",
      "(406, 325) (406, 325)\n",
      "(406, 325) (406, 325)\n",
      "(406, 325) (406, 324)\n",
      "(406, 324) (406, 324)\n",
      "(406, 324) (406, 324)\n",
      "(406, 324) (406, 324)\n",
      "(406, 324) (406, 324)\n",
      "(406, 324) (406, 324)\n",
      "(406, 324) (406, 324)\n",
      "(406, 324) (405, 324)\n",
      "(405, 324) (404, 324)\n",
      "(404, 324) (404, 324)\n",
      "(404, 324) (404, 324)\n",
      "(404, 324) (403, 324)\n",
      "(403, 324) (402, 324)\n",
      "(402, 324) (402, 324)\n",
      "(402, 324) (401, 324)\n",
      "(401, 324) (400, 324)\n",
      "(400, 324) (399, 324)\n",
      "(399, 324) (399, 324)\n",
      "(399, 324) (399, 324)\n",
      "(399, 324) (399, 324)\n",
      "(399, 324) (400, 324)\n",
      "(400, 324) (400, 324)\n",
      "(400, 324) (401, 324)\n",
      "(401, 324) (402, 324)\n",
      "(402, 324) (402, 324)\n",
      "(402, 324) (403, 324)\n",
      "(403, 324) (403, 324)\n",
      "(403, 324) (403, 325)\n",
      "(403, 325) (402, 325)\n",
      "(402, 325) (403, 324)\n",
      "(403, 324) (403, 324)\n",
      "(403, 324) (403, 324)\n",
      "(403, 324) (403, 324)\n",
      "(403, 324) (402, 324)\n",
      "(402, 324) (402, 324)\n",
      "(402, 324) (403, 324)\n",
      "(403, 324) (404, 324)\n",
      "(404, 324) (404, 324)\n",
      "(404, 324) (404, 324)\n",
      "(404, 324) (404, 324)\n",
      "(404, 324) (404, 324)\n",
      "(404, 324) (404, 324)\n",
      "(404, 324) (404, 324)\n",
      "(404, 324) (404, 324)\n",
      "(404, 324) (404, 325)\n",
      "(404, 325) (404, 324)\n",
      "(404, 324) (404, 324)\n",
      "(404, 324) (404, 324)\n",
      "(404, 324) (405, 325)\n",
      "(405, 325) (405, 325)\n",
      "(405, 325) (406, 325)\n"
     ]
    },
    {
     "name": "stderr",
     "output_type": "stream",
     "text": [
      "t:  31%|███       | 48/154 [00:00<00:00, 422.52it/s, now=None]"
     ]
    },
    {
     "name": "stdout",
     "output_type": "stream",
     "text": [
      "(406, 325) (406, 325)\n",
      "Moviepy - Building video biped_1_tracked.avi.\n",
      "Moviepy - Writing video biped_1_tracked.avi\n",
      "\n"
     ]
    },
    {
     "name": "stderr",
     "output_type": "stream",
     "text": [
      "                                                               "
     ]
    },
    {
     "name": "stdout",
     "output_type": "stream",
     "text": [
      "Moviepy - Done !\n",
      "Moviepy - video ready biped_1_tracked.avi\n"
     ]
    },
    {
     "name": "stderr",
     "output_type": "stream",
     "text": [
      "\r"
     ]
    }
   ],
   "source": [
    "video_fname = \"biped_1.avi\"\n",
    "frames, n_frames, fps = get_video_frames(video_fname)\n",
    "\n",
    "points = [(397, 325), (402, 325), (405, 335), (395, 335)]\n",
    "for i, f in enumerate(frames):\n",
    "    if i == n_frames - 1:\n",
    "        break\n",
    "    f_next = frames[i+1]\n",
    "    points_next = lucas_kanade(f, f_next, points, window_size=5, blur_window_size=3)\n",
    "    \n",
    "    p = tuple(np.mean(points, axis=0, dtype=np.int32))\n",
    "    p_next = tuple(np.mean(points_next, axis=0, dtype=np.int32))\n",
    "    print(p, p_next)\n",
    "#     pdb.set_trace()\n",
    "    \n",
    "    f = draw_arrow(f, p, p_next)\n",
    "    points = points_next\n",
    "    \n",
    "render_video(frames, \"biped_1_tracked.avi\", fps)"
   ]
  },
  {
   "cell_type": "code",
   "execution_count": 77,
   "metadata": {},
   "outputs": [
    {
     "data": {
      "text/plain": [
       "<matplotlib.image.AxesImage at 0x7f6b241dbd10>"
      ]
     },
     "execution_count": 77,
     "metadata": {},
     "output_type": "execute_result"
    },
    {
     "data": {
      "image/png": "[encoded data removed]",
      "text/plain": [
       "<Figure size 432x288 with 1 Axes>"
      ]
     },
     "metadata": {
      "needs_background": "light"
     },
     "output_type": "display_data"
    }
   ],
   "source": [
    "plt.imshow(frames[0][320:340, 390:410, :])"
   ]
  }
 ],
 "metadata": {
  "kernelspec": {
   "display_name": "Python 3",
   "language": "python",
   "name": "python3"
  },
  "language_info": {
   "codemirror_mode": {
    "name": "ipython",
    "version": 3
   },
   "file_extension": ".py",
   "mimetype": "text/x-python",
   "name": "python",
   "nbconvert_exporter": "python",
   "pygments_lexer": "ipython3",
   "version": "3.7.9"
  }
 },
 "nbformat": 4,
 "nbformat_minor": 4
}
